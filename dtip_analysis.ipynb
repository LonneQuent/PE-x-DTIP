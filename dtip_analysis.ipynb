{
 "cells": [
  {
   "cell_type": "code",
   "execution_count": 1,
   "id": "8effd2ac",
   "metadata": {},
   "outputs": [
    {
     "name": "stderr",
     "output_type": "stream",
     "text": [
      "C:\\Users\\theod\\Documents\\Git\\PE-x-DTIP\\dtip2_env\\lib\\site-packages\\umap\\distances.py:1063: NumbaDeprecationWarning: \u001b[1mThe 'nopython' keyword argument was not supplied to the 'numba.jit' decorator. The implicit default value for this argument is currently False, but it will be changed to True in Numba 0.59.0. See https://numba.readthedocs.io/en/stable/reference/deprecation.html#deprecation-of-object-mode-fall-back-behaviour-when-using-jit for details.\u001b[0m\n",
      "  @numba.jit()\n",
      "C:\\Users\\theod\\Documents\\Git\\PE-x-DTIP\\dtip2_env\\lib\\site-packages\\umap\\distances.py:1071: NumbaDeprecationWarning: \u001b[1mThe 'nopython' keyword argument was not supplied to the 'numba.jit' decorator. The implicit default value for this argument is currently False, but it will be changed to True in Numba 0.59.0. See https://numba.readthedocs.io/en/stable/reference/deprecation.html#deprecation-of-object-mode-fall-back-behaviour-when-using-jit for details.\u001b[0m\n",
      "  @numba.jit()\n",
      "C:\\Users\\theod\\Documents\\Git\\PE-x-DTIP\\dtip2_env\\lib\\site-packages\\umap\\distances.py:1086: NumbaDeprecationWarning: \u001b[1mThe 'nopython' keyword argument was not supplied to the 'numba.jit' decorator. The implicit default value for this argument is currently False, but it will be changed to True in Numba 0.59.0. See https://numba.readthedocs.io/en/stable/reference/deprecation.html#deprecation-of-object-mode-fall-back-behaviour-when-using-jit for details.\u001b[0m\n",
      "  @numba.jit()\n",
      "C:\\Users\\theod\\Documents\\Git\\PE-x-DTIP\\dtip2_env\\lib\\site-packages\\umap\\umap_.py:660: NumbaDeprecationWarning: \u001b[1mThe 'nopython' keyword argument was not supplied to the 'numba.jit' decorator. The implicit default value for this argument is currently False, but it will be changed to True in Numba 0.59.0. See https://numba.readthedocs.io/en/stable/reference/deprecation.html#deprecation-of-object-mode-fall-back-behaviour-when-using-jit for details.\u001b[0m\n",
      "  @numba.jit()\n"
     ]
    }
   ],
   "source": [
    "#Data processing\n",
    "import pandas as pd\n",
    "import regex as re\n",
    "from unidecode import unidecode\n",
    "\n",
    "#NLP\n",
    "\n",
    "import nltk\n",
    "from nltk.corpus import stopwords \n",
    "from nltk import word_tokenize\n",
    "from nltk.stem import SnowballStemmer\n",
    "from collections import Counter\n",
    "\n",
    "\n",
    "\n",
    "#Sentiment analysis\n",
    "from transformers import AutoTokenizer, AutoModelForSequenceClassification\n",
    "import sklearn\n",
    "from sklearn.metrics import confusion_matrix,ConfusionMatrixDisplay\n",
    "import matplotlib as plt\n",
    "\n",
    "\n",
    "#Topic Modelling\n",
    "from sklearn.feature_extraction.text import TfidfVectorizer\n",
    "from sklearn.model_selection import train_test_split\n",
    "from sklearn.linear_model import LogisticRegression\n",
    "from sklearn.metrics import accuracy_score\n",
    "from gensim.models import LdaModel\n",
    "from gensim.models import CoherenceModel\n",
    "from gensim.corpora import Dictionary\n",
    "from bertopic import BERTopic\n",
    "\n",
    "#Custom class\n",
    "from sw import Sw\n",
    "\n",
    "\n",
    "\n"
   ]
  },
  {
   "cell_type": "code",
   "execution_count": 2,
   "id": "647386b4",
   "metadata": {},
   "outputs": [
    {
     "name": "stderr",
     "output_type": "stream",
     "text": [
      "C:\\Users\\theod\\AppData\\Local\\Temp\\ipykernel_8288\\3738070429.py:5: DtypeWarning: Columns (42,43) have mixed types. Specify dtype option on import or set low_memory=False.\n",
      "  df = pd.read_csv(\"export-experiences-clean.csv\", delimiter=';', encoding='iso-8859-1', dtype=dtype_options)\n"
     ]
    },
    {
     "name": "stdout",
     "output_type": "stream",
     "text": [
      "<class 'pandas.core.frame.DataFrame'>\n",
      "RangeIndex: 295 entries, 0 to 294\n",
      "Data columns (total 6 columns):\n",
      " #   Column       Non-Null Count  Dtype \n",
      "---  ------       --------------  ----- \n",
      " 0   Index        295 non-null    int64 \n",
      " 1   Adresse      295 non-null    object\n",
      " 2   Auteur       295 non-null    object\n",
      " 3   Date         295 non-null    object\n",
      " 4   Note         295 non-null    int64 \n",
      " 5   Commentaire  73 non-null     object\n",
      "dtypes: int64(2), object(4)\n",
      "memory usage: 14.0+ KB\n"
     ]
    }
   ],
   "source": [
    "import pandas as pd\n",
    "#After some processing we can directly open some generated csv\n",
    "\n",
    "dtype_options = {'Tags métier typologie  3': str, 'Evaluation  réponse structure 3 par auteur': str}\n",
    "df = pd.read_csv(\"export-experiences-clean.csv\", delimiter=';', encoding='iso-8859-1', dtype=dtype_options)\n",
    "#df.info()\n",
    "\n",
    "#Csv files used for the Sentiment analysis\n",
    "bal_df=pd.read_csv(\"balanced_dataset.csv\")\n",
    "\n",
    "\n",
    "#Csv file to study the case of Gendarmerie Nationale in the Topic Modelling\n",
    "str_df=pd.read_csv(\"export-structures.csv\",delimiter=';',encoding='utf-8')\n",
    "\n",
    "#Resulting file from the scrapping\n",
    "\n",
    "scrap_df=pd.read_csv(\"commentaires.csv\",delimiter=';',encoding=\"iso-8859-1\")\n",
    "scrap_df.info()"
   ]
  },
  {
   "cell_type": "code",
   "execution_count": null,
   "id": "5fe1f085",
   "metadata": {},
   "outputs": [],
   "source": []
  },
  {
   "cell_type": "code",
   "execution_count": 3,
   "id": "b83b9144",
   "metadata": {},
   "outputs": [],
   "source": [
    "#Useful methods\n",
    "\n",
    "#Sentiment analysis to predict class\n",
    "def apply_model(column):\n",
    "    tokens=tokenizer.encode_plus(column,add_special_tokens=True,padding=True,truncation=True, return_tensors=\"pt\")\n",
    "    outputs=model(**tokens)\n",
    "    logits=outputs.logits\n",
    "    predicted_class=logits.argmax().item()\n",
    "    print(predicted_class)\n",
    "    return(predicted_class)   \n",
    "\n",
    "\n",
    "def filtrer_mots(texte):\n",
    "    mots_filtrés = [mot for mot in texte.split() if len(mot) >= 3]\n",
    "    return ' '.join(mots_filtrés)\n",
    "\n",
    "\n",
    "def text_processing(data,column_name):\n",
    "    data['desc']=data[column_name].apply(lambda x : re.sub(r'[^a-zA-Z]\\s',' ', x))\n",
    "    data['desc']=data['desc'].apply(lambda x: x.lower())\n",
    "    data['desc']=data['desc'].apply(lambda x: re.sub(r'\\d+',' ',x))\n",
    "    data['desc']=data['desc'].str.replace('\\W', ' ', regex=True)\n",
    "    data['desc']=data['desc'].map(lambda x: unidecode(x))    \n",
    "    data['desc']=data['desc'].apply(lambda x: filtrer_mots(x))   \n",
    "      \n",
    "    \n",
    "    \n",
    "def token_processing(data,stoplist,stop_list_stemming=[],verbose=False,nb_occurence=1):\n",
    "    #Tokenisation\n",
    "    token_df=pd.DataFrame(data[\"desc\"])\n",
    "    token_df[\"desc_token\"]= token_df[\"desc\"].apply(lambda x: nltk.word_tokenize(x))   \n",
    "    \n",
    "    #Removing useless words           \n",
    "    token_df[\"desc_stop\"]= token_df[\"desc_token\"].apply(lambda x: [item for item in x if item not in stoplist])\n",
    "    \n",
    "    #Stemming\n",
    "    sstem=SnowballStemmer(language='french')\n",
    "    token_df[\"desc_stem\"]=token_df[\"desc_stop\"].apply(lambda row:[sstem.stem(word) for word in row])     \n",
    "        \n",
    "    corpus_texte = ' '.join(token_df[\"desc_stem\"].map(lambda x: ' '.join(x)).tolist())\n",
    "    compteur_mots = Counter(corpus_texte.split())\n",
    "    mots_uniques = set([mot for mot, occurence in compteur_mots.items() if occurence <=nb_occurence]) \n",
    "    \n",
    "    token_df[\"desc_stem+\"]=token_df[\"desc_stem\"].apply(lambda x: [item for item in x if item not in mots_uniques])\n",
    "    \n",
    "    #Filtering the stemming words\n",
    "    token_df[\"desc_stem++\"]=token_df[\"desc_stem+\"].apply(lambda x: [item for item in x if item not in stop_list_stemming])\n",
    "   \n",
    "    #TfIdfVectorizer\n",
    "    vectorizer = TfidfVectorizer() \n",
    "    data[\"desc_clean\"]=token_df[\"desc_stem++\"].apply(lambda x: \" \".join(x))\n",
    "    X = vectorizer.fit_transform(data[\"desc_clean\"])\n",
    "   \n",
    "    if(verbose):\n",
    "        #print(vectorizer.vocabulary_)        \n",
    "        print(\"################################################################\")\n",
    "        print_word_counter(data)\n",
    "    \n",
    "    return token_df,X\n",
    "\n",
    "\n",
    "#Method for Topic Modeling \n",
    "\n",
    "#Not Really used\n",
    "def find_best_LDA(token_data,iterable=range(5,12)):\n",
    "    for i in iterable:\n",
    "        \n",
    "        corpus=token_data[\"desc_stem+\"].tolist()\n",
    "        dictionary=Dictionary(corpus)\n",
    "        bow_corpus=[dictionary.doc2bow(doc) for doc in corpus]\n",
    "        lda_model=LdaModel(bow_corpus,num_topics=i, id2word=dictionary,passes=10)\n",
    "        \n",
    "        \n",
    "        coherence_model_cv=CoherenceModel(model=lda_model,texts=corpus,dictionary=dictionary,coherence='c_v')\n",
    "        coherence_score_cv=coherence_model_cv.get_coherence()\n",
    "\n",
    "        coherence_model_umass = CoherenceModel(model=lda_model, texts=corpus, dictionary=dictionary, coherence='u_mass')\n",
    "        coherence_score_umass = coherence_model_umass.get_coherence()\n",
    "\n",
    "        coherence_model_cnpmi = CoherenceModel(model=lda_model, texts=corpus, dictionary=dictionary, coherence='c_npmi')\n",
    "        coherence_score_cnpmi = coherence_model_cnpmi.get_coherence()\n",
    "               \n",
    "        print(f\"For {i} components, the coherence score_cv is: {coherence_score_cv}\")\n",
    "        print(f\"For {i} components, the coherence score_umass is: {coherence_score_umass}\")\n",
    "        print(f\"For {i} components, the coherence score_cnpmi is: {coherence_score_cnpmi}\\n\\n\")\n",
    "\n",
    "#Utilisation de BerTopic\n",
    "\n",
    "def print_word_counter(data):\n",
    "    if \"desc_clean\" not in data.columns:\n",
    "        print(\"you can't use this method before token_processing\")\n",
    "        return\n",
    "    data_list=data[\"desc_clean\"].str.split()\n",
    "    words= data_list.sum()\n",
    "    compteur_mots = Counter(words)\n",
    "    print(compteur_mots)\n",
    "    return compteur_mots\n",
    "\n",
    "def use_BerTopic_model(data):\n",
    "    model = BERTopic(nr_topics=\"auto\",verbose=True,language=\"French\")\n",
    "    if(\"desc_clean\" not in data.columns):\n",
    "        print(\"you must use token_processing before !\")\n",
    "        return\n",
    "    docs=data[\"desc_clean\"].tolist()\n",
    "    topics, probabilities = model.fit_transform(docs)\n",
    "    print(model.get_topic_freq().head(11))\n",
    "    return model,topics,probabilities\n",
    "\n",
    "def get_negative_comments_from_service(service_name):    \n",
    "    #Codées en dur pour lire le frame des structures et celui des commentaires\n",
    "    new_df=str_df[str_df[\"Intitulé du réseau\"]==service_name]\n",
    "    join_df=pd.merge(new_df,df,left_on='﻿\"Code SP+ de la structure\"',right_on=\"ID structure 1\",how=\"inner\")\n",
    "    negative_df=join_df[join_gend_df[\"Ressenti usager\"]=='Négatif']\n",
    "    negative_df_selection=negative_df.loc[:,[\"Description\",\"Adresse\",\"Intitulé de la structure\"]]\n",
    "    return negative_df\n",
    "\n"
   ]
  },
  {
   "cell_type": "markdown",
   "id": "86aa3306",
   "metadata": {},
   "source": [
    "# Traitement de la donnée"
   ]
  },
  {
   "cell_type": "markdown",
   "id": "5e3cdb07",
   "metadata": {},
   "source": [
    "# Analyse de sentiments"
   ]
  },
  {
   "cell_type": "raw",
   "id": "388e63e1",
   "metadata": {},
   "source": [
    "Nous allons utiliser le modèle nlptown/bert-base-multilingual-uncased-sentiment "
   ]
  },
  {
   "cell_type": "code",
   "execution_count": 4,
   "id": "c520f7ce",
   "metadata": {},
   "outputs": [],
   "source": [
    "tokenizer = AutoTokenizer.from_pretrained(\"nlptown/bert-base-multilingual-uncased-sentiment\")\n",
    "model = AutoModelForSequenceClassification.from_pretrained(\"nlptown/bert-base-multilingual-uncased-sentiment\")\n"
   ]
  },
  {
   "cell_type": "raw",
   "id": "14819f42",
   "metadata": {},
   "source": [
    "Nous allons maintenant essayer de tester ce modèle sur des messages dont la répartition des étiquettes est un peu plus équilibrées"
   ]
  },
  {
   "cell_type": "code",
   "execution_count": 5,
   "id": "134592c3",
   "metadata": {},
   "outputs": [],
   "source": [
    "# Filtrer les données positives\n",
    "df_pos = df[df[\"Ressenti usager\"] == \"Positif\"].head(400)\n",
    "# Filtrer les données neutres\n",
    "df_neutre = df[df[\"Ressenti usager\"] == \"Neutre\"].head(400)\n",
    "# Filtrer les données négatives\n",
    "df_neg = df[df[\"Ressenti usager\"] == \"Négatif\"].head(400)\n"
   ]
  },
  {
   "cell_type": "code",
   "execution_count": 6,
   "id": "96c9df77",
   "metadata": {},
   "outputs": [
    {
     "data": {
      "text/plain": [
       "'\\ndf_complet=pd.concat([df_pos,df_neutre,df_neg])\\ndf_complet = df_complet.sample(frac=1).reset_index(drop=True)\\ndf_complet[\"eval\"]=df_complet[\"Description\"].apply(apply_model)\\ndf_complet[\"sentiment_eval\"]=df_complet[\"eval\"].apply(lambda x: \"Positif\" if x>2 else \"Négatif\" if x<2 else \"Neutre\")\\ndf_complet.to_csv(\"balanced_dataset.csv\")\\n'"
      ]
     },
     "execution_count": 6,
     "metadata": {},
     "output_type": "execute_result"
    }
   ],
   "source": [
    "'''\n",
    "df_complet=pd.concat([df_pos,df_neutre,df_neg])\n",
    "df_complet = df_complet.sample(frac=1).reset_index(drop=True)\n",
    "df_complet[\"eval\"]=df_complet[\"Description\"].apply(apply_model)\n",
    "df_complet[\"sentiment_eval\"]=df_complet[\"eval\"].apply(lambda x: \"Positif\" if x>2 else \"Négatif\" if x<2 else \"Neutre\")\n",
    "df_complet.to_csv(\"balanced_dataset.csv\")\n",
    "'''"
   ]
  },
  {
   "cell_type": "code",
   "execution_count": 7,
   "id": "475e7b09",
   "metadata": {},
   "outputs": [],
   "source": [
    "#bal_df=pd.read_csv(\"balanced_dataset.csv\")"
   ]
  },
  {
   "cell_type": "code",
   "execution_count": 8,
   "id": "7d2f5a1a",
   "metadata": {},
   "outputs": [
    {
     "data": {
      "text/plain": [
       "<sklearn.metrics._plot.confusion_matrix.ConfusionMatrixDisplay at 0x1f063730d30>"
      ]
     },
     "execution_count": 8,
     "metadata": {},
     "output_type": "execute_result"
    },
    {
     "data": {
      "image/png": "[encoded data removed]",
      "text/plain": [
       "<Figure size 640x480 with 2 Axes>"
      ]
     },
     "metadata": {},
     "output_type": "display_data"
    }
   ],
   "source": [
    "dtip_labels=bal_df[\"Ressenti usager\"].values.tolist()\n",
    "predicted_labels=bal_df[\"sentiment_eval\"].values.tolist()\n",
    "labels=[\"Positif\",\"Négatif\",\"Neutre\"]\n",
    "\n",
    "results=confusion_matrix(dtip_labels,predicted_labels,labels=labels)\n",
    "disp = ConfusionMatrixDisplay(confusion_matrix=results,display_labels=labels)\n",
    "disp.plot()"
   ]
  },
  {
   "cell_type": "raw",
   "id": "642124f8",
   "metadata": {},
   "source": [
    "Cette matrice de confusion montre que le modèle a du mal à prédire les commentaires neutres, et d'autant plus ceux qui semblent avoir une légère connotation négative. Nous allons quand même devoir essayer de dessiner les sujets récurrents pour savoir si les messages négatifs sont suffisamment constructifs pour être mieux analysés que par les messages neutres plus ambivalents (sachant que nous avons choisi qu'un message est neutre si le rating associé par le modèle est de 3 exactement). "
   ]
  },
  {
   "cell_type": "markdown",
   "id": "c9e37b4f",
   "metadata": {},
   "source": [
    "# Topic modelling"
   ]
  },
  {
   "cell_type": "raw",
   "id": "3c7f3ffd",
   "metadata": {},
   "source": [
    "Nous allons avoir besoin de traiter la colonne Description et faire du pre-processing si nous voulons utiliser un modèle de LDA"
   ]
  },
  {
   "cell_type": "code",
   "execution_count": 9,
   "id": "d4a058d2",
   "metadata": {},
   "outputs": [
    {
     "data": {
      "text/plain": [
       "Index(['ID expérience', 'Etat expérience', 'Statut de l'expérience',\n",
       "       'Date de publication', 'Titre', 'Description', 'Posté comme',\n",
       "       'Ressenti usager', 'Code INSEE Département usager',\n",
       "       'Intitulé département usager', 'Intitulé région usager',\n",
       "       'Code INSEE Région usager', 'Pays', 'Intitulé Typologie 1',\n",
       "       'Code Postal typologie 1', 'Pays Typologie  1', 'Canaux Typologie 1',\n",
       "       'Intitulé Typologie 2', 'Code Postal typologie 2', 'Pays Typologie 2',\n",
       "       'Canaux Typologie 2', 'Intitulé Typologie 3', 'Code Postal typologie 3',\n",
       "       'Pays Typologie 3', 'Canaux Typologie 3', 'Hors structure',\n",
       "       'ID structure 1', 'Intitulé structure 1',\n",
       "       'Evaluation utile réponse structure 1 par visiteurs',\n",
       "       'Evaluation inutile réponse structure 1 par visiteurs',\n",
       "       'Evaluation  réponse structure 1 par auteur', 'ID structure 2',\n",
       "       'Intitulé structure 2', 'ID structure 3', 'Intitulé structure  3',\n",
       "       'Accessibilité', 'Information/Explication', 'Relation', 'Réactivité',\n",
       "       'Simplicité/Complexité', 'Expériences Similaires',\n",
       "       'Amélioration de service à considérer', 'Action',\n",
       "       'Date action réalisée', 'Date action engagée', 'Tags Métiers', 'desc',\n",
       "       'desc_clean'],\n",
       "      dtype='object')"
      ]
     },
     "execution_count": 9,
     "metadata": {},
     "output_type": "execute_result"
    }
   ],
   "source": [
    "\n",
    "stoplist=stopwords.words(\"french\")\n",
    "text_processing(df,\"Description\")\n",
    "token_df,X_full = token_processing(df,stoplist=stoplist)\n",
    "\n",
    "df.columns\n"
   ]
  },
  {
   "cell_type": "code",
   "execution_count": 10,
   "id": "92d25fd8",
   "metadata": {},
   "outputs": [
    {
     "data": {
      "text/plain": [
       "'\\nfor i in range(12, 20):\\n    corpus = token_df[\"desc_stem++\"].tolist()\\n    dictionary = Dictionary(corpus)\\n    bow_corpus = [dictionary.doc2bow(doc) for doc in corpus]\\n    lda_model = LdaModel(bow_corpus, num_topics=i, id2word=dictionary, passes=10)\\n    coherence_model = CoherenceModel(model=lda_model, texts=corpus, dictionary=dictionary, coherence=\\'c_v\\')\\n    coherence_score = coherence_model.get_coherence()\\n    print(f\"For {i} components, the coherence score is: {coherence_score}\")\\n'"
      ]
     },
     "execution_count": 10,
     "metadata": {},
     "output_type": "execute_result"
    }
   ],
   "source": [
    "'''\n",
    "for i in range(12, 20):\n",
    "    corpus = token_df[\"desc_stem++\"].tolist()\n",
    "    dictionary = Dictionary(corpus)\n",
    "    bow_corpus = [dictionary.doc2bow(doc) for doc in corpus]\n",
    "    lda_model = LdaModel(bow_corpus, num_topics=i, id2word=dictionary, passes=10)\n",
    "    coherence_model = CoherenceModel(model=lda_model, texts=corpus, dictionary=dictionary, coherence='c_v')\n",
    "    coherence_score = coherence_model.get_coherence()\n",
    "    print(f\"For {i} components, the coherence score is: {coherence_score}\")\n",
    "'''    "
   ]
  },
  {
   "cell_type": "raw",
   "id": "4dd1288e",
   "metadata": {},
   "source": [
    "Il est évident que le vocabulaire utilisé dans ces commentaires est beaucoup trop de vaste. Dans la suite nous allons nous concentrer sur certains secteurs en particulier."
   ]
  },
  {
   "cell_type": "markdown",
   "id": "19b928e8",
   "metadata": {},
   "source": [
    "# Etude des référentiels structures SP+"
   ]
  },
  {
   "cell_type": "code",
   "execution_count": 11,
   "id": "cc505078",
   "metadata": {},
   "outputs": [
    {
     "data": {
      "text/plain": [
       "Intitulé structure 1\n",
       "Hors-structures                                                          2773\n",
       "ANTS                                                                     1893\n",
       "Direction des Français à l'étranger et de l'administration consulaire    1040\n",
       "CARSAT Rhône-Alpes                                                        531\n",
       "CNAM                                                                      431\n",
       "                                                                         ... \n",
       "Service des Impôts des particuliers (SIP) MULHOUSE                          1\n",
       "Ambassade de France en Birmanie                                             1\n",
       "Préfecture de l'Aveyron                                                     1\n",
       "CPAM PERIGUEUX                                                              1\n",
       "Bibliothèque publique d'Information                                         1\n",
       "Name: count, Length: 1117, dtype: int64"
      ]
     },
     "execution_count": 11,
     "metadata": {},
     "output_type": "execute_result"
    }
   ],
   "source": [
    "df[\"Intitulé structure 1\"].value_counts()"
   ]
  },
  {
   "cell_type": "raw",
   "id": "7fb51e72",
   "metadata": {},
   "source": [
    "C'est cette colonne que nous allons essayer de joindre avec le fichier export-structures.csv"
   ]
  },
  {
   "cell_type": "code",
   "execution_count": 12,
   "id": "3bfb90a1",
   "metadata": {},
   "outputs": [],
   "source": [
    "#str_df=pd.read_csv(\"export-structures.csv\",delimiter=';',encoding='utf-8')"
   ]
  },
  {
   "cell_type": "raw",
   "id": "e7ffea09",
   "metadata": {},
   "source": [
    "On va d'abord s'intéresser au cas de la Gendarmerie nationale"
   ]
  },
  {
   "cell_type": "code",
   "execution_count": null,
   "id": "eb34671c",
   "metadata": {},
   "outputs": [],
   "source": [
    "\n",
    "    "
   ]
  },
  {
   "cell_type": "code",
   "execution_count": 13,
   "id": "6933d88d",
   "metadata": {},
   "outputs": [],
   "source": [
    "gend_df=str_df[str_df[\"Intitulé du réseau\"]==\"Gendarmerie Nationale\"]"
   ]
  },
  {
   "cell_type": "code",
   "execution_count": 14,
   "id": "a839d04b",
   "metadata": {},
   "outputs": [],
   "source": [
    "join_gend_df=pd.merge(gend_df,df,left_on='﻿\"Code SP+ de la structure\"',right_on=\"ID structure 1\",how=\"inner\")"
   ]
  },
  {
   "cell_type": "raw",
   "id": "c83aea92",
   "metadata": {},
   "source": [
    "Pour la suite de l'exercice nous allons définir quelques fonctions pour preprocess nos descriptions"
   ]
  },
  {
   "cell_type": "code",
   "execution_count": 15,
   "id": "e11e9a60",
   "metadata": {},
   "outputs": [
    {
     "name": "stdout",
     "output_type": "stream",
     "text": [
      "<class 'pandas.core.frame.DataFrame'>\n",
      "Index: 126 entries, 5 to 631\n",
      "Data columns (total 3 columns):\n",
      " #   Column                    Non-Null Count  Dtype \n",
      "---  ------                    --------------  ----- \n",
      " 0   Description               126 non-null    object\n",
      " 1   Adresse                   126 non-null    object\n",
      " 2   Intitulé de la structure  126 non-null    object\n",
      "dtypes: object(3)\n",
      "memory usage: 3.9+ KB\n"
     ]
    }
   ],
   "source": [
    "gend_df_neg=join_gend_df[join_gend_df[\"Ressenti usager\"]=='Négatif']\n",
    "\n",
    "gend_df_neg=gend_df_neg.loc[:,[\"Description\",\"Adresse\",\"Intitulé de la structure\"]]\n",
    "\n",
    "gend_df_neg.info()"
   ]
  },
  {
   "cell_type": "code",
   "execution_count": 16,
   "id": "1fb73e6b",
   "metadata": {},
   "outputs": [],
   "source": [
    "text_processing(gend_df_neg,\"Description\")"
   ]
  },
  {
   "cell_type": "code",
   "execution_count": 17,
   "id": "963a0484",
   "metadata": {},
   "outputs": [],
   "source": [
    "stoplist=stopwords.words(\"french\")\n",
    "\n",
    "my_sw=Sw([])\n",
    "my_sw.add_sw(Sw.custom[\"month\"])\n",
    "my_sw.add_sw(Sw.custom[\"day\"])\n",
    "my_sw.add_sw(Sw.custom[\"tempo\"])\n",
    "my_sw.add_sw(Sw.custom[\"thing\"])\n",
    "my_sw.add_sw(Sw.custom[\"pron\"])\n",
    "my_sw.add_sw(Sw.custom[\"polite\"])\n",
    "my_sw.add_sw(Sw.custom[\"verb\"])\n",
    "my_sw.add_sw(Sw.custom[\"det\"])\n",
    "my_sw.add_sw(Sw.custom[\"adj\"])\n",
    "my_sw.add_sw(Sw.custom[\"subord\"])\n",
    "my_sw.add_sw(Sw.custom[\"prep\"])\n",
    "my_sw.add_sw(Sw.custom[\"adv\"])\n",
    "my_sw.add_sw(Sw.custom[\"neg\"])\n",
    "my_sw.add_sw(Sw.custom[\"gender\"])\n",
    "my_sw.add_sw(Sw.custom[\"subj\"])\n",
    "my_sw.add_sw(Sw.custom[\"conj\"])\n",
    "\n",
    "my_custom_list=[\"gendarmer\",\"gendarm\",\"elancourt\",\"republ\",\"mallemort\",\"commissariat\",\"uze\",\"lamarch\",\"darney\",\"polic\",\"plaint\"]\n",
    "my_sw.add_sw(my_custom_list)\n",
    "buff_list=[\"port\",\"telephon\",\"plusieur\",\"avant\",\"suit\",\"public\",\"don\",'accueil',\"prend\",\"demarch\"]\n",
    "buff_list+=[\"nombreux\",\"voil\",\"aucun\",\"auss\",\"lor\",\"servic\",\"jam\",\"poul\",\"demand\",\"deux\",\"mal\",\"peu\",\"trait\"]\n",
    "buff_list+=[\"all\",\"alle\",\"allez\",\"aller\",\"allais\",\"allait\",\"quel\"]\n",
    "\n",
    "'''\n",
    "buff_list=[\"aim\",\"ose\",\"douleur\",\"peu\",\"chais\",\"premier\",\"lor\",\"mond\",\"ete\",\"actuel\",\"tas\",\"lamarch\",\"darney\",\"concern\",\"crois\"]\n",
    "buff_list+=[\"histoir\",\"effectue\",\"auss\",\"selon\",\"donc\",\"region\",\"deux\",\"allait\",\"allais\",\"remettr\",\"nez\",\"chaqu\",\"faudr\",\"avant\"]\n",
    "buff_list+=[\"voulu\",\"ecrit\",\"ecris\",\"plusieur\",\"detail\",\"meti\",\"nombreux\",\"cric\",\"tre\",\"accord\",\"all\",\"facon\",\"cle\",\"droit\"]\n",
    "buff_list+=[\"valoir\",\"aucun\",\"demarch\",\"bras\",\"fenetr\",\"genr\",\"bref\",\"categor\",\"pied\",\"environ\",\"allez\",\"choix\",\"demande\",\"mal\"]\n",
    "buff_list+=[\"servic\",\"telephon\",\"demand\",\"agent\",\"public\",\"moyen\",\"port\",\"pouv\",\"clair\",\"lign\",\"appel\"]\n",
    "\n",
    "buff_list+=[\"plaint\",\"polic\",\"seul\",\"procur\",\"prend\",\"accueil\",\"attent\",\"attend\",\"refus\",\"trouv\",\"victim\",\"depos\",\"depot\"]\n",
    "buff_list+=[\"suivr\",\"suit\",\"voul\",\"continu\",\"util\",\"efficac\",\"trouvon\",\"recu\",\"indiqu\",\"expliqu\",\"arriv\",\"sit\",\"problem\"]\n",
    "buff_list+=[\"don\",\"signal\",\"dev\",\"repons\",\"aid\",\"ver\",\"vol\",\"papi\",\"part\",\"sen\",\"venu\",\"ecoute\",\"main\",\"ecout\",\"laiss\",\"arret\",\"tel\"]\n",
    "\n",
    "\n",
    "buff_list+=[\"vais\",\"repond\",\"present\",\"voitur\",\"aller\",\"jam\",\"attendr\",\"vot\",\"besoin\",\"contr\",\"question\",\"inform\",\"vi\",\"vitesse\"]\n",
    "buff_list+=[\"just\",\"societ\",\"racont\",'attendu','fin',\"faut\",\"pend\",\"valid\",\"ven\",\"blainvill\",\"entendu\",\"alle\",\"procureur\"]\n",
    "buff_list+=[\"pre\",\"cour\",\"impossibl\",\"encor\",\"proch\",\"tour\",\"epoqu\",\"humain\",\"probabl\",\"mieux\",\"dois\",\"rend\",\"fil\"]\n",
    "'''\n",
    "my_sw.add_sw(buff_list)\n",
    "\n",
    "token_gend_df,X_gend=token_processing(gend_df_neg,stoplist,stop_list_stemming=my_sw.sw_list)"
   ]
  },
  {
   "cell_type": "code",
   "execution_count": 18,
   "id": "be0bce83",
   "metadata": {},
   "outputs": [
    {
     "data": {
      "application/vnd.jupyter.widget-view+json": {
       "model_id": "addfa97fe25541b5bf70876d7e797701",
       "version_major": 2,
       "version_minor": 0
      },
      "text/plain": [
       "Batches:   0%|          | 0/4 [00:00<?, ?it/s]"
      ]
     },
     "metadata": {},
     "output_type": "display_data"
    },
    {
     "name": "stderr",
     "output_type": "stream",
     "text": [
      "2023-06-01 09:42:10,817 - BERTopic - Transformed documents to Embeddings\n",
      "2023-06-01 09:42:22,314 - BERTopic - Reduced dimensionality\n",
      "2023-06-01 09:42:22,349 - BERTopic - Clustered reduced embeddings\n",
      "2023-06-01 09:42:22,924 - BERTopic - Reduced number of topics from 4 to 4\n"
     ]
    },
    {
     "data": {
      "text/html": [
       "<div>\n",
       "<style scoped>\n",
       "    .dataframe tbody tr th:only-of-type {\n",
       "        vertical-align: middle;\n",
       "    }\n",
       "\n",
       "    .dataframe tbody tr th {\n",
       "        vertical-align: top;\n",
       "    }\n",
       "\n",
       "    .dataframe thead th {\n",
       "        text-align: right;\n",
       "    }\n",
       "</style>\n",
       "<table border=\"1\" class=\"dataframe\">\n",
       "  <thead>\n",
       "    <tr style=\"text-align: right;\">\n",
       "      <th></th>\n",
       "      <th>Topic</th>\n",
       "      <th>Count</th>\n",
       "    </tr>\n",
       "  </thead>\n",
       "  <tbody>\n",
       "    <tr>\n",
       "      <th>0</th>\n",
       "      <td>0</td>\n",
       "      <td>46</td>\n",
       "    </tr>\n",
       "    <tr>\n",
       "      <th>1</th>\n",
       "      <td>1</td>\n",
       "      <td>40</td>\n",
       "    </tr>\n",
       "    <tr>\n",
       "      <th>2</th>\n",
       "      <td>-1</td>\n",
       "      <td>28</td>\n",
       "    </tr>\n",
       "    <tr>\n",
       "      <th>3</th>\n",
       "      <td>2</td>\n",
       "      <td>12</td>\n",
       "    </tr>\n",
       "  </tbody>\n",
       "</table>\n",
       "</div>"
      ],
      "text/plain": [
       "   Topic  Count\n",
       "0      0     46\n",
       "1      1     40\n",
       "2     -1     28\n",
       "3      2     12"
      ]
     },
     "execution_count": 18,
     "metadata": {},
     "output_type": "execute_result"
    }
   ],
   "source": [
    "model = BERTopic(nr_topics=\"5\",verbose=True,language=\"French\")\n",
    "docs=gend_df_neg[\"desc_clean\"].tolist()\n",
    "topics, probabilities = model.fit_transform(docs)\n",
    "model.get_topic_freq().head(11)"
   ]
  },
  {
   "cell_type": "code",
   "execution_count": 19,
   "id": "48c3aa54",
   "metadata": {},
   "outputs": [],
   "source": [
    "#find_best_LDA(token_gend_df,iterable=range(3,12))"
   ]
  },
  {
   "cell_type": "raw",
   "id": "36d9d4c5",
   "metadata": {},
   "source": [
    "Après maintes tentatives, les sujets concernant le procureur/procuration, arnaques bancaires et voitures ne semblent pas trop se dessiner donc nous allons ajouter les données du scrapping"
   ]
  },
  {
   "cell_type": "code",
   "execution_count": 20,
   "id": "45ccdad9",
   "metadata": {},
   "outputs": [],
   "source": [
    "#scrap_df=pd.read_csv(\"scrapping_gend.csv\",delimiter=',',encoding=\"iso-8859-1\")"
   ]
  },
  {
   "cell_type": "code",
   "execution_count": 21,
   "id": "62ecbb7d",
   "metadata": {},
   "outputs": [
    {
     "name": "stdout",
     "output_type": "stream",
     "text": [
      "<class 'pandas.core.frame.DataFrame'>\n",
      "RangeIndex: 295 entries, 0 to 294\n",
      "Data columns (total 6 columns):\n",
      " #   Column       Non-Null Count  Dtype \n",
      "---  ------       --------------  ----- \n",
      " 0   Index        295 non-null    int64 \n",
      " 1   Adresse      295 non-null    object\n",
      " 2   Auteur       295 non-null    object\n",
      " 3   Date         295 non-null    object\n",
      " 4   Note         295 non-null    int64 \n",
      " 5   Commentaire  73 non-null     object\n",
      "dtypes: int64(2), object(4)\n",
      "memory usage: 14.0+ KB\n"
     ]
    }
   ],
   "source": [
    "scrap_df.info()"
   ]
  },
  {
   "cell_type": "code",
   "execution_count": 22,
   "id": "4b1ccb51",
   "metadata": {},
   "outputs": [],
   "source": [
    "scrap_df_neg=scrap_df[scrap_df[\"Note\"]<=3]"
   ]
  },
  {
   "cell_type": "code",
   "execution_count": 23,
   "id": "9f6b1cf2",
   "metadata": {},
   "outputs": [],
   "source": [
    "filtered_df = scrap_df[scrap_df[\"Commentaire\"].notnull()]"
   ]
  },
  {
   "cell_type": "code",
   "execution_count": 24,
   "id": "a634100e",
   "metadata": {},
   "outputs": [
    {
     "name": "stdout",
     "output_type": "stream",
     "text": [
      "<class 'pandas.core.frame.DataFrame'>\n",
      "Index: 73 entries, 0 to 294\n",
      "Data columns (total 6 columns):\n",
      " #   Column       Non-Null Count  Dtype \n",
      "---  ------       --------------  ----- \n",
      " 0   Index        73 non-null     int64 \n",
      " 1   Adresse      73 non-null     object\n",
      " 2   Auteur       73 non-null     object\n",
      " 3   Date         73 non-null     object\n",
      " 4   Note         73 non-null     int64 \n",
      " 5   Commentaire  73 non-null     object\n",
      "dtypes: int64(2), object(4)\n",
      "memory usage: 4.0+ KB\n"
     ]
    }
   ],
   "source": [
    "filtered_df.info()"
   ]
  },
  {
   "cell_type": "code",
   "execution_count": 25,
   "id": "1a844d97",
   "metadata": {},
   "outputs": [],
   "source": [
    "filtered_df_neg=filtered_df[filtered_df[\"Note\"]<=3]\n",
    "filtered_df_neg[\"Description\"]=filtered_df_neg[\"Commentaire\"]"
   ]
  },
  {
   "cell_type": "code",
   "execution_count": 26,
   "id": "6e0eb9ef",
   "metadata": {},
   "outputs": [
    {
     "name": "stdout",
     "output_type": "stream",
     "text": [
      "<class 'pandas.core.frame.DataFrame'>\n",
      "Index: 35 entries, 1 to 294\n",
      "Data columns (total 7 columns):\n",
      " #   Column       Non-Null Count  Dtype \n",
      "---  ------       --------------  ----- \n",
      " 0   Index        35 non-null     int64 \n",
      " 1   Adresse      35 non-null     object\n",
      " 2   Auteur       35 non-null     object\n",
      " 3   Date         35 non-null     object\n",
      " 4   Note         35 non-null     int64 \n",
      " 5   Commentaire  35 non-null     object\n",
      " 6   Description  35 non-null     object\n",
      "dtypes: int64(2), object(5)\n",
      "memory usage: 2.2+ KB\n"
     ]
    }
   ],
   "source": [
    "filtered_df_neg.info()"
   ]
  },
  {
   "cell_type": "code",
   "execution_count": 27,
   "id": "e5942c23",
   "metadata": {},
   "outputs": [
    {
     "name": "stdout",
     "output_type": "stream",
     "text": [
      "<class 'pandas.core.frame.DataFrame'>\n",
      "Index: 126 entries, 5 to 631\n",
      "Data columns (total 5 columns):\n",
      " #   Column                    Non-Null Count  Dtype \n",
      "---  ------                    --------------  ----- \n",
      " 0   Description               126 non-null    object\n",
      " 1   Adresse                   126 non-null    object\n",
      " 2   Intitulé de la structure  126 non-null    object\n",
      " 3   desc                      126 non-null    object\n",
      " 4   desc_clean                126 non-null    object\n",
      "dtypes: object(5)\n",
      "memory usage: 5.9+ KB\n"
     ]
    }
   ],
   "source": [
    "gend_df_neg.info()"
   ]
  },
  {
   "cell_type": "code",
   "execution_count": 28,
   "id": "6fcd6560",
   "metadata": {},
   "outputs": [],
   "source": [
    "df_updated = pd.concat([gend_df_neg, filtered_df_neg], ignore_index=True)"
   ]
  },
  {
   "cell_type": "code",
   "execution_count": 29,
   "id": "8bcb15fb",
   "metadata": {},
   "outputs": [
    {
     "name": "stdout",
     "output_type": "stream",
     "text": [
      "<class 'pandas.core.frame.DataFrame'>\n",
      "RangeIndex: 161 entries, 0 to 160\n",
      "Data columns (total 10 columns):\n",
      " #   Column                    Non-Null Count  Dtype  \n",
      "---  ------                    --------------  -----  \n",
      " 0   Description               161 non-null    object \n",
      " 1   Adresse                   161 non-null    object \n",
      " 2   Intitulé de la structure  126 non-null    object \n",
      " 3   desc                      126 non-null    object \n",
      " 4   desc_clean                126 non-null    object \n",
      " 5   Index                     35 non-null     float64\n",
      " 6   Auteur                    35 non-null     object \n",
      " 7   Date                      35 non-null     object \n",
      " 8   Note                      35 non-null     float64\n",
      " 9   Commentaire               35 non-null     object \n",
      "dtypes: float64(2), object(8)\n",
      "memory usage: 12.7+ KB\n"
     ]
    }
   ],
   "source": [
    "df_updated.info()"
   ]
  },
  {
   "cell_type": "code",
   "execution_count": 30,
   "id": "086bdf29",
   "metadata": {},
   "outputs": [],
   "source": [
    "text_processing(df_updated,\"Description\")"
   ]
  },
  {
   "cell_type": "code",
   "execution_count": 64,
   "id": "a44376be",
   "metadata": {},
   "outputs": [],
   "source": [
    "pd.options.display.max_rows = 100\n",
    "#print(gend_df_neg[\"desc_clean\"][:100])\n",
    "\n",
    "my_sw.add_sw([\"apre\",\"rol\",\"blainvill\",\"quoi\",\"cas\",\"pourt\",\"quil\",\"dun\",\"quoi\",\"dois\",\"indiqu\",\"recu\",\"problem\",\"main\",\"cour\",\"promess\"])\n",
    "\n",
    "\n",
    "#my_sw.add_sw([\"appel\",\"problem\",\"pouv\",\"rol\",\"expliqu\",\"blainvill\",\"attend\",\"attendr\",\"attendu\",\"recepiss\",\"quil\",\"dun\",\"encor\",\"petit\",\"difficil\"])\n",
    "\n",
    "#my_sw.add_sw([\"coordonne\",\"present\",\"vi\",\"possibl\",\"indiqu\",\"fin\",\"ete\",\"chaqu\",\"franc\",\"dois\",\"dej\",\"vacanc\",\"plein\",\"region\"])\n",
    "\n",
    "#my_sw.add_sw([\"erreur\",\"nouveau\",\"seul\",\"pourt\",\"vais\",\"different\",\"attent\",\"lign\",\"seul\",\"dev\",\"inform\",\"arriv\",\"part\"])\n",
    "\n",
    "#my_sw.add_sw([\"travail\",\"agent\",\"quoi\",\"cour\",\"cas\",\"apparent\",\"raison\",\"pend\",\"pouvoir\",\"refusent\",\"sujet\",\"victim\",\"nouvel\",\"hont\"])"
   ]
  },
  {
   "cell_type": "code",
   "execution_count": 65,
   "id": "4f430782",
   "metadata": {},
   "outputs": [],
   "source": [
    "token_df_augmented,X_gend_with_scrapping=token_processing(df_updated,stoplist=stoplist,stop_list_stemming=my_sw.sw_list)"
   ]
  },
  {
   "cell_type": "code",
   "execution_count": 68,
   "id": "6c31bbb4",
   "metadata": {},
   "outputs": [
    {
     "data": {
      "application/vnd.jupyter.widget-view+json": {
       "model_id": "7066561ffa4542e9b00eb57d35245736",
       "version_major": 2,
       "version_minor": 0
      },
      "text/plain": [
       "Batches:   0%|          | 0/6 [00:00<?, ?it/s]"
      ]
     },
     "metadata": {},
     "output_type": "display_data"
    },
    {
     "name": "stderr",
     "output_type": "stream",
     "text": [
      "2023-06-01 09:47:43,647 - BERTopic - Transformed documents to Embeddings\n",
      "2023-06-01 09:47:46,957 - BERTopic - Reduced dimensionality\n",
      "2023-06-01 09:47:46,971 - BERTopic - Clustered reduced embeddings\n",
      "2023-06-01 09:47:47,654 - BERTopic - Reduced number of topics from 5 to 5\n"
     ]
    },
    {
     "data": {
      "text/html": [
       "<div>\n",
       "<style scoped>\n",
       "    .dataframe tbody tr th:only-of-type {\n",
       "        vertical-align: middle;\n",
       "    }\n",
       "\n",
       "    .dataframe tbody tr th {\n",
       "        vertical-align: top;\n",
       "    }\n",
       "\n",
       "    .dataframe thead th {\n",
       "        text-align: right;\n",
       "    }\n",
       "</style>\n",
       "<table border=\"1\" class=\"dataframe\">\n",
       "  <thead>\n",
       "    <tr style=\"text-align: right;\">\n",
       "      <th></th>\n",
       "      <th>Topic</th>\n",
       "      <th>Count</th>\n",
       "    </tr>\n",
       "  </thead>\n",
       "  <tbody>\n",
       "    <tr>\n",
       "      <th>0</th>\n",
       "      <td>0</td>\n",
       "      <td>52</td>\n",
       "    </tr>\n",
       "    <tr>\n",
       "      <th>1</th>\n",
       "      <td>-1</td>\n",
       "      <td>44</td>\n",
       "    </tr>\n",
       "    <tr>\n",
       "      <th>2</th>\n",
       "      <td>1</td>\n",
       "      <td>40</td>\n",
       "    </tr>\n",
       "    <tr>\n",
       "      <th>3</th>\n",
       "      <td>2</td>\n",
       "      <td>13</td>\n",
       "    </tr>\n",
       "    <tr>\n",
       "      <th>4</th>\n",
       "      <td>3</td>\n",
       "      <td>12</td>\n",
       "    </tr>\n",
       "  </tbody>\n",
       "</table>\n",
       "</div>"
      ],
      "text/plain": [
       "   Topic  Count\n",
       "0      0     52\n",
       "1     -1     44\n",
       "2      1     40\n",
       "3      2     13\n",
       "4      3     12"
      ]
     },
     "execution_count": 68,
     "metadata": {},
     "output_type": "execute_result"
    }
   ],
   "source": [
    "model = BERTopic(nr_topics=\"6\",verbose=True,language=\"French\")\n",
    "docs=df_updated[\"desc_clean\"].tolist()\n",
    "topics, probabilities = model.fit_transform(docs)\n",
    "model.get_topic_freq().head(11)"
   ]
  },
  {
   "cell_type": "code",
   "execution_count": 70,
   "id": "1da0585b",
   "metadata": {},
   "outputs": [
    {
     "data": {
      "application/vnd.plotly.v1+json": {
       "config": {
        "plotlyServerURL": "https://plot.ly"
       },
       "data": [
        {
         "marker": {
          "color": "#D55E00"
         },
         "orientation": "h",
         "type": "bar",
         "x": [
          0.02649022432771733,
          0.027015784414344282,
          0.027205925881325674,
          0.029165805046161657,
          0.033262331379007
         ],
         "xaxis": "x",
         "y": [
          "internet  ",
          "appel  ",
          "procur  ",
          "refus  ",
          "depos  "
         ],
         "yaxis": "y"
        },
        {
         "marker": {
          "color": "#0072B2"
         },
         "orientation": "h",
         "type": "bar",
         "x": [
          0.04411578108166926,
          0.046908922547256565,
          0.04927968501707278,
          0.0829072144401274,
          0.14117420160483393
         ],
         "xaxis": "x2",
         "y": [
          "repond  ",
          "patrouill  ",
          "brigad  ",
          "signal  ",
          "appel  "
         ],
         "yaxis": "y2"
        },
        {
         "marker": {
          "color": "#CC79A7"
         },
         "orientation": "h",
         "type": "bar",
         "x": [
          0.1251046936966754,
          0.137986712050891,
          0.15523505105725238,
          0.17117760183595124,
          0.17533658239794916
         ],
         "xaxis": "x3",
         "y": [
          "mail  ",
          "banqu  ",
          "cart  ",
          "bancair  ",
          "fraud  "
         ],
         "yaxis": "y3"
        },
        {
         "marker": {
          "color": "#E69F00"
         },
         "orientation": "h",
         "type": "bar",
         "x": [
          0.09374603479854718,
          0.0996814604129202,
          0.18270293552546593,
          0.29560967908541075,
          0.3452646777965607
         ],
         "xaxis": "x4",
         "y": [
          "envoy  ",
          "mair  ",
          "valid  ",
          "vot  ",
          "procur  "
         ],
         "yaxis": "y4"
        }
       ],
       "layout": {
        "annotations": [
         {
          "font": {
           "size": 16
          },
          "showarrow": false,
          "text": "Topic 0",
          "x": 0.0875,
          "xanchor": "center",
          "xref": "paper",
          "y": 1,
          "yanchor": "bottom",
          "yref": "paper"
         },
         {
          "font": {
           "size": 16
          },
          "showarrow": false,
          "text": "Topic 1",
          "x": 0.36250000000000004,
          "xanchor": "center",
          "xref": "paper",
          "y": 1,
          "yanchor": "bottom",
          "yref": "paper"
         },
         {
          "font": {
           "size": 16
          },
          "showarrow": false,
          "text": "Topic 2",
          "x": 0.6375000000000001,
          "xanchor": "center",
          "xref": "paper",
          "y": 1,
          "yanchor": "bottom",
          "yref": "paper"
         },
         {
          "font": {
           "size": 16
          },
          "showarrow": false,
          "text": "Topic 3",
          "x": 0.9125,
          "xanchor": "center",
          "xref": "paper",
          "y": 1,
          "yanchor": "bottom",
          "yref": "paper"
         }
        ],
        "height": 325,
        "hoverlabel": {
         "bgcolor": "white",
         "font": {
          "family": "Rockwell",
          "size": 16
         }
        },
        "showlegend": false,
        "template": {
         "data": {
          "bar": [
           {
            "error_x": {
             "color": "#2a3f5f"
            },
            "error_y": {
             "color": "#2a3f5f"
            },
            "marker": {
             "line": {
              "color": "white",
              "width": 0.5
             },
             "pattern": {
              "fillmode": "overlay",
              "size": 10,
              "solidity": 0.2
             }
            },
            "type": "bar"
           }
          ],
          "barpolar": [
           {
            "marker": {
             "line": {
              "color": "white",
              "width": 0.5
             },
             "pattern": {
              "fillmode": "overlay",
              "size": 10,
              "solidity": 0.2
             }
            },
            "type": "barpolar"
           }
          ],
          "carpet": [
           {
            "aaxis": {
             "endlinecolor": "#2a3f5f",
             "gridcolor": "#C8D4E3",
             "linecolor": "#C8D4E3",
             "minorgridcolor": "#C8D4E3",
             "startlinecolor": "#2a3f5f"
            },
            "baxis": {
             "endlinecolor": "#2a3f5f",
             "gridcolor": "#C8D4E3",
             "linecolor": "#C8D4E3",
             "minorgridcolor": "#C8D4E3",
             "startlinecolor": "#2a3f5f"
            },
            "type": "carpet"
           }
          ],
          "choropleth": [
           {
            "colorbar": {
             "outlinewidth": 0,
             "ticks": ""
            },
            "type": "choropleth"
           }
          ],
          "contour": [
           {
            "colorbar": {
             "outlinewidth": 0,
             "ticks": ""
            },
            "colorscale": [
             [
              0,
              "#0d0887"
             ],
             [
              0.1111111111111111,
              "#46039f"
             ],
             [
              0.2222222222222222,
              "#7201a8"
             ],
             [
              0.3333333333333333,
              "#9c179e"
             ],
             [
              0.4444444444444444,
              "#bd3786"
             ],
             [
              0.5555555555555556,
              "#d8576b"
             ],
             [
              0.6666666666666666,
              "#ed7953"
             ],
             [
              0.7777777777777778,
              "#fb9f3a"
             ],
             [
              0.8888888888888888,
              "#fdca26"
             ],
             [
              1,
              "#f0f921"
             ]
            ],
            "type": "contour"
           }
          ],
          "contourcarpet": [
           {
            "colorbar": {
             "outlinewidth": 0,
             "ticks": ""
            },
            "type": "contourcarpet"
           }
          ],
          "heatmap": [
           {
            "colorbar": {
             "outlinewidth": 0,
             "ticks": ""
            },
            "colorscale": [
             [
              0,
              "#0d0887"
             ],
             [
              0.1111111111111111,
              "#46039f"
             ],
             [
              0.2222222222222222,
              "#7201a8"
             ],
             [
              0.3333333333333333,
              "#9c179e"
             ],
             [
              0.4444444444444444,
              "#bd3786"
             ],
             [
              0.5555555555555556,
              "#d8576b"
             ],
             [
              0.6666666666666666,
              "#ed7953"
             ],
             [
              0.7777777777777778,
              "#fb9f3a"
             ],
             [
              0.8888888888888888,
              "#fdca26"
             ],
             [
              1,
              "#f0f921"
             ]
            ],
            "type": "heatmap"
           }
          ],
          "heatmapgl": [
           {
            "colorbar": {
             "outlinewidth": 0,
             "ticks": ""
            },
            "colorscale": [
             [
              0,
              "#0d0887"
             ],
             [
              0.1111111111111111,
              "#46039f"
             ],
             [
              0.2222222222222222,
              "#7201a8"
             ],
             [
              0.3333333333333333,
              "#9c179e"
             ],
             [
              0.4444444444444444,
              "#bd3786"
             ],
             [
              0.5555555555555556,
              "#d8576b"
             ],
             [
              0.6666666666666666,
              "#ed7953"
             ],
             [
              0.7777777777777778,
              "#fb9f3a"
             ],
             [
              0.8888888888888888,
              "#fdca26"
             ],
             [
              1,
              "#f0f921"
             ]
            ],
            "type": "heatmapgl"
           }
          ],
          "histogram": [
           {
            "marker": {
             "pattern": {
              "fillmode": "overlay",
              "size": 10,
              "solidity": 0.2
             }
            },
            "type": "histogram"
           }
          ],
          "histogram2d": [
           {
            "colorbar": {
             "outlinewidth": 0,
             "ticks": ""
            },
            "colorscale": [
             [
              0,
              "#0d0887"
             ],
             [
              0.1111111111111111,
              "#46039f"
             ],
             [
              0.2222222222222222,
              "#7201a8"
             ],
             [
              0.3333333333333333,
              "#9c179e"
             ],
             [
              0.4444444444444444,
              "#bd3786"
             ],
             [
              0.5555555555555556,
              "#d8576b"
             ],
             [
              0.6666666666666666,
              "#ed7953"
             ],
             [
              0.7777777777777778,
              "#fb9f3a"
             ],
             [
              0.8888888888888888,
              "#fdca26"
             ],
             [
              1,
              "#f0f921"
             ]
            ],
            "type": "histogram2d"
           }
          ],
          "histogram2dcontour": [
           {
            "colorbar": {
             "outlinewidth": 0,
             "ticks": ""
            },
            "colorscale": [
             [
              0,
              "#0d0887"
             ],
             [
              0.1111111111111111,
              "#46039f"
             ],
             [
              0.2222222222222222,
              "#7201a8"
             ],
             [
              0.3333333333333333,
              "#9c179e"
             ],
             [
              0.4444444444444444,
              "#bd3786"
             ],
             [
              0.5555555555555556,
              "#d8576b"
             ],
             [
              0.6666666666666666,
              "#ed7953"
             ],
             [
              0.7777777777777778,
              "#fb9f3a"
             ],
             [
              0.8888888888888888,
              "#fdca26"
             ],
             [
              1,
              "#f0f921"
             ]
            ],
            "type": "histogram2dcontour"
           }
          ],
          "mesh3d": [
           {
            "colorbar": {
             "outlinewidth": 0,
             "ticks": ""
            },
            "type": "mesh3d"
           }
          ],
          "parcoords": [
           {
            "line": {
             "colorbar": {
              "outlinewidth": 0,
              "ticks": ""
             }
            },
            "type": "parcoords"
           }
          ],
          "pie": [
           {
            "automargin": true,
            "type": "pie"
           }
          ],
          "scatter": [
           {
            "fillpattern": {
             "fillmode": "overlay",
             "size": 10,
             "solidity": 0.2
            },
            "type": "scatter"
           }
          ],
          "scatter3d": [
           {
            "line": {
             "colorbar": {
              "outlinewidth": 0,
              "ticks": ""
             }
            },
            "marker": {
             "colorbar": {
              "outlinewidth": 0,
              "ticks": ""
             }
            },
            "type": "scatter3d"
           }
          ],
          "scattercarpet": [
           {
            "marker": {
             "colorbar": {
              "outlinewidth": 0,
              "ticks": ""
             }
            },
            "type": "scattercarpet"
           }
          ],
          "scattergeo": [
           {
            "marker": {
             "colorbar": {
              "outlinewidth": 0,
              "ticks": ""
             }
            },
            "type": "scattergeo"
           }
          ],
          "scattergl": [
           {
            "marker": {
             "colorbar": {
              "outlinewidth": 0,
              "ticks": ""
             }
            },
            "type": "scattergl"
           }
          ],
          "scattermapbox": [
           {
            "marker": {
             "colorbar": {
              "outlinewidth": 0,
              "ticks": ""
             }
            },
            "type": "scattermapbox"
           }
          ],
          "scatterpolar": [
           {
            "marker": {
             "colorbar": {
              "outlinewidth": 0,
              "ticks": ""
             }
            },
            "type": "scatterpolar"
           }
          ],
          "scatterpolargl": [
           {
            "marker": {
             "colorbar": {
              "outlinewidth": 0,
              "ticks": ""
             }
            },
            "type": "scatterpolargl"
           }
          ],
          "scatterternary": [
           {
            "marker": {
             "colorbar": {
              "outlinewidth": 0,
              "ticks": ""
             }
            },
            "type": "scatterternary"
           }
          ],
          "surface": [
           {
            "colorbar": {
             "outlinewidth": 0,
             "ticks": ""
            },
            "colorscale": [
             [
              0,
              "#0d0887"
             ],
             [
              0.1111111111111111,
              "#46039f"
             ],
             [
              0.2222222222222222,
              "#7201a8"
             ],
             [
              0.3333333333333333,
              "#9c179e"
             ],
             [
              0.4444444444444444,
              "#bd3786"
             ],
             [
              0.5555555555555556,
              "#d8576b"
             ],
             [
              0.6666666666666666,
              "#ed7953"
             ],
             [
              0.7777777777777778,
              "#fb9f3a"
             ],
             [
              0.8888888888888888,
              "#fdca26"
             ],
             [
              1,
              "#f0f921"
             ]
            ],
            "type": "surface"
           }
          ],
          "table": [
           {
            "cells": {
             "fill": {
              "color": "#EBF0F8"
             },
             "line": {
              "color": "white"
             }
            },
            "header": {
             "fill": {
              "color": "#C8D4E3"
             },
             "line": {
              "color": "white"
             }
            },
            "type": "table"
           }
          ]
         },
         "layout": {
          "annotationdefaults": {
           "arrowcolor": "#2a3f5f",
           "arrowhead": 0,
           "arrowwidth": 1
          },
          "autotypenumbers": "strict",
          "coloraxis": {
           "colorbar": {
            "outlinewidth": 0,
            "ticks": ""
           }
          },
          "colorscale": {
           "diverging": [
            [
             0,
             "#8e0152"
            ],
            [
             0.1,
             "#c51b7d"
            ],
            [
             0.2,
             "#de77ae"
            ],
            [
             0.3,
             "#f1b6da"
            ],
            [
             0.4,
             "#fde0ef"
            ],
            [
             0.5,
             "#f7f7f7"
            ],
            [
             0.6,
             "#e6f5d0"
            ],
            [
             0.7,
             "#b8e186"
            ],
            [
             0.8,
             "#7fbc41"
            ],
            [
             0.9,
             "#4d9221"
            ],
            [
             1,
             "#276419"
            ]
           ],
           "sequential": [
            [
             0,
             "#0d0887"
            ],
            [
             0.1111111111111111,
             "#46039f"
            ],
            [
             0.2222222222222222,
             "#7201a8"
            ],
            [
             0.3333333333333333,
             "#9c179e"
            ],
            [
             0.4444444444444444,
             "#bd3786"
            ],
            [
             0.5555555555555556,
             "#d8576b"
            ],
            [
             0.6666666666666666,
             "#ed7953"
            ],
            [
             0.7777777777777778,
             "#fb9f3a"
            ],
            [
             0.8888888888888888,
             "#fdca26"
            ],
            [
             1,
             "#f0f921"
            ]
           ],
           "sequentialminus": [
            [
             0,
             "#0d0887"
            ],
            [
             0.1111111111111111,
             "#46039f"
            ],
            [
             0.2222222222222222,
             "#7201a8"
            ],
            [
             0.3333333333333333,
             "#9c179e"
            ],
            [
             0.4444444444444444,
             "#bd3786"
            ],
            [
             0.5555555555555556,
             "#d8576b"
            ],
            [
             0.6666666666666666,
             "#ed7953"
            ],
            [
             0.7777777777777778,
             "#fb9f3a"
            ],
            [
             0.8888888888888888,
             "#fdca26"
            ],
            [
             1,
             "#f0f921"
            ]
           ]
          },
          "colorway": [
           "#636efa",
           "#EF553B",
           "#00cc96",
           "#ab63fa",
           "#FFA15A",
           "#19d3f3",
           "#FF6692",
           "#B6E880",
           "#FF97FF",
           "#FECB52"
          ],
          "font": {
           "color": "#2a3f5f"
          },
          "geo": {
           "bgcolor": "white",
           "lakecolor": "white",
           "landcolor": "white",
           "showlakes": true,
           "showland": true,
           "subunitcolor": "#C8D4E3"
          },
          "hoverlabel": {
           "align": "left"
          },
          "hovermode": "closest",
          "mapbox": {
           "style": "light"
          },
          "paper_bgcolor": "white",
          "plot_bgcolor": "white",
          "polar": {
           "angularaxis": {
            "gridcolor": "#EBF0F8",
            "linecolor": "#EBF0F8",
            "ticks": ""
           },
           "bgcolor": "white",
           "radialaxis": {
            "gridcolor": "#EBF0F8",
            "linecolor": "#EBF0F8",
            "ticks": ""
           }
          },
          "scene": {
           "xaxis": {
            "backgroundcolor": "white",
            "gridcolor": "#DFE8F3",
            "gridwidth": 2,
            "linecolor": "#EBF0F8",
            "showbackground": true,
            "ticks": "",
            "zerolinecolor": "#EBF0F8"
           },
           "yaxis": {
            "backgroundcolor": "white",
            "gridcolor": "#DFE8F3",
            "gridwidth": 2,
            "linecolor": "#EBF0F8",
            "showbackground": true,
            "ticks": "",
            "zerolinecolor": "#EBF0F8"
           },
           "zaxis": {
            "backgroundcolor": "white",
            "gridcolor": "#DFE8F3",
            "gridwidth": 2,
            "linecolor": "#EBF0F8",
            "showbackground": true,
            "ticks": "",
            "zerolinecolor": "#EBF0F8"
           }
          },
          "shapedefaults": {
           "line": {
            "color": "#2a3f5f"
           }
          },
          "ternary": {
           "aaxis": {
            "gridcolor": "#DFE8F3",
            "linecolor": "#A2B1C6",
            "ticks": ""
           },
           "baxis": {
            "gridcolor": "#DFE8F3",
            "linecolor": "#A2B1C6",
            "ticks": ""
           },
           "bgcolor": "white",
           "caxis": {
            "gridcolor": "#DFE8F3",
            "linecolor": "#A2B1C6",
            "ticks": ""
           }
          },
          "title": {
           "x": 0.05
          },
          "xaxis": {
           "automargin": true,
           "gridcolor": "#EBF0F8",
           "linecolor": "#EBF0F8",
           "ticks": "",
           "title": {
            "standoff": 15
           },
           "zerolinecolor": "#EBF0F8",
           "zerolinewidth": 2
          },
          "yaxis": {
           "automargin": true,
           "gridcolor": "#EBF0F8",
           "linecolor": "#EBF0F8",
           "ticks": "",
           "title": {
            "standoff": 15
           },
           "zerolinecolor": "#EBF0F8",
           "zerolinewidth": 2
          }
         }
        },
        "title": {
         "font": {
          "color": "Black",
          "size": 22
         },
         "text": "Topic Word Scores",
         "x": 0.5,
         "xanchor": "center",
         "yanchor": "top"
        },
        "width": 1000,
        "xaxis": {
         "anchor": "y",
         "domain": [
          0,
          0.175
         ],
         "showgrid": true
        },
        "xaxis2": {
         "anchor": "y2",
         "domain": [
          0.275,
          0.45
         ],
         "showgrid": true
        },
        "xaxis3": {
         "anchor": "y3",
         "domain": [
          0.55,
          0.7250000000000001
         ],
         "showgrid": true
        },
        "xaxis4": {
         "anchor": "y4",
         "domain": [
          0.825,
          1
         ],
         "showgrid": true
        },
        "yaxis": {
         "anchor": "x",
         "domain": [
          0,
          1
         ],
         "showgrid": true
        },
        "yaxis2": {
         "anchor": "x2",
         "domain": [
          0,
          1
         ],
         "showgrid": true
        },
        "yaxis3": {
         "anchor": "x3",
         "domain": [
          0,
          1
         ],
         "showgrid": true
        },
        "yaxis4": {
         "anchor": "x4",
         "domain": [
          0,
          1
         ],
         "showgrid": true
        }
       }
      },
      "text/html": [
       "<div>                            <div id=\"d4c2153f-789e-4b33-ad02-240a7caf7f38\" class=\"plotly-graph-div\" style=\"height:325.0px; width:1000px;\"></div>            <script type=\"text/javascript\">                require([\"plotly\"], function(Plotly) {                    window.PLOTLYENV=window.PLOTLYENV || {};                                    if (document.getElementById(\"d4c2153f-789e-4b33-ad02-240a7caf7f38\")) {                    Plotly.newPlot(                        \"d4c2153f-789e-4b33-ad02-240a7caf7f38\",                        [{\"marker\":{\"color\":\"#D55E00\"},\"orientation\":\"h\",\"x\":[0.02649022432771733,0.027015784414344282,0.027205925881325674,0.029165805046161657,0.033262331379007],\"y\":[\"internet  \",\"appel  \",\"procur  \",\"refus  \",\"depos  \"],\"type\":\"bar\",\"xaxis\":\"x\",\"yaxis\":\"y\"},{\"marker\":{\"color\":\"#0072B2\"},\"orientation\":\"h\",\"x\":[0.04411578108166926,0.046908922547256565,0.04927968501707278,0.0829072144401274,0.14117420160483393],\"y\":[\"repond  \",\"patrouill  \",\"brigad  \",\"signal  \",\"appel  \"],\"type\":\"bar\",\"xaxis\":\"x2\",\"yaxis\":\"y2\"},{\"marker\":{\"color\":\"#CC79A7\"},\"orientation\":\"h\",\"x\":[0.1251046936966754,0.137986712050891,0.15523505105725238,0.17117760183595124,0.17533658239794916],\"y\":[\"mail  \",\"banqu  \",\"cart  \",\"bancair  \",\"fraud  \"],\"type\":\"bar\",\"xaxis\":\"x3\",\"yaxis\":\"y3\"},{\"marker\":{\"color\":\"#E69F00\"},\"orientation\":\"h\",\"x\":[0.09374603479854718,0.0996814604129202,0.18270293552546593,0.29560967908541075,0.3452646777965607],\"y\":[\"envoy  \",\"mair  \",\"valid  \",\"vot  \",\"procur  \"],\"type\":\"bar\",\"xaxis\":\"x4\",\"yaxis\":\"y4\"}],                        {\"template\":{\"data\":{\"barpolar\":[{\"marker\":{\"line\":{\"color\":\"white\",\"width\":0.5},\"pattern\":{\"fillmode\":\"overlay\",\"size\":10,\"solidity\":0.2}},\"type\":\"barpolar\"}],\"bar\":[{\"error_x\":{\"color\":\"#2a3f5f\"},\"error_y\":{\"color\":\"#2a3f5f\"},\"marker\":{\"line\":{\"color\":\"white\",\"width\":0.5},\"pattern\":{\"fillmode\":\"overlay\",\"size\":10,\"solidity\":0.2}},\"type\":\"bar\"}],\"carpet\":[{\"aaxis\":{\"endlinecolor\":\"#2a3f5f\",\"gridcolor\":\"#C8D4E3\",\"linecolor\":\"#C8D4E3\",\"minorgridcolor\":\"#C8D4E3\",\"startlinecolor\":\"#2a3f5f\"},\"baxis\":{\"endlinecolor\":\"#2a3f5f\",\"gridcolor\":\"#C8D4E3\",\"linecolor\":\"#C8D4E3\",\"minorgridcolor\":\"#C8D4E3\",\"startlinecolor\":\"#2a3f5f\"},\"type\":\"carpet\"}],\"choropleth\":[{\"colorbar\":{\"outlinewidth\":0,\"ticks\":\"\"},\"type\":\"choropleth\"}],\"contourcarpet\":[{\"colorbar\":{\"outlinewidth\":0,\"ticks\":\"\"},\"type\":\"contourcarpet\"}],\"contour\":[{\"colorbar\":{\"outlinewidth\":0,\"ticks\":\"\"},\"colorscale\":[[0.0,\"#0d0887\"],[0.1111111111111111,\"#46039f\"],[0.2222222222222222,\"#7201a8\"],[0.3333333333333333,\"#9c179e\"],[0.4444444444444444,\"#bd3786\"],[0.5555555555555556,\"#d8576b\"],[0.6666666666666666,\"#ed7953\"],[0.7777777777777778,\"#fb9f3a\"],[0.8888888888888888,\"#fdca26\"],[1.0,\"#f0f921\"]],\"type\":\"contour\"}],\"heatmapgl\":[{\"colorbar\":{\"outlinewidth\":0,\"ticks\":\"\"},\"colorscale\":[[0.0,\"#0d0887\"],[0.1111111111111111,\"#46039f\"],[0.2222222222222222,\"#7201a8\"],[0.3333333333333333,\"#9c179e\"],[0.4444444444444444,\"#bd3786\"],[0.5555555555555556,\"#d8576b\"],[0.6666666666666666,\"#ed7953\"],[0.7777777777777778,\"#fb9f3a\"],[0.8888888888888888,\"#fdca26\"],[1.0,\"#f0f921\"]],\"type\":\"heatmapgl\"}],\"heatmap\":[{\"colorbar\":{\"outlinewidth\":0,\"ticks\":\"\"},\"colorscale\":[[0.0,\"#0d0887\"],[0.1111111111111111,\"#46039f\"],[0.2222222222222222,\"#7201a8\"],[0.3333333333333333,\"#9c179e\"],[0.4444444444444444,\"#bd3786\"],[0.5555555555555556,\"#d8576b\"],[0.6666666666666666,\"#ed7953\"],[0.7777777777777778,\"#fb9f3a\"],[0.8888888888888888,\"#fdca26\"],[1.0,\"#f0f921\"]],\"type\":\"heatmap\"}],\"histogram2dcontour\":[{\"colorbar\":{\"outlinewidth\":0,\"ticks\":\"\"},\"colorscale\":[[0.0,\"#0d0887\"],[0.1111111111111111,\"#46039f\"],[0.2222222222222222,\"#7201a8\"],[0.3333333333333333,\"#9c179e\"],[0.4444444444444444,\"#bd3786\"],[0.5555555555555556,\"#d8576b\"],[0.6666666666666666,\"#ed7953\"],[0.7777777777777778,\"#fb9f3a\"],[0.8888888888888888,\"#fdca26\"],[1.0,\"#f0f921\"]],\"type\":\"histogram2dcontour\"}],\"histogram2d\":[{\"colorbar\":{\"outlinewidth\":0,\"ticks\":\"\"},\"colorscale\":[[0.0,\"#0d0887\"],[0.1111111111111111,\"#46039f\"],[0.2222222222222222,\"#7201a8\"],[0.3333333333333333,\"#9c179e\"],[0.4444444444444444,\"#bd3786\"],[0.5555555555555556,\"#d8576b\"],[0.6666666666666666,\"#ed7953\"],[0.7777777777777778,\"#fb9f3a\"],[0.8888888888888888,\"#fdca26\"],[1.0,\"#f0f921\"]],\"type\":\"histogram2d\"}],\"histogram\":[{\"marker\":{\"pattern\":{\"fillmode\":\"overlay\",\"size\":10,\"solidity\":0.2}},\"type\":\"histogram\"}],\"mesh3d\":[{\"colorbar\":{\"outlinewidth\":0,\"ticks\":\"\"},\"type\":\"mesh3d\"}],\"parcoords\":[{\"line\":{\"colorbar\":{\"outlinewidth\":0,\"ticks\":\"\"}},\"type\":\"parcoords\"}],\"pie\":[{\"automargin\":true,\"type\":\"pie\"}],\"scatter3d\":[{\"line\":{\"colorbar\":{\"outlinewidth\":0,\"ticks\":\"\"}},\"marker\":{\"colorbar\":{\"outlinewidth\":0,\"ticks\":\"\"}},\"type\":\"scatter3d\"}],\"scattercarpet\":[{\"marker\":{\"colorbar\":{\"outlinewidth\":0,\"ticks\":\"\"}},\"type\":\"scattercarpet\"}],\"scattergeo\":[{\"marker\":{\"colorbar\":{\"outlinewidth\":0,\"ticks\":\"\"}},\"type\":\"scattergeo\"}],\"scattergl\":[{\"marker\":{\"colorbar\":{\"outlinewidth\":0,\"ticks\":\"\"}},\"type\":\"scattergl\"}],\"scattermapbox\":[{\"marker\":{\"colorbar\":{\"outlinewidth\":0,\"ticks\":\"\"}},\"type\":\"scattermapbox\"}],\"scatterpolargl\":[{\"marker\":{\"colorbar\":{\"outlinewidth\":0,\"ticks\":\"\"}},\"type\":\"scatterpolargl\"}],\"scatterpolar\":[{\"marker\":{\"colorbar\":{\"outlinewidth\":0,\"ticks\":\"\"}},\"type\":\"scatterpolar\"}],\"scatter\":[{\"fillpattern\":{\"fillmode\":\"overlay\",\"size\":10,\"solidity\":0.2},\"type\":\"scatter\"}],\"scatterternary\":[{\"marker\":{\"colorbar\":{\"outlinewidth\":0,\"ticks\":\"\"}},\"type\":\"scatterternary\"}],\"surface\":[{\"colorbar\":{\"outlinewidth\":0,\"ticks\":\"\"},\"colorscale\":[[0.0,\"#0d0887\"],[0.1111111111111111,\"#46039f\"],[0.2222222222222222,\"#7201a8\"],[0.3333333333333333,\"#9c179e\"],[0.4444444444444444,\"#bd3786\"],[0.5555555555555556,\"#d8576b\"],[0.6666666666666666,\"#ed7953\"],[0.7777777777777778,\"#fb9f3a\"],[0.8888888888888888,\"#fdca26\"],[1.0,\"#f0f921\"]],\"type\":\"surface\"}],\"table\":[{\"cells\":{\"fill\":{\"color\":\"#EBF0F8\"},\"line\":{\"color\":\"white\"}},\"header\":{\"fill\":{\"color\":\"#C8D4E3\"},\"line\":{\"color\":\"white\"}},\"type\":\"table\"}]},\"layout\":{\"annotationdefaults\":{\"arrowcolor\":\"#2a3f5f\",\"arrowhead\":0,\"arrowwidth\":1},\"autotypenumbers\":\"strict\",\"coloraxis\":{\"colorbar\":{\"outlinewidth\":0,\"ticks\":\"\"}},\"colorscale\":{\"diverging\":[[0,\"#8e0152\"],[0.1,\"#c51b7d\"],[0.2,\"#de77ae\"],[0.3,\"#f1b6da\"],[0.4,\"#fde0ef\"],[0.5,\"#f7f7f7\"],[0.6,\"#e6f5d0\"],[0.7,\"#b8e186\"],[0.8,\"#7fbc41\"],[0.9,\"#4d9221\"],[1,\"#276419\"]],\"sequential\":[[0.0,\"#0d0887\"],[0.1111111111111111,\"#46039f\"],[0.2222222222222222,\"#7201a8\"],[0.3333333333333333,\"#9c179e\"],[0.4444444444444444,\"#bd3786\"],[0.5555555555555556,\"#d8576b\"],[0.6666666666666666,\"#ed7953\"],[0.7777777777777778,\"#fb9f3a\"],[0.8888888888888888,\"#fdca26\"],[1.0,\"#f0f921\"]],\"sequentialminus\":[[0.0,\"#0d0887\"],[0.1111111111111111,\"#46039f\"],[0.2222222222222222,\"#7201a8\"],[0.3333333333333333,\"#9c179e\"],[0.4444444444444444,\"#bd3786\"],[0.5555555555555556,\"#d8576b\"],[0.6666666666666666,\"#ed7953\"],[0.7777777777777778,\"#fb9f3a\"],[0.8888888888888888,\"#fdca26\"],[1.0,\"#f0f921\"]]},\"colorway\":[\"#636efa\",\"#EF553B\",\"#00cc96\",\"#ab63fa\",\"#FFA15A\",\"#19d3f3\",\"#FF6692\",\"#B6E880\",\"#FF97FF\",\"#FECB52\"],\"font\":{\"color\":\"#2a3f5f\"},\"geo\":{\"bgcolor\":\"white\",\"lakecolor\":\"white\",\"landcolor\":\"white\",\"showlakes\":true,\"showland\":true,\"subunitcolor\":\"#C8D4E3\"},\"hoverlabel\":{\"align\":\"left\"},\"hovermode\":\"closest\",\"mapbox\":{\"style\":\"light\"},\"paper_bgcolor\":\"white\",\"plot_bgcolor\":\"white\",\"polar\":{\"angularaxis\":{\"gridcolor\":\"#EBF0F8\",\"linecolor\":\"#EBF0F8\",\"ticks\":\"\"},\"bgcolor\":\"white\",\"radialaxis\":{\"gridcolor\":\"#EBF0F8\",\"linecolor\":\"#EBF0F8\",\"ticks\":\"\"}},\"scene\":{\"xaxis\":{\"backgroundcolor\":\"white\",\"gridcolor\":\"#DFE8F3\",\"gridwidth\":2,\"linecolor\":\"#EBF0F8\",\"showbackground\":true,\"ticks\":\"\",\"zerolinecolor\":\"#EBF0F8\"},\"yaxis\":{\"backgroundcolor\":\"white\",\"gridcolor\":\"#DFE8F3\",\"gridwidth\":2,\"linecolor\":\"#EBF0F8\",\"showbackground\":true,\"ticks\":\"\",\"zerolinecolor\":\"#EBF0F8\"},\"zaxis\":{\"backgroundcolor\":\"white\",\"gridcolor\":\"#DFE8F3\",\"gridwidth\":2,\"linecolor\":\"#EBF0F8\",\"showbackground\":true,\"ticks\":\"\",\"zerolinecolor\":\"#EBF0F8\"}},\"shapedefaults\":{\"line\":{\"color\":\"#2a3f5f\"}},\"ternary\":{\"aaxis\":{\"gridcolor\":\"#DFE8F3\",\"linecolor\":\"#A2B1C6\",\"ticks\":\"\"},\"baxis\":{\"gridcolor\":\"#DFE8F3\",\"linecolor\":\"#A2B1C6\",\"ticks\":\"\"},\"bgcolor\":\"white\",\"caxis\":{\"gridcolor\":\"#DFE8F3\",\"linecolor\":\"#A2B1C6\",\"ticks\":\"\"}},\"title\":{\"x\":0.05},\"xaxis\":{\"automargin\":true,\"gridcolor\":\"#EBF0F8\",\"linecolor\":\"#EBF0F8\",\"ticks\":\"\",\"title\":{\"standoff\":15},\"zerolinecolor\":\"#EBF0F8\",\"zerolinewidth\":2},\"yaxis\":{\"automargin\":true,\"gridcolor\":\"#EBF0F8\",\"linecolor\":\"#EBF0F8\",\"ticks\":\"\",\"title\":{\"standoff\":15},\"zerolinecolor\":\"#EBF0F8\",\"zerolinewidth\":2}}},\"xaxis\":{\"anchor\":\"y\",\"domain\":[0.0,0.175],\"showgrid\":true},\"yaxis\":{\"anchor\":\"x\",\"domain\":[0.0,1.0],\"showgrid\":true},\"xaxis2\":{\"anchor\":\"y2\",\"domain\":[0.275,0.45],\"showgrid\":true},\"yaxis2\":{\"anchor\":\"x2\",\"domain\":[0.0,1.0],\"showgrid\":true},\"xaxis3\":{\"anchor\":\"y3\",\"domain\":[0.55,0.7250000000000001],\"showgrid\":true},\"yaxis3\":{\"anchor\":\"x3\",\"domain\":[0.0,1.0],\"showgrid\":true},\"xaxis4\":{\"anchor\":\"y4\",\"domain\":[0.825,1.0],\"showgrid\":true},\"yaxis4\":{\"anchor\":\"x4\",\"domain\":[0.0,1.0],\"showgrid\":true},\"annotations\":[{\"font\":{\"size\":16},\"showarrow\":false,\"text\":\"Topic 0\",\"x\":0.0875,\"xanchor\":\"center\",\"xref\":\"paper\",\"y\":1.0,\"yanchor\":\"bottom\",\"yref\":\"paper\"},{\"font\":{\"size\":16},\"showarrow\":false,\"text\":\"Topic 1\",\"x\":0.36250000000000004,\"xanchor\":\"center\",\"xref\":\"paper\",\"y\":1.0,\"yanchor\":\"bottom\",\"yref\":\"paper\"},{\"font\":{\"size\":16},\"showarrow\":false,\"text\":\"Topic 2\",\"x\":0.6375000000000001,\"xanchor\":\"center\",\"xref\":\"paper\",\"y\":1.0,\"yanchor\":\"bottom\",\"yref\":\"paper\"},{\"font\":{\"size\":16},\"showarrow\":false,\"text\":\"Topic 3\",\"x\":0.9125,\"xanchor\":\"center\",\"xref\":\"paper\",\"y\":1.0,\"yanchor\":\"bottom\",\"yref\":\"paper\"}],\"title\":{\"font\":{\"size\":22,\"color\":\"Black\"},\"text\":\"Topic Word Scores\",\"x\":0.5,\"xanchor\":\"center\",\"yanchor\":\"top\"},\"hoverlabel\":{\"font\":{\"size\":16,\"family\":\"Rockwell\"},\"bgcolor\":\"white\"},\"showlegend\":false,\"width\":1000,\"height\":325.0},                        {\"responsive\": true}                    ).then(function(){\n",
       "                            \n",
       "var gd = document.getElementById('d4c2153f-789e-4b33-ad02-240a7caf7f38');\n",
       "var x = new MutationObserver(function (mutations, observer) {{\n",
       "        var display = window.getComputedStyle(gd).display;\n",
       "        if (!display || display === 'none') {{\n",
       "            console.log([gd, 'removed!']);\n",
       "            Plotly.purge(gd);\n",
       "            observer.disconnect();\n",
       "        }}\n",
       "}});\n",
       "\n",
       "// Listen for the removal of the full notebook cells\n",
       "var notebookContainer = gd.closest('#notebook-container');\n",
       "if (notebookContainer) {{\n",
       "    x.observe(notebookContainer, {childList: true});\n",
       "}}\n",
       "\n",
       "// Listen for the clearing of the current output cell\n",
       "var outputEl = gd.closest('.output');\n",
       "if (outputEl) {{\n",
       "    x.observe(outputEl, {childList: true});\n",
       "}}\n",
       "\n",
       "                        })                };                });            </script>        </div>"
      ]
     },
     "metadata": {},
     "output_type": "display_data"
    }
   ],
   "source": [
    "model.visualize_barchart()"
   ]
  },
  {
   "cell_type": "code",
   "execution_count": 35,
   "id": "d349720e",
   "metadata": {},
   "outputs": [
    {
     "data": {
      "application/vnd.plotly.v1+json": {
       "config": {
        "plotlyServerURL": "https://plot.ly"
       },
       "data": [
        {
         "coloraxis": "coloraxis",
         "hovertemplate": "x: %{x}<br>y: %{y}<br>Similarity Score: %{z}<extra></extra>",
         "name": "0",
         "type": "heatmap",
         "x": [
          "0_apre_depos_refus",
          "1_appel_signal_brigad",
          "2_procur_vot_valid",
          "3_fraud_bancair_cart"
         ],
         "xaxis": "x",
         "y": [
          "0_apre_depos_refus",
          "1_appel_signal_brigad",
          "2_procur_vot_valid",
          "3_fraud_bancair_cart"
         ],
         "yaxis": "y",
         "z": [
          [
           1.0000000000000002,
           0.8718875736083531,
           0.8579018106264797,
           0.8759838931792899
          ],
          [
           0.8718875736083531,
           0.9999999999999998,
           0.8497240881316414,
           0.8056119163413838
          ],
          [
           0.8579018106264797,
           0.8497240881316414,
           0.9999999999999997,
           0.8300722298688233
          ],
          [
           0.8759838931792899,
           0.8056119163413838,
           0.8300722298688233,
           1.0000000000000002
          ]
         ]
        }
       ],
       "layout": {
        "coloraxis": {
         "colorbar": {
          "title": {
           "text": "Similarity Score"
          }
         },
         "colorscale": [
          [
           0,
           "rgb(247,252,240)"
          ],
          [
           0.125,
           "rgb(224,243,219)"
          ],
          [
           0.25,
           "rgb(204,235,197)"
          ],
          [
           0.375,
           "rgb(168,221,181)"
          ],
          [
           0.5,
           "rgb(123,204,196)"
          ],
          [
           0.625,
           "rgb(78,179,211)"
          ],
          [
           0.75,
           "rgb(43,140,190)"
          ],
          [
           0.875,
           "rgb(8,104,172)"
          ],
          [
           1,
           "rgb(8,64,129)"
          ]
         ]
        },
        "height": 800,
        "hoverlabel": {
         "bgcolor": "white",
         "font": {
          "family": "Rockwell",
          "size": 16
         }
        },
        "legend": {
         "title": {
          "text": "Trend"
         }
        },
        "margin": {
         "t": 60
        },
        "showlegend": true,
        "template": {
         "data": {
          "bar": [
           {
            "error_x": {
             "color": "#2a3f5f"
            },
            "error_y": {
             "color": "#2a3f5f"
            },
            "marker": {
             "line": {
              "color": "#E5ECF6",
              "width": 0.5
             },
             "pattern": {
              "fillmode": "overlay",
              "size": 10,
              "solidity": 0.2
             }
            },
            "type": "bar"
           }
          ],
          "barpolar": [
           {
            "marker": {
             "line": {
              "color": "#E5ECF6",
              "width": 0.5
             },
             "pattern": {
              "fillmode": "overlay",
              "size": 10,
              "solidity": 0.2
             }
            },
            "type": "barpolar"
           }
          ],
          "carpet": [
           {
            "aaxis": {
             "endlinecolor": "#2a3f5f",
             "gridcolor": "white",
             "linecolor": "white",
             "minorgridcolor": "white",
             "startlinecolor": "#2a3f5f"
            },
            "baxis": {
             "endlinecolor": "#2a3f5f",
             "gridcolor": "white",
             "linecolor": "white",
             "minorgridcolor": "white",
             "startlinecolor": "#2a3f5f"
            },
            "type": "carpet"
           }
          ],
          "choropleth": [
           {
            "colorbar": {
             "outlinewidth": 0,
             "ticks": ""
            },
            "type": "choropleth"
           }
          ],
          "contour": [
           {
            "colorbar": {
             "outlinewidth": 0,
             "ticks": ""
            },
            "colorscale": [
             [
              0,
              "#0d0887"
             ],
             [
              0.1111111111111111,
              "#46039f"
             ],
             [
              0.2222222222222222,
              "#7201a8"
             ],
             [
              0.3333333333333333,
              "#9c179e"
             ],
             [
              0.4444444444444444,
              "#bd3786"
             ],
             [
              0.5555555555555556,
              "#d8576b"
             ],
             [
              0.6666666666666666,
              "#ed7953"
             ],
             [
              0.7777777777777778,
              "#fb9f3a"
             ],
             [
              0.8888888888888888,
              "#fdca26"
             ],
             [
              1,
              "#f0f921"
             ]
            ],
            "type": "contour"
           }
          ],
          "contourcarpet": [
           {
            "colorbar": {
             "outlinewidth": 0,
             "ticks": ""
            },
            "type": "contourcarpet"
           }
          ],
          "heatmap": [
           {
            "colorbar": {
             "outlinewidth": 0,
             "ticks": ""
            },
            "colorscale": [
             [
              0,
              "#0d0887"
             ],
             [
              0.1111111111111111,
              "#46039f"
             ],
             [
              0.2222222222222222,
              "#7201a8"
             ],
             [
              0.3333333333333333,
              "#9c179e"
             ],
             [
              0.4444444444444444,
              "#bd3786"
             ],
             [
              0.5555555555555556,
              "#d8576b"
             ],
             [
              0.6666666666666666,
              "#ed7953"
             ],
             [
              0.7777777777777778,
              "#fb9f3a"
             ],
             [
              0.8888888888888888,
              "#fdca26"
             ],
             [
              1,
              "#f0f921"
             ]
            ],
            "type": "heatmap"
           }
          ],
          "heatmapgl": [
           {
            "colorbar": {
             "outlinewidth": 0,
             "ticks": ""
            },
            "colorscale": [
             [
              0,
              "#0d0887"
             ],
             [
              0.1111111111111111,
              "#46039f"
             ],
             [
              0.2222222222222222,
              "#7201a8"
             ],
             [
              0.3333333333333333,
              "#9c179e"
             ],
             [
              0.4444444444444444,
              "#bd3786"
             ],
             [
              0.5555555555555556,
              "#d8576b"
             ],
             [
              0.6666666666666666,
              "#ed7953"
             ],
             [
              0.7777777777777778,
              "#fb9f3a"
             ],
             [
              0.8888888888888888,
              "#fdca26"
             ],
             [
              1,
              "#f0f921"
             ]
            ],
            "type": "heatmapgl"
           }
          ],
          "histogram": [
           {
            "marker": {
             "pattern": {
              "fillmode": "overlay",
              "size": 10,
              "solidity": 0.2
             }
            },
            "type": "histogram"
           }
          ],
          "histogram2d": [
           {
            "colorbar": {
             "outlinewidth": 0,
             "ticks": ""
            },
            "colorscale": [
             [
              0,
              "#0d0887"
             ],
             [
              0.1111111111111111,
              "#46039f"
             ],
             [
              0.2222222222222222,
              "#7201a8"
             ],
             [
              0.3333333333333333,
              "#9c179e"
             ],
             [
              0.4444444444444444,
              "#bd3786"
             ],
             [
              0.5555555555555556,
              "#d8576b"
             ],
             [
              0.6666666666666666,
              "#ed7953"
             ],
             [
              0.7777777777777778,
              "#fb9f3a"
             ],
             [
              0.8888888888888888,
              "#fdca26"
             ],
             [
              1,
              "#f0f921"
             ]
            ],
            "type": "histogram2d"
           }
          ],
          "histogram2dcontour": [
           {
            "colorbar": {
             "outlinewidth": 0,
             "ticks": ""
            },
            "colorscale": [
             [
              0,
              "#0d0887"
             ],
             [
              0.1111111111111111,
              "#46039f"
             ],
             [
              0.2222222222222222,
              "#7201a8"
             ],
             [
              0.3333333333333333,
              "#9c179e"
             ],
             [
              0.4444444444444444,
              "#bd3786"
             ],
             [
              0.5555555555555556,
              "#d8576b"
             ],
             [
              0.6666666666666666,
              "#ed7953"
             ],
             [
              0.7777777777777778,
              "#fb9f3a"
             ],
             [
              0.8888888888888888,
              "#fdca26"
             ],
             [
              1,
              "#f0f921"
             ]
            ],
            "type": "histogram2dcontour"
           }
          ],
          "mesh3d": [
           {
            "colorbar": {
             "outlinewidth": 0,
             "ticks": ""
            },
            "type": "mesh3d"
           }
          ],
          "parcoords": [
           {
            "line": {
             "colorbar": {
              "outlinewidth": 0,
              "ticks": ""
             }
            },
            "type": "parcoords"
           }
          ],
          "pie": [
           {
            "automargin": true,
            "type": "pie"
           }
          ],
          "scatter": [
           {
            "fillpattern": {
             "fillmode": "overlay",
             "size": 10,
             "solidity": 0.2
            },
            "type": "scatter"
           }
          ],
          "scatter3d": [
           {
            "line": {
             "colorbar": {
              "outlinewidth": 0,
              "ticks": ""
             }
            },
            "marker": {
             "colorbar": {
              "outlinewidth": 0,
              "ticks": ""
             }
            },
            "type": "scatter3d"
           }
          ],
          "scattercarpet": [
           {
            "marker": {
             "colorbar": {
              "outlinewidth": 0,
              "ticks": ""
             }
            },
            "type": "scattercarpet"
           }
          ],
          "scattergeo": [
           {
            "marker": {
             "colorbar": {
              "outlinewidth": 0,
              "ticks": ""
             }
            },
            "type": "scattergeo"
           }
          ],
          "scattergl": [
           {
            "marker": {
             "colorbar": {
              "outlinewidth": 0,
              "ticks": ""
             }
            },
            "type": "scattergl"
           }
          ],
          "scattermapbox": [
           {
            "marker": {
             "colorbar": {
              "outlinewidth": 0,
              "ticks": ""
             }
            },
            "type": "scattermapbox"
           }
          ],
          "scatterpolar": [
           {
            "marker": {
             "colorbar": {
              "outlinewidth": 0,
              "ticks": ""
             }
            },
            "type": "scatterpolar"
           }
          ],
          "scatterpolargl": [
           {
            "marker": {
             "colorbar": {
              "outlinewidth": 0,
              "ticks": ""
             }
            },
            "type": "scatterpolargl"
           }
          ],
          "scatterternary": [
           {
            "marker": {
             "colorbar": {
              "outlinewidth": 0,
              "ticks": ""
             }
            },
            "type": "scatterternary"
           }
          ],
          "surface": [
           {
            "colorbar": {
             "outlinewidth": 0,
             "ticks": ""
            },
            "colorscale": [
             [
              0,
              "#0d0887"
             ],
             [
              0.1111111111111111,
              "#46039f"
             ],
             [
              0.2222222222222222,
              "#7201a8"
             ],
             [
              0.3333333333333333,
              "#9c179e"
             ],
             [
              0.4444444444444444,
              "#bd3786"
             ],
             [
              0.5555555555555556,
              "#d8576b"
             ],
             [
              0.6666666666666666,
              "#ed7953"
             ],
             [
              0.7777777777777778,
              "#fb9f3a"
             ],
             [
              0.8888888888888888,
              "#fdca26"
             ],
             [
              1,
              "#f0f921"
             ]
            ],
            "type": "surface"
           }
          ],
          "table": [
           {
            "cells": {
             "fill": {
              "color": "#EBF0F8"
             },
             "line": {
              "color": "white"
             }
            },
            "header": {
             "fill": {
              "color": "#C8D4E3"
             },
             "line": {
              "color": "white"
             }
            },
            "type": "table"
           }
          ]
         },
         "layout": {
          "annotationdefaults": {
           "arrowcolor": "#2a3f5f",
           "arrowhead": 0,
           "arrowwidth": 1
          },
          "autotypenumbers": "strict",
          "coloraxis": {
           "colorbar": {
            "outlinewidth": 0,
            "ticks": ""
           }
          },
          "colorscale": {
           "diverging": [
            [
             0,
             "#8e0152"
            ],
            [
             0.1,
             "#c51b7d"
            ],
            [
             0.2,
             "#de77ae"
            ],
            [
             0.3,
             "#f1b6da"
            ],
            [
             0.4,
             "#fde0ef"
            ],
            [
             0.5,
             "#f7f7f7"
            ],
            [
             0.6,
             "#e6f5d0"
            ],
            [
             0.7,
             "#b8e186"
            ],
            [
             0.8,
             "#7fbc41"
            ],
            [
             0.9,
             "#4d9221"
            ],
            [
             1,
             "#276419"
            ]
           ],
           "sequential": [
            [
             0,
             "#0d0887"
            ],
            [
             0.1111111111111111,
             "#46039f"
            ],
            [
             0.2222222222222222,
             "#7201a8"
            ],
            [
             0.3333333333333333,
             "#9c179e"
            ],
            [
             0.4444444444444444,
             "#bd3786"
            ],
            [
             0.5555555555555556,
             "#d8576b"
            ],
            [
             0.6666666666666666,
             "#ed7953"
            ],
            [
             0.7777777777777778,
             "#fb9f3a"
            ],
            [
             0.8888888888888888,
             "#fdca26"
            ],
            [
             1,
             "#f0f921"
            ]
           ],
           "sequentialminus": [
            [
             0,
             "#0d0887"
            ],
            [
             0.1111111111111111,
             "#46039f"
            ],
            [
             0.2222222222222222,
             "#7201a8"
            ],
            [
             0.3333333333333333,
             "#9c179e"
            ],
            [
             0.4444444444444444,
             "#bd3786"
            ],
            [
             0.5555555555555556,
             "#d8576b"
            ],
            [
             0.6666666666666666,
             "#ed7953"
            ],
            [
             0.7777777777777778,
             "#fb9f3a"
            ],
            [
             0.8888888888888888,
             "#fdca26"
            ],
            [
             1,
             "#f0f921"
            ]
           ]
          },
          "colorway": [
           "#636efa",
           "#EF553B",
           "#00cc96",
           "#ab63fa",
           "#FFA15A",
           "#19d3f3",
           "#FF6692",
           "#B6E880",
           "#FF97FF",
           "#FECB52"
          ],
          "font": {
           "color": "#2a3f5f"
          },
          "geo": {
           "bgcolor": "white",
           "lakecolor": "white",
           "landcolor": "#E5ECF6",
           "showlakes": true,
           "showland": true,
           "subunitcolor": "white"
          },
          "hoverlabel": {
           "align": "left"
          },
          "hovermode": "closest",
          "mapbox": {
           "style": "light"
          },
          "paper_bgcolor": "white",
          "plot_bgcolor": "#E5ECF6",
          "polar": {
           "angularaxis": {
            "gridcolor": "white",
            "linecolor": "white",
            "ticks": ""
           },
           "bgcolor": "#E5ECF6",
           "radialaxis": {
            "gridcolor": "white",
            "linecolor": "white",
            "ticks": ""
           }
          },
          "scene": {
           "xaxis": {
            "backgroundcolor": "#E5ECF6",
            "gridcolor": "white",
            "gridwidth": 2,
            "linecolor": "white",
            "showbackground": true,
            "ticks": "",
            "zerolinecolor": "white"
           },
           "yaxis": {
            "backgroundcolor": "#E5ECF6",
            "gridcolor": "white",
            "gridwidth": 2,
            "linecolor": "white",
            "showbackground": true,
            "ticks": "",
            "zerolinecolor": "white"
           },
           "zaxis": {
            "backgroundcolor": "#E5ECF6",
            "gridcolor": "white",
            "gridwidth": 2,
            "linecolor": "white",
            "showbackground": true,
            "ticks": "",
            "zerolinecolor": "white"
           }
          },
          "shapedefaults": {
           "line": {
            "color": "#2a3f5f"
           }
          },
          "ternary": {
           "aaxis": {
            "gridcolor": "white",
            "linecolor": "white",
            "ticks": ""
           },
           "baxis": {
            "gridcolor": "white",
            "linecolor": "white",
            "ticks": ""
           },
           "bgcolor": "#E5ECF6",
           "caxis": {
            "gridcolor": "white",
            "linecolor": "white",
            "ticks": ""
           }
          },
          "title": {
           "x": 0.05
          },
          "xaxis": {
           "automargin": true,
           "gridcolor": "white",
           "linecolor": "white",
           "ticks": "",
           "title": {
            "standoff": 15
           },
           "zerolinecolor": "white",
           "zerolinewidth": 2
          },
          "yaxis": {
           "automargin": true,
           "gridcolor": "white",
           "linecolor": "white",
           "ticks": "",
           "title": {
            "standoff": 15
           },
           "zerolinecolor": "white",
           "zerolinewidth": 2
          }
         }
        },
        "title": {
         "font": {
          "color": "Black",
          "size": 22
         },
         "text": "<b>Similarity Matrix</b>",
         "x": 0.55,
         "xanchor": "center",
         "y": 0.95,
         "yanchor": "top"
        },
        "width": 800,
        "xaxis": {
         "anchor": "y",
         "constrain": "domain",
         "domain": [
          0,
          1
         ],
         "scaleanchor": "y"
        },
        "yaxis": {
         "anchor": "x",
         "autorange": "reversed",
         "constrain": "domain",
         "domain": [
          0,
          1
         ]
        }
       }
      },
      "text/html": [
       "<div>                            <div id=\"9bc3f38e-635a-430b-805c-7b9f31b95e34\" class=\"plotly-graph-div\" style=\"height:800px; width:800px;\"></div>            <script type=\"text/javascript\">                require([\"plotly\"], function(Plotly) {                    window.PLOTLYENV=window.PLOTLYENV || {};                                    if (document.getElementById(\"9bc3f38e-635a-430b-805c-7b9f31b95e34\")) {                    Plotly.newPlot(                        \"9bc3f38e-635a-430b-805c-7b9f31b95e34\",                        [{\"coloraxis\":\"coloraxis\",\"name\":\"0\",\"x\":[\"0_apre_depos_refus\",\"1_appel_signal_brigad\",\"2_procur_vot_valid\",\"3_fraud_bancair_cart\"],\"y\":[\"0_apre_depos_refus\",\"1_appel_signal_brigad\",\"2_procur_vot_valid\",\"3_fraud_bancair_cart\"],\"z\":[[1.0000000000000002,0.8718875736083531,0.8579018106264797,0.8759838931792899],[0.8718875736083531,0.9999999999999998,0.8497240881316414,0.8056119163413838],[0.8579018106264797,0.8497240881316414,0.9999999999999997,0.8300722298688233],[0.8759838931792899,0.8056119163413838,0.8300722298688233,1.0000000000000002]],\"type\":\"heatmap\",\"xaxis\":\"x\",\"yaxis\":\"y\",\"hovertemplate\":\"x: %{x}<br>y: %{y}<br>Similarity Score: %{z}<extra></extra>\"}],                        {\"template\":{\"data\":{\"histogram2dcontour\":[{\"type\":\"histogram2dcontour\",\"colorbar\":{\"outlinewidth\":0,\"ticks\":\"\"},\"colorscale\":[[0.0,\"#0d0887\"],[0.1111111111111111,\"#46039f\"],[0.2222222222222222,\"#7201a8\"],[0.3333333333333333,\"#9c179e\"],[0.4444444444444444,\"#bd3786\"],[0.5555555555555556,\"#d8576b\"],[0.6666666666666666,\"#ed7953\"],[0.7777777777777778,\"#fb9f3a\"],[0.8888888888888888,\"#fdca26\"],[1.0,\"#f0f921\"]]}],\"choropleth\":[{\"type\":\"choropleth\",\"colorbar\":{\"outlinewidth\":0,\"ticks\":\"\"}}],\"histogram2d\":[{\"type\":\"histogram2d\",\"colorbar\":{\"outlinewidth\":0,\"ticks\":\"\"},\"colorscale\":[[0.0,\"#0d0887\"],[0.1111111111111111,\"#46039f\"],[0.2222222222222222,\"#7201a8\"],[0.3333333333333333,\"#9c179e\"],[0.4444444444444444,\"#bd3786\"],[0.5555555555555556,\"#d8576b\"],[0.6666666666666666,\"#ed7953\"],[0.7777777777777778,\"#fb9f3a\"],[0.8888888888888888,\"#fdca26\"],[1.0,\"#f0f921\"]]}],\"heatmap\":[{\"type\":\"heatmap\",\"colorbar\":{\"outlinewidth\":0,\"ticks\":\"\"},\"colorscale\":[[0.0,\"#0d0887\"],[0.1111111111111111,\"#46039f\"],[0.2222222222222222,\"#7201a8\"],[0.3333333333333333,\"#9c179e\"],[0.4444444444444444,\"#bd3786\"],[0.5555555555555556,\"#d8576b\"],[0.6666666666666666,\"#ed7953\"],[0.7777777777777778,\"#fb9f3a\"],[0.8888888888888888,\"#fdca26\"],[1.0,\"#f0f921\"]]}],\"heatmapgl\":[{\"type\":\"heatmapgl\",\"colorbar\":{\"outlinewidth\":0,\"ticks\":\"\"},\"colorscale\":[[0.0,\"#0d0887\"],[0.1111111111111111,\"#46039f\"],[0.2222222222222222,\"#7201a8\"],[0.3333333333333333,\"#9c179e\"],[0.4444444444444444,\"#bd3786\"],[0.5555555555555556,\"#d8576b\"],[0.6666666666666666,\"#ed7953\"],[0.7777777777777778,\"#fb9f3a\"],[0.8888888888888888,\"#fdca26\"],[1.0,\"#f0f921\"]]}],\"contourcarpet\":[{\"type\":\"contourcarpet\",\"colorbar\":{\"outlinewidth\":0,\"ticks\":\"\"}}],\"contour\":[{\"type\":\"contour\",\"colorbar\":{\"outlinewidth\":0,\"ticks\":\"\"},\"colorscale\":[[0.0,\"#0d0887\"],[0.1111111111111111,\"#46039f\"],[0.2222222222222222,\"#7201a8\"],[0.3333333333333333,\"#9c179e\"],[0.4444444444444444,\"#bd3786\"],[0.5555555555555556,\"#d8576b\"],[0.6666666666666666,\"#ed7953\"],[0.7777777777777778,\"#fb9f3a\"],[0.8888888888888888,\"#fdca26\"],[1.0,\"#f0f921\"]]}],\"surface\":[{\"type\":\"surface\",\"colorbar\":{\"outlinewidth\":0,\"ticks\":\"\"},\"colorscale\":[[0.0,\"#0d0887\"],[0.1111111111111111,\"#46039f\"],[0.2222222222222222,\"#7201a8\"],[0.3333333333333333,\"#9c179e\"],[0.4444444444444444,\"#bd3786\"],[0.5555555555555556,\"#d8576b\"],[0.6666666666666666,\"#ed7953\"],[0.7777777777777778,\"#fb9f3a\"],[0.8888888888888888,\"#fdca26\"],[1.0,\"#f0f921\"]]}],\"mesh3d\":[{\"type\":\"mesh3d\",\"colorbar\":{\"outlinewidth\":0,\"ticks\":\"\"}}],\"scatter\":[{\"fillpattern\":{\"fillmode\":\"overlay\",\"size\":10,\"solidity\":0.2},\"type\":\"scatter\"}],\"parcoords\":[{\"type\":\"parcoords\",\"line\":{\"colorbar\":{\"outlinewidth\":0,\"ticks\":\"\"}}}],\"scatterpolargl\":[{\"type\":\"scatterpolargl\",\"marker\":{\"colorbar\":{\"outlinewidth\":0,\"ticks\":\"\"}}}],\"bar\":[{\"error_x\":{\"color\":\"#2a3f5f\"},\"error_y\":{\"color\":\"#2a3f5f\"},\"marker\":{\"line\":{\"color\":\"#E5ECF6\",\"width\":0.5},\"pattern\":{\"fillmode\":\"overlay\",\"size\":10,\"solidity\":0.2}},\"type\":\"bar\"}],\"scattergeo\":[{\"type\":\"scattergeo\",\"marker\":{\"colorbar\":{\"outlinewidth\":0,\"ticks\":\"\"}}}],\"scatterpolar\":[{\"type\":\"scatterpolar\",\"marker\":{\"colorbar\":{\"outlinewidth\":0,\"ticks\":\"\"}}}],\"histogram\":[{\"marker\":{\"pattern\":{\"fillmode\":\"overlay\",\"size\":10,\"solidity\":0.2}},\"type\":\"histogram\"}],\"scattergl\":[{\"type\":\"scattergl\",\"marker\":{\"colorbar\":{\"outlinewidth\":0,\"ticks\":\"\"}}}],\"scatter3d\":[{\"type\":\"scatter3d\",\"line\":{\"colorbar\":{\"outlinewidth\":0,\"ticks\":\"\"}},\"marker\":{\"colorbar\":{\"outlinewidth\":0,\"ticks\":\"\"}}}],\"scattermapbox\":[{\"type\":\"scattermapbox\",\"marker\":{\"colorbar\":{\"outlinewidth\":0,\"ticks\":\"\"}}}],\"scatterternary\":[{\"type\":\"scatterternary\",\"marker\":{\"colorbar\":{\"outlinewidth\":0,\"ticks\":\"\"}}}],\"scattercarpet\":[{\"type\":\"scattercarpet\",\"marker\":{\"colorbar\":{\"outlinewidth\":0,\"ticks\":\"\"}}}],\"carpet\":[{\"aaxis\":{\"endlinecolor\":\"#2a3f5f\",\"gridcolor\":\"white\",\"linecolor\":\"white\",\"minorgridcolor\":\"white\",\"startlinecolor\":\"#2a3f5f\"},\"baxis\":{\"endlinecolor\":\"#2a3f5f\",\"gridcolor\":\"white\",\"linecolor\":\"white\",\"minorgridcolor\":\"white\",\"startlinecolor\":\"#2a3f5f\"},\"type\":\"carpet\"}],\"table\":[{\"cells\":{\"fill\":{\"color\":\"#EBF0F8\"},\"line\":{\"color\":\"white\"}},\"header\":{\"fill\":{\"color\":\"#C8D4E3\"},\"line\":{\"color\":\"white\"}},\"type\":\"table\"}],\"barpolar\":[{\"marker\":{\"line\":{\"color\":\"#E5ECF6\",\"width\":0.5},\"pattern\":{\"fillmode\":\"overlay\",\"size\":10,\"solidity\":0.2}},\"type\":\"barpolar\"}],\"pie\":[{\"automargin\":true,\"type\":\"pie\"}]},\"layout\":{\"autotypenumbers\":\"strict\",\"colorway\":[\"#636efa\",\"#EF553B\",\"#00cc96\",\"#ab63fa\",\"#FFA15A\",\"#19d3f3\",\"#FF6692\",\"#B6E880\",\"#FF97FF\",\"#FECB52\"],\"font\":{\"color\":\"#2a3f5f\"},\"hovermode\":\"closest\",\"hoverlabel\":{\"align\":\"left\"},\"paper_bgcolor\":\"white\",\"plot_bgcolor\":\"#E5ECF6\",\"polar\":{\"bgcolor\":\"#E5ECF6\",\"angularaxis\":{\"gridcolor\":\"white\",\"linecolor\":\"white\",\"ticks\":\"\"},\"radialaxis\":{\"gridcolor\":\"white\",\"linecolor\":\"white\",\"ticks\":\"\"}},\"ternary\":{\"bgcolor\":\"#E5ECF6\",\"aaxis\":{\"gridcolor\":\"white\",\"linecolor\":\"white\",\"ticks\":\"\"},\"baxis\":{\"gridcolor\":\"white\",\"linecolor\":\"white\",\"ticks\":\"\"},\"caxis\":{\"gridcolor\":\"white\",\"linecolor\":\"white\",\"ticks\":\"\"}},\"coloraxis\":{\"colorbar\":{\"outlinewidth\":0,\"ticks\":\"\"}},\"colorscale\":{\"sequential\":[[0.0,\"#0d0887\"],[0.1111111111111111,\"#46039f\"],[0.2222222222222222,\"#7201a8\"],[0.3333333333333333,\"#9c179e\"],[0.4444444444444444,\"#bd3786\"],[0.5555555555555556,\"#d8576b\"],[0.6666666666666666,\"#ed7953\"],[0.7777777777777778,\"#fb9f3a\"],[0.8888888888888888,\"#fdca26\"],[1.0,\"#f0f921\"]],\"sequentialminus\":[[0.0,\"#0d0887\"],[0.1111111111111111,\"#46039f\"],[0.2222222222222222,\"#7201a8\"],[0.3333333333333333,\"#9c179e\"],[0.4444444444444444,\"#bd3786\"],[0.5555555555555556,\"#d8576b\"],[0.6666666666666666,\"#ed7953\"],[0.7777777777777778,\"#fb9f3a\"],[0.8888888888888888,\"#fdca26\"],[1.0,\"#f0f921\"]],\"diverging\":[[0,\"#8e0152\"],[0.1,\"#c51b7d\"],[0.2,\"#de77ae\"],[0.3,\"#f1b6da\"],[0.4,\"#fde0ef\"],[0.5,\"#f7f7f7\"],[0.6,\"#e6f5d0\"],[0.7,\"#b8e186\"],[0.8,\"#7fbc41\"],[0.9,\"#4d9221\"],[1,\"#276419\"]]},\"xaxis\":{\"gridcolor\":\"white\",\"linecolor\":\"white\",\"ticks\":\"\",\"title\":{\"standoff\":15},\"zerolinecolor\":\"white\",\"automargin\":true,\"zerolinewidth\":2},\"yaxis\":{\"gridcolor\":\"white\",\"linecolor\":\"white\",\"ticks\":\"\",\"title\":{\"standoff\":15},\"zerolinecolor\":\"white\",\"automargin\":true,\"zerolinewidth\":2},\"scene\":{\"xaxis\":{\"backgroundcolor\":\"#E5ECF6\",\"gridcolor\":\"white\",\"linecolor\":\"white\",\"showbackground\":true,\"ticks\":\"\",\"zerolinecolor\":\"white\",\"gridwidth\":2},\"yaxis\":{\"backgroundcolor\":\"#E5ECF6\",\"gridcolor\":\"white\",\"linecolor\":\"white\",\"showbackground\":true,\"ticks\":\"\",\"zerolinecolor\":\"white\",\"gridwidth\":2},\"zaxis\":{\"backgroundcolor\":\"#E5ECF6\",\"gridcolor\":\"white\",\"linecolor\":\"white\",\"showbackground\":true,\"ticks\":\"\",\"zerolinecolor\":\"white\",\"gridwidth\":2}},\"shapedefaults\":{\"line\":{\"color\":\"#2a3f5f\"}},\"annotationdefaults\":{\"arrowcolor\":\"#2a3f5f\",\"arrowhead\":0,\"arrowwidth\":1},\"geo\":{\"bgcolor\":\"white\",\"landcolor\":\"#E5ECF6\",\"subunitcolor\":\"white\",\"showland\":true,\"showlakes\":true,\"lakecolor\":\"white\"},\"title\":{\"x\":0.05},\"mapbox\":{\"style\":\"light\"}}},\"xaxis\":{\"anchor\":\"y\",\"domain\":[0.0,1.0],\"scaleanchor\":\"y\",\"constrain\":\"domain\"},\"yaxis\":{\"anchor\":\"x\",\"domain\":[0.0,1.0],\"autorange\":\"reversed\",\"constrain\":\"domain\"},\"coloraxis\":{\"colorbar\":{\"title\":{\"text\":\"Similarity Score\"}},\"colorscale\":[[0.0,\"rgb(247,252,240)\"],[0.125,\"rgb(224,243,219)\"],[0.25,\"rgb(204,235,197)\"],[0.375,\"rgb(168,221,181)\"],[0.5,\"rgb(123,204,196)\"],[0.625,\"rgb(78,179,211)\"],[0.75,\"rgb(43,140,190)\"],[0.875,\"rgb(8,104,172)\"],[1.0,\"rgb(8,64,129)\"]]},\"margin\":{\"t\":60},\"title\":{\"font\":{\"size\":22,\"color\":\"Black\"},\"text\":\"<b>Similarity Matrix</b>\",\"y\":0.95,\"x\":0.55,\"xanchor\":\"center\",\"yanchor\":\"top\"},\"hoverlabel\":{\"font\":{\"size\":16,\"family\":\"Rockwell\"},\"bgcolor\":\"white\"},\"width\":800,\"height\":800,\"showlegend\":true,\"legend\":{\"title\":{\"text\":\"Trend\"}}},                        {\"responsive\": true}                    ).then(function(){\n",
       "                            \n",
       "var gd = document.getElementById('9bc3f38e-635a-430b-805c-7b9f31b95e34');\n",
       "var x = new MutationObserver(function (mutations, observer) {{\n",
       "        var display = window.getComputedStyle(gd).display;\n",
       "        if (!display || display === 'none') {{\n",
       "            console.log([gd, 'removed!']);\n",
       "            Plotly.purge(gd);\n",
       "            observer.disconnect();\n",
       "        }}\n",
       "}});\n",
       "\n",
       "// Listen for the removal of the full notebook cells\n",
       "var notebookContainer = gd.closest('#notebook-container');\n",
       "if (notebookContainer) {{\n",
       "    x.observe(notebookContainer, {childList: true});\n",
       "}}\n",
       "\n",
       "// Listen for the clearing of the current output cell\n",
       "var outputEl = gd.closest('.output');\n",
       "if (outputEl) {{\n",
       "    x.observe(outputEl, {childList: true});\n",
       "}}\n",
       "\n",
       "                        })                };                });            </script>        </div>"
      ]
     },
     "metadata": {},
     "output_type": "display_data"
    }
   ],
   "source": [
    "model.visualize_heatmap()"
   ]
  },
  {
   "cell_type": "code",
   "execution_count": 36,
   "id": "fdb99313",
   "metadata": {},
   "outputs": [],
   "source": [
    "model.save(\"my_topics_model_8\")"
   ]
  },
  {
   "cell_type": "code",
   "execution_count": 72,
   "id": "21fd5c2b",
   "metadata": {},
   "outputs": [
    {
     "name": "stdout",
     "output_type": "stream",
     "text": [
      "[0, 0, -1, 0, 0, 0, 0, 0, 0, 0, -1, 1, 1, -1, 1, 1, 1, 0, -1, -1, 0, -1, -1, -1, 0, -1, 1, 0, 1, 0, -1, 0, 1, -1, 0, 0, -1, 2, 2, 2, 2, 2, 1, 2, 2, 2, 2, -1, 2, 2, 2, -1, 0, -1, 0, 0, 0, 0, 0, 0, 0, -1, 0, 1, 3, -1, 3, -1, 1, -1, 0, -1, 0, 0, 0, 3, 1, 0, 0, 0, 0, -1, -1, -1, 1, 0, -1, 0, -1, 0, 0, -1, 0, 1, 0, -1, 0, 3, 3, 1, 0, 0, -1, 0, 1, 0, 3, 3, 0, -1, -1, 1, -1, -1, 3, -1, 0, 0, -1, 3, 1, 1, 1, 3, -1, 0, 1, 1, 1, 1, 1, 3, 1, 1, -1, 1, 1, 1, -1, -1, -1, 1, 1, -1, 0, 0, 1, -1, 0, -1, 1, 1, 3, 1, 1, 1, -1, 2, 1, -1, 1]\n"
     ]
    }
   ],
   "source": [
    "topics_name=[\"refus_plainte\",\"appel_intervention\",\"perceval\",\"procuration\",\"autre\"]\n",
    "print(topics)"
   ]
  },
  {
   "cell_type": "code",
   "execution_count": 74,
   "id": "b0685930",
   "metadata": {},
   "outputs": [
    {
     "data": {
      "text/plain": [
       "0           refus_plainte\n",
       "1           refus_plainte\n",
       "2                   autre\n",
       "3           refus_plainte\n",
       "4           refus_plainte\n",
       "              ...        \n",
       "156                 autre\n",
       "157              perceval\n",
       "158    appel_intervention\n",
       "159                 autre\n",
       "160    appel_intervention\n",
       "Name: subject_name, Length: 161, dtype: object"
      ]
     },
     "execution_count": 74,
     "metadata": {},
     "output_type": "execute_result"
    }
   ],
   "source": [
    "df_updated['subject_number']=topics\n",
    "\n",
    "df_updated['subject_name']=df_updated[\"subject_number\"].apply(lambda x: topics_name[x])\n"
   ]
  },
  {
   "cell_type": "code",
   "execution_count": 75,
   "id": "23d3ab22",
   "metadata": {},
   "outputs": [
    {
     "name": "stdout",
     "output_type": "stream",
     "text": [
      "<class 'pandas.core.frame.DataFrame'>\n",
      "RangeIndex: 161 entries, 0 to 160\n",
      "Data columns (total 12 columns):\n",
      " #   Column                    Non-Null Count  Dtype  \n",
      "---  ------                    --------------  -----  \n",
      " 0   Description               161 non-null    object \n",
      " 1   Adresse                   161 non-null    object \n",
      " 2   Intitulé de la structure  126 non-null    object \n",
      " 3   desc                      161 non-null    object \n",
      " 4   desc_clean                161 non-null    object \n",
      " 5   Index                     35 non-null     float64\n",
      " 6   Auteur                    35 non-null     object \n",
      " 7   Date                      35 non-null     object \n",
      " 8   Note                      35 non-null     float64\n",
      " 9   Commentaire               35 non-null     object \n",
      " 10  subject_number            161 non-null    int64  \n",
      " 11  subject_name              161 non-null    object \n",
      "dtypes: float64(2), int64(1), object(9)\n",
      "memory usage: 15.2+ KB\n"
     ]
    }
   ],
   "source": [
    "df_updated.info()"
   ]
  },
  {
   "cell_type": "code",
   "execution_count": 77,
   "id": "b8c650c0",
   "metadata": {},
   "outputs": [
    {
     "data": {
      "text/plain": [
       "Adresse\n",
       "85 Bd Clémenceau                                                              36\n",
       "359 rue de Fontcouverte                                                       18\n",
       "5, Boulevard de l’Hautil                                                      15\n",
       "36 boulevard de l’Ouest                                                       11\n",
       "Casere Battesti 59 rue Séguineau                                               9\n",
       "4 Av Busteau                                                                   6\n",
       "19 bis rue de la Mitrie                                                        5\n",
       "201 Bd de Mons                                                                 4\n",
       "162 Av de la Timone                                                            4\n",
       "6 av de Stalingrad                                                             4\n",
       "2 rue Abert Bettanier                                                          3\n",
       "Gendarmerie Nationale place du Champ de Mars 7000 PRIVAS                       2\n",
       "Gendarmerie Nationale 1 av Jean Moulin 90000 BELFORT                           2\n",
       "Gendarmerie Nationale 359 rue de Fontcouverte 34070 MONTPELLIER                2\n",
       "Gendarmerie Nationale 4 rue Claude Bernard 92130 ISSY-LES-MOULINEAUX           2\n",
       "Gendarmerie Nationale 85 Bd Clémenceau 35000 RENNES                            2\n",
       "Gendarmerie Nationale 85 bld Clémenceau 35000 RENNES                           2\n",
       "30 Bd Maréchal Joffre                                                          2\n",
       "Gendarmerie Nationale 75ter av Marceau Hamecher 82000 MONTAUBAN                1\n",
       "Gendarmerie Nationale 30 rue de la gare 22000 SAINT-BRIEUC                     1\n",
       "Gendarmerie Nationale 23 av du général Largeau 79000 NIORT                     1\n",
       "Gendarmerie Nationale 25 av Guynemer 66000 PERPIGNAN                           1\n",
       "Gendarmerie Nationale 2 rue de Molsheim 67000 STRASBOURG                       1\n",
       "Gendarmerie Nationale 11bis rue Jean Malezieux 91000 EVRY                      1\n",
       "Gendarmerie Nationale 58 bld Bertran de Born 24000 PERIGUEUX                   1\n",
       "Gendarmerie Nationale 200 rue Judaïque 33000 BORDEAUX                          1\n",
       "Gendarmerie Nationale 367 rue de Tessy 50000 SAINT-LO                          1\n",
       "Gendarmerie Nationale 6 rue du colonel Louis Dartois 58000 NEVERS              1\n",
       "Gendarmerie Nationale 171 Av de Toulon 13000 MARSEILLE                         1\n",
       "Gendarmerie Nationale 124 av du général Sarrail 51000 CHALONS EN CHAMPAGNE     1\n",
       "Gendarmerie Nationale 33 av de la plaine 74000 ANNECY                          1\n",
       "Gendarmerie Nationale 8 rue du professeur Roux 88000 EPINAL                    1\n",
       "Gendarmerie Nationale 2 bld de lartillerie 16000 ANGOULEME                    1\n",
       "Gendarmerie Nationale 118 rue de Paris 3000 MOULINS                            1\n",
       "4 rue Claude Bernard                                                           1\n",
       "2 rue du général Sarrail                                                       1\n",
       "8 rue Logerot                                                                  1\n",
       "4, rue Claude Bernard                                                          1\n",
       "48 rue du Torpilleur Sirocco                                                   1\n",
       "124 Av du Général Sarrail                                                      1\n",
       "119 rue Victor Thuillat                                                        1\n",
       "107 rue d’Elbeuf                                                               1\n",
       "2 rue Albert Bettanier                                                         1\n",
       "Gendarmerie Nationale 171 av de Grammont 37000 TOURS                           1\n",
       "Gendarmerie Nationale 31 bld du Maréchal Leclerc 85000 LA ROCHE SUR YON        1\n",
       "Gendarmerie Nationale 16 rue de Signeulx 41000 BLOIS                           1\n",
       "Gendarmerie Nationale 102 av du général Leclerc 54000 NANCY                    1\n",
       "Gendarmerie Nationale 56 rue Sainte-Geneviève 30000 NIMES                      1\n",
       "Gendarmerie Nationale 2 rue Jean de la Fontaine 32000 AUCH                     1\n",
       "Gendarmerie Nationale 61 rue Victor Mac-Auliffe 97400 SAINT-DENIS              1\n",
       "Name: count, dtype: int64"
      ]
     },
     "execution_count": 77,
     "metadata": {},
     "output_type": "execute_result"
    }
   ],
   "source": [
    "df_updated[\"Adresse\"].value_counts()"
   ]
  },
  {
   "cell_type": "code",
   "execution_count": 78,
   "id": "364df195",
   "metadata": {},
   "outputs": [],
   "source": [
    "df_updated.to_csv(\"gend_topic.csv\",sep=\";\")"
   ]
  },
  {
   "cell_type": "markdown",
   "id": "4180c8f1",
   "metadata": {},
   "source": [
    "# Cas de la DGFIP"
   ]
  },
  {
   "cell_type": "code",
   "execution_count": 40,
   "id": "cfc6cb05",
   "metadata": {},
   "outputs": [],
   "source": [
    "dgfip_df=str_df[str_df[\"Intitulé du réseau\"]==\"DGFIP\"]"
   ]
  },
  {
   "cell_type": "code",
   "execution_count": 41,
   "id": "5b3297a3",
   "metadata": {},
   "outputs": [
    {
     "name": "stdout",
     "output_type": "stream",
     "text": [
      "<class 'pandas.core.frame.DataFrame'>\n",
      "Index: 3419 entries, 32 to 14166\n",
      "Data columns (total 26 columns):\n",
      " #   Column                            Non-Null Count  Dtype  \n",
      "---  ------                            --------------  -----  \n",
      " 0   ﻿\"Code SP+ de la structure\"       3419 non-null   object \n",
      " 1   Intitulé du réseau                3419 non-null   object \n",
      " 2   Intitulé de la typologie          3419 non-null   object \n",
      " 3   Intitulé de la structure          3419 non-null   object \n",
      " 4   Intitulé structure usager         1 non-null      object \n",
      " 5   Description de la structure       3418 non-null   object \n",
      " 6   Identifiant de la structure       3408 non-null   object \n",
      " 7   Type d'identifiant                3408 non-null   object \n",
      " 8   Code SP+ structure parent         3418 non-null   object \n",
      " 9   Intitulé de la structure parente  3418 non-null   object \n",
      " 10  Adresse                           0 non-null      object \n",
      " 11  Compléments Adresse               0 non-null      object \n",
      " 12  Code postal de la structure       3419 non-null   int64  \n",
      " 13  Ville                             3419 non-null   object \n",
      " 14  PAYS                              3419 non-null   object \n",
      " 15  Codes Postaux                     0 non-null      float64\n",
      " 16  Départements                      0 non-null      float64\n",
      " 17  URL du site internet              0 non-null      object \n",
      " 18  Boîte à lettre fonctionnelle      0 non-null      object \n",
      " 19  Clé de tracking                   0 non-null      float64\n",
      " 20  Actif                             3419 non-null   object \n",
      " 21  Code sp+ de la typologie          3419 non-null   object \n",
      " 22  INSEE Ville                       3419 non-null   object \n",
      " 23  INSEE Département                 3419 non-null   object \n",
      " 24  INSEE Région                      3419 non-null   object \n",
      " 25  INSEE Arrondissement              3419 non-null   object \n",
      "dtypes: float64(3), int64(1), object(22)\n",
      "memory usage: 721.2+ KB\n"
     ]
    }
   ],
   "source": [
    "dgfip_df.info()"
   ]
  },
  {
   "cell_type": "code",
   "execution_count": 42,
   "id": "c3452d5e",
   "metadata": {},
   "outputs": [],
   "source": [
    "dgfip_df=str_df[str_df[\"Intitulé du réseau\"]==\"DGFIP\"]\n",
    "join_dgfip_df=pd.merge(dgfip_df,df,left_on='﻿\"Code SP+ de la structure\"',right_on=\"ID structure 1\",how=\"inner\")\n"
   ]
  },
  {
   "cell_type": "code",
   "execution_count": 43,
   "id": "7166ba56",
   "metadata": {},
   "outputs": [
    {
     "name": "stdout",
     "output_type": "stream",
     "text": [
      "<class 'pandas.core.frame.DataFrame'>\n",
      "Index: 972 entries, 0 to 1279\n",
      "Data columns (total 3 columns):\n",
      " #   Column                    Non-Null Count  Dtype \n",
      "---  ------                    --------------  ----- \n",
      " 0   Description               972 non-null    object\n",
      " 1   Adresse                   0 non-null      object\n",
      " 2   Intitulé de la structure  972 non-null    object\n",
      "dtypes: object(3)\n",
      "memory usage: 30.4+ KB\n"
     ]
    }
   ],
   "source": [
    "dgfip_df_neg=join_dgfip_df[join_dgfip_df[\"Ressenti usager\"]=='Négatif']\n",
    "\n",
    "dgfip_df_neg=dgfip_df_neg.loc[:,[\"Description\",\"Adresse\",\"Intitulé de la structure\"]]\n",
    "\n",
    "dgfip_df_neg.info()"
   ]
  },
  {
   "cell_type": "code",
   "execution_count": 44,
   "id": "5cca73fe",
   "metadata": {},
   "outputs": [],
   "source": [
    "text_processing(dgfip_df_neg,\"Description\")"
   ]
  },
  {
   "cell_type": "code",
   "execution_count": 45,
   "id": "bc190d94",
   "metadata": {},
   "outputs": [
    {
     "data": {
      "text/plain": [
       "0       nous avons pas television mais tous les ans no...\n",
       "1       sans trop rentrer dans les details apres moult...\n",
       "2       suis actuellement chine veux acceder page decl...\n",
       "3       bonjourje vis etranger dois effectuer premiere...\n",
       "4       imposition non residents questions par email s...\n",
       "                              ...                        \n",
       "1275    bonjour design president conseil syndical mon ...\n",
       "1276    bonjour sie bombarde saint german laval nous e...\n",
       "1277    bonjour permets vous informer manque certain r...\n",
       "1278    jour toujours recu aucune information part tre...\n",
       "1279    bonjour ayant signal aux services des impots c...\n",
       "Name: desc, Length: 972, dtype: object"
      ]
     },
     "execution_count": 45,
     "metadata": {},
     "output_type": "execute_result"
    }
   ],
   "source": [
    "dgfip_df_neg[\"desc\"]"
   ]
  },
  {
   "cell_type": "code",
   "execution_count": 46,
   "id": "b34b373b",
   "metadata": {},
   "outputs": [],
   "source": [
    "sw_dgfip=Sw([])\n",
    "sw_dgfip.add_sw(Sw.custom[\"month\"])\n",
    "sw_dgfip.add_sw(Sw.custom[\"day\"])\n",
    "sw_dgfip.add_sw(Sw.custom[\"tempo\"])\n",
    "sw_dgfip.add_sw(Sw.custom[\"thing\"])\n",
    "sw_dgfip.add_sw(Sw.custom[\"pron\"])\n",
    "sw_dgfip.add_sw(Sw.custom[\"polite\"])\n",
    "sw_dgfip.add_sw(Sw.custom[\"verb\"])\n",
    "sw_dgfip.add_sw(Sw.custom[\"det\"])\n",
    "sw_dgfip.add_sw(Sw.custom[\"adj\"])\n",
    "sw_dgfip.add_sw(Sw.custom[\"subord\"])\n",
    "sw_dgfip.add_sw(Sw.custom[\"prep\"])\n",
    "sw_dgfip.add_sw(Sw.custom[\"adv\"])\n",
    "sw_dgfip.add_sw(Sw.custom[\"neg\"])\n",
    "sw_dgfip.add_sw(Sw.custom[\"gender\"])\n",
    "sw_dgfip.add_sw(Sw.custom[\"subj\"])\n",
    "sw_dgfip.add_sw(Sw.custom[\"conj\"])\n",
    "\n",
    "sw_dgfip.add_sw([\"franc\",\"francai\",\"pari\",\"impot\",\"problem\",\"faut\",\"demand\",\"servic\",\"expliqu\",\"pai\",\"pay\",\"euros\",\"lign\",\"possibl\",\"impossibl\"])\n",
    "\n",
    "sw_dgfip.add_sw([\"declar\",\"recu\"])\n"
   ]
  },
  {
   "cell_type": "code",
   "execution_count": 47,
   "id": "032598cf",
   "metadata": {},
   "outputs": [
    {
     "name": "stdout",
     "output_type": "stream",
     "text": [
      "################################################################\n",
      "Counter({'sit': 349, 'telephon': 313, 'repons': 309, 'aucun': 293, 'compt': 285, 'amend': 270, 'mail': 249, 'tax': 235, 'apre': 219, 'contact': 213, 'appel': 202, 'administr': 183, 'centr': 183, 'numero': 181, 'adress': 181, 'cas': 179, 'courri': 179, 'prelev': 177, 'fiscal': 176, 'trouv': 174, 'gouv': 166, 'pass': 160, 'revenus': 159, 'regl': 159, 'erreur': 157, 'indiqu': 154, 'messag': 153, 'inform': 152, 'part': 135, 'aid': 133, 'rempl': 132, 'jam': 130, 'seul': 127, 'joindr': 125, 'habit': 124, 'question': 121, 'docu': 117, 'public': 116, 'internet': 115, 'concern': 112, 'plusieur': 112, 'simpl': 110, 'envoi': 108, 'don': 108, 'chang': 106, 'messager': 100, 'fin': 100, 'encor': 100, 'agent': 100, 'demarch': 98, 'del': 98, 'repond': 97, 'envoy': 96, 'mont': 96, 'foncier': 95, 'deux': 93, 'espac': 92, 'dat': 91, 'formulair': 91, 'imposit': 88, 'pag': 87, 'attent': 87, 'major': 86, 'relanc': 86, 'arriv': 85, 'rend': 85, 'revenu': 85, 'personnel': 83, 'bancair': 81, 'dois': 80, 'recois': 78, 'papi': 77, 'financ': 77, 'vi': 77, 'essai': 75, 'nouveau': 73, 'lettr': 73, 'different': 73, 'banqu': 73, 'nouvel': 73, 'sourc': 73, 'signal': 72, 'taux': 72, 'effectu': 71, 'obten': 71, 'particuli': 71, 'cordial': 70, 'cod': 70, 'direct': 69, 'pouvoir': 69, 'rdv': 68, 'mis': 68, 'fonction': 68, 'acce': 66, 'renseign': 66, 'valid': 65, 'droit': 62, 'contribu': 62, 'repondr': 61, 'permet': 59, 'suiv': 59, 'retrait': 59, 'contest': 59, 'rembours': 58, 'tent': 58, 'trait': 57, 'voir': 57, 'tresorer': 56, 'publiqu': 56, 'savoir': 56, 'recept': 56, 'attend': 55, 'mot': 55, 'automat': 55, 'comprend': 54, 'retour': 54, 'entrepris': 54, 'refus': 53, 'somm': 53, 'vais': 52, 'plac': 52, 'dev': 52, 'rest': 52, 'oblig': 52, 'just': 52, 'devr': 51, 'reclam': 51, 'contravent': 51, 'pouv': 51, 'besoin': 51, 'essay': 51, 'souhait': 51, 'peu': 51, 'factur': 51, 'precedent': 50, 'acced': 49, 'charg': 49, 'rappel': 49, 'recevoir': 49, 'etat': 49, 'renvoi': 48, 'appliqu': 48, 'moyen': 48, 'mainten': 48, 'ver': 47, 'cre': 47, 'connect': 47, 'final': 46, 'debut': 46, 'effet': 46, 'comprendr': 46, 'resident': 45, 'difficult': 45, 'tel': 45, 'corrig': 45, 'laiss': 45, 'retard': 44, 'cherch': 44, 'majore': 44, 'ancien': 43, 'station': 43, 'difficil': 43, 'cour': 43, 'pos': 43, 'puisqu': 43, 'repondu': 42, 'ensuit': 42, 'ecrit': 42, 'aller': 42, 'doit': 42, 'retrouv': 42, 'procedur': 42, 'beaucoup': 42, 'informat': 41, 'pend': 41, 'eme': 41, 'modifi': 41, 'correct': 41, 'premier': 40, 'precis': 40, 'referent': 40, 'fourn': 40, 'exempl': 40, 'system': 40, 'not': 40, 'securise': 39, 'esper': 39, 'deplac': 39, 'lor': 39, 'tva': 39, 'cart': 39, 'certain': 39, 'mal': 38, 'raccroch': 38, 'avanc': 38, 'rendr': 38, 'dgfip': 38, 'confirm': 38, 'import': 38, 'modif': 38, 'experient': 38, 'manqu': 38, 'accueil': 38, 'propos': 38, 'pre': 37, 'evident': 37, 'clair': 37, 'professionnel': 37, 'bout': 37, 'fil': 37, 'bref': 36, 'pourr': 36, 'travail': 36, 'nom': 36, 'voul': 36, 'raison': 36, 'fonci': 35, 'chequ': 35, 'consult': 35, 'justif': 35, 'compliqu': 35, 'interlocuteur': 35, 'tentat': 34, 'post': 34, 'domicil': 34, 'caus': 34, 'nombreux': 34, 'calcul': 34, 'possibil': 34, 'chiffr': 34, 'activ': 34, 'enregistr': 33, 'coup': 33, 'accept': 33, 'rubriqu': 33, 'donne': 33, 'impos': 33, 'perdu': 33, 'oubl': 33, 'sip': 33, 'gen': 33, 'evit': 32, 'imprim': 32, 'verifi': 32, 'vien': 32, 'numeros': 32, 'vehicul': 32, 'enfin': 31, 'veux': 31, 'etrang': 31, 'depart': 31, 'conseil': 31, 'affich': 31, 'present': 31, 'assur': 31, 'grand': 31, 'facil': 31, 'identifi': 30, 'vis': 30, 'exist': 30, 'cec': 30, 'boit': 30, 'maison': 30, 'mer': 30, 'devoir': 30, 'choix': 30, 'recherch': 30, 'paris': 30, 'correspond': 29, 'email': 29, 'malheur': 29, 'prend': 29, 'trois': 29, 'appli': 29, 'horair': 28, 'limit': 28, 'surpris': 28, 'echang': 28, 'vain': 28, 'egal': 28, 'bloqu': 28, 'ouvert': 28, 'agit': 28, 'total': 28, 'relev': 28, 'communiqu': 28, 'bureau': 28, 'tap': 28, 'salair': 28, 'attendr': 28, 'pourt': 27, 'ferm': 27, 'foi': 27, 'travaill': 27, 'ouvertur': 27, 'success': 27, 'organ': 27, 'ger': 27, 'proprietair': 27, 'attest': 27, 'complet': 27, 'contr': 27, 'annul': 27, 'resultat': 26, 'sort': 26, 'repondeur': 26, 'usag': 26, 'loi': 26, 'titr': 26, 'rapid': 26, 'port': 26, 'sach': 26, 'bug': 25, 'fall': 25, 'notair': 25, 'amelior': 25, 'depos': 25, 'log': 25, 'vocal': 25, 'frais': 25, 'compr': 25, 'courriel': 25, 'actuel': 24, 'mond': 24, 'ecran': 24, 'succ': 24, 'fac': 24, 'si': 24, 'ete': 24, 'per': 24, 'parc': 24, 'notic': 24, 'annonc': 24, 'age': 24, 'facon': 24, 'recuper': 24, 'regularis': 24, 'general': 24, 'coordonne': 24, 'premi': 24, 'absolu': 24, 'necessair': 24, 'voitur': 24, 'perdr': 24, 'annex': 24, 'uniqu': 23, 'occup': 23, 'petit': 23, 'transm': 23, 'mensuel': 23, 'mai': 23, 'recour': 23, 'puiss': 23, 'sait': 23, 'infract': 23, 'fond': 23, 'rentr': 22, 'recommand': 22, 'inadmissibl': 22, 'continu': 22, 'bas': 22, 'accus': 22, 'decroch': 22, 'local': 22, 'solut': 22, 'client': 22, 'mesur': 22, 'march': 22, 'secur': 22, 'injoign': 22, 'mensualis': 22, 'oper': 22, 'util': 22, 'vitess': 22, 'reven': 22, 'enfant': 21, 'aut': 21, 'demeur': 21, 'vill': 21, 'repris': 21, 'sert': 21, 'incomprehensibl': 21, 'tomb': 21, 'caracter': 21, 'emploi': 21, 'prevu': 21, 'coch': 21, 'guichet': 20, 'immediat': 20, 'benefic': 20, 'disponibl': 20, 'souvent': 20, 'dem': 20, 'figur': 20, 'vir': 20, 'element': 20, 'demenag': 20, 'competent': 20, 'mention': 20, 'attendu': 20, 'cerf': 20, 'sign': 20, 'real': 20, 'humain': 20, 'forfaitair': 20, 'control': 20, 'pension': 20, 'echeanc': 20, 'ensap': 20, 'appar': 19, 'rendu': 19, 'ordin': 19, 'mauvais': 19, 'gard': 19, 'about': 19, 'valu': 19, 'penalit': 19, 'tier': 19, 'desagre': 19, 'sujet': 19, 'acte': 19, 'period': 19, 'estim': 19, 'augment': 19, 'main': 19, 'techniqu': 19, 'faudr': 19, 'recoit': 19, 'respect': 19, 'articl': 19, 'social': 19, 'immobili': 19, 'disposit': 19, 'cliqu': 19, 'relat': 18, 'second': 18, 'tresor': 18, 'souc': 18, 'postal': 18, 'veut': 18, 'reel': 18, 'cred': 18, 'clotur': 18, 'apport': 18, 'chacun': 18, 'elle': 18, 'typ': 18, 'exoner': 18, 'sen': 18, 'nombr': 18, 'serveur': 18, 'benefici': 18, 'accord': 18, 'pert': 18, 'aim': 18, 'toulous': 18, 'doubl': 18, 'connaitr': 18, 'text': 18, 'recommenc': 18, 'societ': 18, 'detail': 17, 'ceux': 17, 'etabl': 17, 'percu': 17, 'caiss': 17, 'chois': 17, 'prochain': 17, 'voil': 17, 'assist': 17, 'ouvr': 17, 'portabl': 17, 'plutot': 17, 'inscrit': 17, 'numer': 17, 'vers': 17, 'traval': 17, 'selon': 17, 'appart': 17, 'connaiss': 17, 'mieux': 17, 'acquitt': 17, 'initial': 17, 'conjoint': 17, 'covid': 17, 'ere': 17, 'fallu': 17, 'navig': 17, 'complex': 17, 'dur': 16, 'dizain': 16, 'traite': 16, 'vent': 16, 'long': 16, 'contrat': 16, 'suivr': 16, 'engag': 16, 'ident': 16, 'longu': 16, 'impress': 16, 'degrev': 16, 'cadastr': 16, 'avert': 16, 'paye': 16, 'pein': 16, 'repondent': 16, 'dysfonction': 16, 'longtemp': 16, 'arret': 16, 'con': 16, 'effect': 16, 'lien': 16, 'format': 16, 'list': 16, 'tourn': 16, 'cop': 16, 'pol': 16, 'ensembl': 16, 'laquel': 16, 'support': 16, 'epous': 16, 'baiss': 16, 'comptabl': 16, 'recevon': 15, 'regle': 15, 'notif': 15, 'sinon': 15, 'rectifi': 15, 'fonctionnair': 15, 'sub': 15, 'cfe': 15, 'simplif': 15, 'parl': 15, 'report': 15, 'accompagn': 15, 'vois': 15, 'decede': 15, 'term': 15, 'inutil': 15, 'loin': 15, 'associ': 15, 'citoyen': 15, 'redev': 15, 'pratiqu': 15, 'faux': 15, 'achet': 15, 'antai': 15, 'gris': 15, 'verif': 15, 'rib': 15, 'presqu': 15, 'occupe': 15, 'stress': 15, 'vendu': 15, 'electron': 15, 'invit': 15, 'commenc': 15, 'tromp': 15, 'facilit': 15, 'interet': 14, 'reuss': 14, 'connexion': 14, 'francais': 14, 'vit': 14, 'nez': 14, 'reconnu': 14, 'depot': 14, 'vouloir': 14, 'ven': 14, 'entrer': 14, 'consign': 14, 'remis': 14, 'consider': 14, 'prec': 14, 'preuv': 14, 'injust': 14, 'certificat': 14, 'regard': 14, 'audiovisuel': 14, 'deroul': 14, 'habitud': 14, 'energ': 14, 'fisc': 14, 'abord': 14, 'decid': 14, 'deced': 14, 'motif': 14, 'realis': 14, 'hor': 14, 'cot': 14, 'haut': 14, 'agiss': 14, 'contrair': 14, 'sm': 14, 'rectif': 14, 'superieur': 14, 'ulterieur': 14, 'sur': 14, 'voudr': 14, 'dam': 14, 'rencontr': 14, 'queu': 14, 'tarb': 14, 'impossibil': 14, 'bulletin': 14, 'permettr': 14, 'environ': 13, 'apparent': 13, 'option': 13, 'obtenu': 13, 'gestion': 13, 'auto': 13, 'quitus': 13, 'prouv': 13, 'comport': 13, 'emis': 13, 'proch': 13, 'cepend': 13, 'anomal': 13, 'envoye': 13, 'quant': 13, 'retenu': 13, 'forc': 13, 'penal': 13, 'feuill': 13, 'dessus': 13, 'vid': 13, 'cotis': 13, 'fp': 13, 'plateform': 13, 'exce': 13, 'tribunal': 13, 'outil': 13, 'siren': 13, 'doivent': 13, 'bouton': 13, 'niveau': 12, 'viv': 12, 'regulier': 12, 'endroit': 12, 'resoudr': 12, 'consequent': 12, 'remerc': 12, 'fer': 12, 'partiel': 12, 'bordeau': 12, 'systemat': 12, 'sci': 12, 'rattach': 12, 'desorm': 12, 'immatricul': 12, 'efficac': 12, 'genr': 12, 'locat': 12, 'rout': 12, 'cong': 12, 'principal': 12, 'par': 12, 'voic': 12, 'supplementair': 12, 'compren': 12, 'perm': 12, 'detenteur': 12, 'surpr': 12, 'parent': 12, 'pret': 12, 'employeur': 12, 'secondair': 12, 'parven': 12, 'net': 12, 'supprim': 12, 'voi': 12, 'extrem': 12, 'ecout': 12, 'pir': 12, 'desesper': 12, 'dure': 12, 'retourn': 12, 'resid': 12, 'parvien': 12, 'ecrir': 12, 'transfert': 12, 'dommag': 12, 'mair': 12, 'plein': 12, 'idem': 12, 'www': 12, 'sav': 12, 'reprendr': 12, 'eau': 12, 'telepai': 12, 'transact': 12, 'bonjourj': 11, 'prefer': 11, 'salut': 11, 'meilleur': 11, 'programm': 11, 'justifi': 11, 'special': 11, 'affair': 11, 'ecris': 11, 'entrepreneur': 11, 'ru': 11, 'depend': 11, 'det': 11, 'conseiller': 11, 'gener': 11, 'condit': 11, 'visibl': 11, 'creation': 11, 'serv': 11, 'prim': 11, 'pren': 11, 'remarqu': 11, 'respons': 11, 'handicap': 11, 'alert': 11, 'urgent': 11, 'galer': 11, 'mobil': 11, 'vient': 11, 'lou': 11, 'sant': 11, 'accessibl': 11, 'histor': 11, 'fich': 11, 'adresse': 11, 'retr': 11, 'soi': 11, 'touch': 11, 'ordre': 11, 'deuxiem': 11, 'joint': 11, 'googl': 11, 'ignor': 11, 'disqu': 11, 'naissanc': 11, 'all': 11, 'argent': 11, 'roug': 11, 'ajout': 11, 'parcour': 11, 'marr': 11, 'divorc': 11, 'quitt': 11, 'timbr': 11, 'manier': 10, 'renouvel': 10, 'particulier': 10, 'conclus': 10, 'recent': 10, 'obligatoir': 10, 'valide': 10, 'deb': 10, 'valeur': 10, 'propriet': 10, 'menu': 10, 'separ': 10, 'vacanc': 10, 'hont': 10, 'court': 10, 'conduit': 10, 'saint': 10, 'ddfip': 10, 'crois': 10, 'revoir': 10, 'obtien': 10, 'annuel': 10, 'lir': 10, 'complique': 10, 'effectue': 10, 'comprehens': 10, 'autoris': 10, 'usager': 10, 'fix': 10, 'depass': 10, 'parvenu': 10, 'minore': 10, 'encaiss': 10, 'combien': 10, 'essais': 10, 'resolu': 10, 'defaut': 10, 'svp': 10, 'regret': 10, 'zero': 10, 'arrier': 10, 'reduct': 10, 'moindr': 10, 'pet': 10, 'heriti': 10, 'fournisseur': 10, 'commentair': 10, 'valabl': 9, 'cher': 9, 'allez': 9, 'bloque': 9, 'hi': 9, 'financier': 9, 'plaint': 9, 'frer': 9, 'eventuel': 9, 'declare': 9, 'rapport': 9, 'ant': 9, 'robot': 9, 'dematerialis': 9, 'standard': 9, 'physiqu': 9, 'opt': 9, 'exact': 9, 'recev': 9, 'jug': 9, 'abus': 9, 'soum': 9, 'tardiv': 9, 'bienveil': 9, 'concili': 9, 'passe': 9, 'gouvern': 9, 'croi': 9, 'cout': 9, 'penibl': 9, 'plaqu': 9, 'imagin': 9, 'prix': 9, 'suffis': 9, 'revien': 9, 'econom': 9, 'recapitul': 9, 'mandat': 9, 'boucl': 9, 'futur': 9, 'telecharg': 9, 'chanc': 9, 'nul': 9, 'possess': 9, 'national': 9, 'fenetr': 9, 'chomag': 9, 'restent': 9, 'caf': 9, 'honteux': 9, 'acompt': 9, 'simul': 9, 'du': 9, 'tet': 9, 'form': 9, 'excus': 9, 'devient': 9, 'renvoient': 9, 'marseil': 9, 'concerne': 9, 'payfip': 9, 'dep': 9, 'menager': 9, 'minister': 9, 'dri': 9, 'zon': 8, 'vu': 8, 'atd': 8, 'gracieux': 8, 'beneficiair': 8, 'toulon': 8, 'employ': 8, 'oubli': 8, 'eton': 8, 'decouvr': 8, 'inaccessibl': 8, 'risqu': 8, 'valoir': 8, 'ten': 8, 'pen': 8, 'absenc': 8, 'recommande': 8, 'bleu': 8, 'debloqu': 8, 'termin': 8, 'mme': 8, 'apprend': 8, 'expos': 8, 'alloc': 8, 'rond': 8, 'gauch': 8, 'recevr': 8, 'demandent': 8, 'version': 8, 'proced': 8, 'beau': 8, 'agreabl': 8, 'cadr': 8, 'fort': 8, 'manuel': 8, 'princip': 8, 'priv': 8, 'multipl': 8, 'remont': 8, 'appui': 8, 'allait': 8, 'suff': 8, 'recouvr': 8, 'avenu': 8, 'officiel': 8, 'vol': 8, 'effort': 8, 'surtax': 8, 'solidar': 8, 'min': 8, 'patient': 8, 'instant': 8, 'etud': 8, 'volont': 8, 'surpren': 8, 'refair': 8, 'ferme': 8, 'erron': 8, 'revers': 8, 'troisiem': 8, 'photo': 8, 'sanitair': 8, 'ergonom': 8, 'processus': 8, 'mauv': 8, 'web': 8, 'grac': 8, 'cru': 8, 'enorm': 8, 'ne': 8, 'ordur': 8, 'achat': 8, 'trac': 8, 'tort': 8, 'connu': 8, 'signatur': 8, 'propr': 8, 'simplifi': 8, 'enregistre': 8, 'liberatoir': 8, 'actif': 8, 'contenu': 8, 'parcel': 8, 'reessai': 8, 'indivis': 8, 'definit': 7, 'patienc': 7, 'transmettr': 7, 'reste': 7, 'penalis': 7, 'inspecteur': 7, 'agenc': 7, 'perd': 7, 'iban': 7, 'passag': 7, 'pdf': 7, 'alle': 7, 'auparav': 7, 'deduct': 7, 'bat': 7, 'enlev': 7, 'entendr': 7, 'jet': 7, 'decouvert': 7, 'incroi': 7, 'renvoy': 7, 'recus': 7, 'rembour': 7, 'elev': 7, 'maitris': 7, 'montr': 7, 'uvre': 7, 'dirig': 7, 'dispos': 7, 'souh': 7, 'produit': 7, 'cit': 7, 'ras': 7, 'finalis': 7, 'evolu': 7, 'outr': 7, 'donat': 7, 'requet': 7, 'verbal': 7, 'forf': 7, 'indisponibl': 7, 'famill': 7, 'fonctionnent': 7, 'preleve': 7, 'huissi': 7, 'var': 7, 'activit': 7, 'remerci': 7, 'bagnol': 7, 'mediateur': 7, 'inscript': 7, 'partag': 7, 'correspondent': 7, 'apparaitr': 7, 'tabac': 7, 'pretext': 7, 'etudi': 7, 'dix': 7, 'prevenu': 7, 'cle': 7, 'interfac': 7, 'diver': 7, 'apporte': 7, 'prepar': 7, 'vivr': 7, 'http': 7, 'capabl': 7, 'origin': 7, 'incorrect': 7, 'situ': 7, 'envois': 7, 'gaz': 7, 'global': 7, 'reduit': 7, 'controleur': 7, 'opposit': 7, 'champ': 7, 'adapt': 7, 'problemat': 7, 'prevoir': 7, 'livret': 7, 'posit': 7, 'logiciel': 7, 'otci': 7, 'conducteur': 7, 'incomplet': 6, 'indique': 6, 'serieux': 6, 'combl': 6, 'defunt': 6, 'rar': 6, 'centain': 6, 'coupl': 6, 'expert': 6, 'locatair': 6, 'inferieur': 6, 'necessit': 6, 'imag': 6, 'entendu': 6, 'anterieur': 6, 'conform': 6, 'confianc': 6, 'minimum': 6, 'grenobl': 6, 'propose': 6, 'courtois': 6, 'moqu': 6, 'chemin': 6, 'repart': 6, 'honnet': 6, 'formul': 6, 'bilan': 6, 'transfer': 6, 'convers': 6, 'reconnaitr': 6, 'signe': 6, 'sonner': 6, 'sketch': 6, 'dehor': 6, 'ide': 6, 'verit': 6, 'jeun': 6, 'insist': 6, 'dessous': 6, 'commerc': 6, 'recoivent': 6, 'questionnair': 6, 'exceptionnel': 6, 'minor': 6, 'coler': 6, 'ressourc': 6, 'abatt': 6, 'histoir': 6, 'debit': 6, 'mecontent': 6, 'radar': 6, 'victim': 6, 'interact': 6, 'ren': 6, 'sup': 6, 'lament': 6, 'abandon': 6, 'comprehensibl': 6, 'cris': 6, 'captur': 6, 'fauss': 6, 'bizarr': 6, 'urgenc': 6, 'decourag': 6, 'train': 6, 'construct': 6, 'desol': 6, 'malad': 6, 'ref': 6, 'cez': 6, 'suiss': 6, 'travailleur': 6, 'incapac': 6, 'independ': 6, 'percus': 6, 'compagn': 6, 'sincer': 6, 'mod': 6, 'lie': 6, 'occas': 6, 'intermin': 6, 'tableau': 6, 'preven': 6, 'introuv': 6, 'contraint': 6, 'debite': 6, 'design': 6, 'statut': 6, 'gros': 6, 'specif': 6, 'prevoit': 6, 'possed': 6, 'realit': 6, 'rapproch': 6, 'gestionnair': 6, 'session': 6, 'identif': 6, 'gouvernemental': 6, 'recon': 6, 'derang': 6, 'deven': 6, 'usin': 6, 'prenom': 6, 'eloign': 6, 'collect': 6, 'fermetur': 6, 'securis': 6, 'remettr': 6, 'meubl': 6, 'lourd': 6, 'garag': 6, 'edf': 6, 'exercic': 6, 'hasard': 6, 'pro': 6, 'ded': 6, 'structur': 6, 'csg': 5, 'savent': 5, 'creneau': 5, 'perso': 5, 'echec': 5, 'quatr': 5, 'ball': 5, 'justic': 5, 'prononc': 5, 'ben': 5, 'polic': 5, 'disparu': 5, 'venu': 5, 'allon': 5, 'bi': 5, 'projet': 5, 'proven': 5, 'delivr': 5, 'install': 5, 'suppos': 5, 'empech': 5, 'devenu': 5, 'allais': 5, 'detaill': 5, 'inexist': 5, 'quas': 5, 'errone': 5, 'occurrent': 5, 'complementair': 5, 'agress': 5, 'frustr': 5, 'attitud': 5, 'apercu': 5, 'prerempl': 5, 'oblige': 5, 'credit': 5, 'assujet': 5, 'recontact': 5, 'commis': 5, 'destin': 5, 'li': 5, 'retent': 5, 'manipul': 5, 'demun': 5, 'incap': 5, 'km': 5, 'coherent': 5, 'modalit': 5, 'fiabl': 5, 'interrog': 5, 'content': 5, 'desespoir': 5, 'meti': 5, 'reduir': 5, 'allant': 5, 'enerv': 5, 'desastr': 5, 'bravo': 5, 'cesu': 5, 'inexact': 5, 'servicenationalquitus': 5, 'epoqu': 5, 'ticket': 5, 'applique': 5, 'lanc': 5, 'apparaissent': 5, 'decu': 5, 'kafkaien': 5, 'habituel': 5, 'injustic': 5, 'cedex': 5, 'trimestr': 5, 'impay': 5, 'hopital': 5, 'survenu': 5, 'possibilit': 5, 'exerc': 5, 'orient': 5, 'probabl': 5, 'achev': 5, 'reinitialis': 5, 'attribu': 5, 'chat': 5, 'natur': 5, 'budget': 5, 'plaindr': 5, 'reprend': 5, 'leve': 5, 'sollicit': 5, 'revient': 5, 'mien': 5, 'familial': 5, 'deduit': 5, 'enseign': 5, 'repr': 5, 'colocatair': 5, 'contient': 5, 'exemplair': 5, 'exploit': 5, 'miracl': 5, 'arrond': 5, 'sein': 5, 'anormal': 5, 'entretien': 5, 'agac': 5, 'horreur': 5, 'canal': 5, 'amenag': 5, 'percept': 5, 'interlocutric': 5, 'amen': 5, 'indulgent': 5, 'loyer': 5, 'lev': 5, 'teledeclar': 5, 'deconnexion': 5, 'reserv': 5, 'infos': 5, 'profess': 5, 'redress': 5, 'edit': 5, 'arbitrair': 5, 'oeuvr': 5, 'pot': 5, 'transport': 5, 'salar': 5, 'operationnel': 5, 'cauchemar': 5, 'inquiet': 5, 'gagn': 5, 'kbis': 5, 'ehpad': 5, 'municipal': 5, 'tip': 5, 'liberal': 5, 'test': 5, 'coll': 5, 'info': 5, 'interess': 5, 'chrom': 5, 'firefox': 5, 'indispens': 5, 'feuillet': 5, 'spanc': 5, 'condamn': 5, 'escalad': 5, 'televis': 4, 'verse': 4, 'joignabl': 4, 'verr': 4, 'allemagn': 4, 'pri': 4, 'explicit': 4, 'blocag': 4, 'rel': 4, 'contenti': 4, 'morn': 4, 'caruel': 4, 'guadeloup': 4, 'indemn': 4, 'categor': 4, 'region': 4, 'financi': 4, 'lesquel': 4, 'invest': 4, 'sugger': 4, 'except': 4, 'effac': 4, 'gratuit': 4, 'dus': 4, 'vocabulair': 4, 'consacr': 4, 'toutefois': 4, 'transmis': 4, 'ressort': 4, 'inaccept': 4, 'negat': 4, 'taxat': 4, 'autor': 4, 'capac': 4, 'etal': 4, 'demandon': 4, 'empath': 4, 'discour': 4, 'ubuesqu': 4, 'minim': 4, 'expertis': 4, 'inconnu': 4, 'bac': 4, 'infernal': 4, 'eprouv': 4, 'payon': 4, 'noel': 4, 'maman': 4, 'deduis': 4, 'date': 4, 'menac': 4, 'lyon': 4, 'integral': 4, 'bel': 4, 'proposit': 4, 'refuse': 4, 'pouvon': 4, 'essayon': 4, 'infin': 4, 'incoherent': 4, 'contradictoir': 4, 'numeris': 4, 'impose': 4, 'morlaix': 4, 'decis': 4, 'reconnaiss': 4, 'veil': 4, 'ipad': 4, 'disent': 4, 'angoiss': 4, 'demandeur': 4, 'logiqu': 4, 'balad': 4, 'xxx': 4, 'vecu': 4, 'manifest': 4, 'poursuivr': 4, 'temporair': 4, 'tarif': 4, 'evid': 4, 'band': 4, 'persuad': 4, 'transform': 4, 'obtient': 4, 'compl': 4, 'verbalis': 4, 'fou': 4, 'prestat': 4, 'vert': 4, 'nord': 4, 'compos': 4, 'metz': 4, 'maint': 4, 'exonere': 4, 'correspondr': 4, 'adhes': 4, 'pareil': 4, 'obstin': 4, 'siret': 4, 'rejet': 4, 'human': 4, 'partout': 4, 'cen': 4, 'infructu': 4, 'entend': 4, 'antib': 4, 'voisin': 4, 'portail': 4, 'interven': 4, 'calvair': 4, 'cession': 4, 'satd': 4, 'suppl': 4, 'remplac': 4, 'enfer': 4, 'rentre': 4, 'jou': 4, 'degout': 4, 'echeanci': 4, 'constitu': 4, 'intervent': 4, 'aver': 4, 'const': 4, 'notar': 4, 'satisfais': 4, 'franch': 4, 'rajout': 4, 'context': 4, 'prennent': 4, 'bis': 4, 'formalit': 4, 'process': 4, 'cumul': 4, 'peur': 4, 'connus': 4, 'vieux': 4, 'com': 4, 'mettent': 4, 'langag': 4, 'davantag': 4, 'val': 4, 'smartphon': 4, 'interpret': 4, 'bientot': 4, 'reconnect': 4, 'regional': 4, 'ecart': 4, 'represent': 4, 'irpp': 4, 'reaction': 4, 'million': 4, 'trimestriel': 4, 'fastidi': 4, 'suspens': 4, 'provisoir': 4, 'depens': 4, 'consid': 4, 'guid': 4, 'remplissag': 4, 'detent': 4, 'resum': 4, 'clic': 4, 'obstacl': 4, 'paus': 4, 'agace': 4, 'fichi': 4, 'class': 4, 'recomment': 4, 'entrain': 4, 'legal': 4, 'cert': 4, 'rhon': 4, 'persist': 4, 'inscrir': 4, 'object': 4, 'pann': 4, 'semblent': 4, 'labori': 4, 'descript': 4, 'visualis': 4, 'qual': 4, 'communique': 4, 'president': 4, 'vont': 4, 'debrouill': 4, 'annem': 4, 'savoi': 4, 'mission': 4, 'stipul': 4, 'domain': 4, 'vend': 4, 'encaisse': 4, 'restitu': 4, 'ifu': 4, 'assureur': 4, 'international': 4, 'civil': 4, 'termine': 4, 'couleur': 4, 'ajust': 4, 'plan': 4, 'modul': 4, 'neuf': 4, 'passeport': 4, 'auquel': 4, 'hauss': 4, 'imper': 4, 'barr': 4, 'combatt': 4, 'null': 4, 'vot': 4, 'vision': 4, 'deduir': 4, 'micro': 4, 'syndicat': 4, 'amort': 4, 'horribl': 4, 'invers': 4, 'aberr': 4, 'remedi': 4, 'permettent': 4, 'collectiv': 4, 'terrain': 4, 'metropol': 4, 'chin': 3, 'cgi': 3, 'coupe': 3, 'den': 3, 'mentionne': 3, 'rol': 3, 'analys': 3, 'examen': 3, 'mepr': 3, 'espagnol': 3, 'renouvele': 3, 'impass': 3, 'parisien': 3, 'remet': 3, 'profit': 3, 'associe': 3, 'maitr': 3, 'transparent': 3, 'souscript': 3, 'coordon': 3, 'necess': 3, 'courag': 3, 'renseigne': 3, 'mrxx': 3, 'appartient': 3, 'quart': 3, 'tardif': 3, 'refer': 3, 'litig': 3, 'cdt': 3, 'inclu': 3, 'bienvenu': 3, 'masqu': 3, 'appreci': 3, 'ais': 3, 'sold': 3, 'organis': 3, 'obtent': 3, 'affluenc': 3, 'dommage': 3, 'pac': 3, 'demande': 3, 'mur': 3, 'inger': 3, 'harcel': 3, 'visuel': 3, 'insupport': 3, 'pose': 3, 'prior': 3, 'atteint': 3, 'destine': 3, 'sech': 3, 'arrivon': 3, 'faison': 3, 'bip': 3, 'deplace': 3, 'langu': 3, 'informatis': 3, 'nomm': 3, 'renov': 3, 'chart': 3, 'mariann': 3, 'trouve': 3, 'loue': 3, 'esprit': 3, 'presenc': 3, 'interieur': 3, 'attendent': 3, 'redirig': 3, 'descendr': 3, 'observ': 3, 'demontr': 3, 'calm': 3, 'reper': 3, 'sep': 3, 'cens': 3, 'inflat': 3, 'aussitot': 3, 'racont': 3, 'bol': 3, 'envoient': 3, 'inappropr': 3, 'onglet': 3, 'encaissement': 3, 'postur': 3, 'froid': 3, 'faveur': 3, 'absurd': 3, 'consecut': 3, 'rangueil': 3, 'aspect': 3, 'urssaf': 3, 'luxembourg': 3, 'rapo': 3, 'prestatair': 3, 'sejour': 3, 'printemp': 3, 'arrive': 3, 'passon': 3, 'gross': 3, 'cess': 3, 'scoot': 3, 'gar': 3, 'trottoir': 3, 'reception': 3, 'precise': 3, 'libr': 3, 'cinq': 3, 'constate': 3, 'afm': 3, 'automatis': 3, 'inspectric': 3, 'souven': 3, 'cass': 3, 'villag': 3, 'distribu': 3, 'percois': 3, 'offici': 3, 'ret': 3, 'departemental': 3, 'creteil': 3, 'apprendr': 3, 'impaye': 3, 'chu': 3, 'consomm': 3, 'conductric': 3, 'notifi': 3, 'autorise': 3, 'manuscrit': 3, 'selection': 3, 'cours': 3, 'espoir': 3, 'precair': 3, 'isol': 3, 'convenu': 3, 'rebelot': 3, 'commercial': 3, 'etion': 3, 'pavillon': 3, 'rassur': 3, 'suppose': 3, 'tenu': 3, 'intent': 3, 'lill': 3, 'lois': 3, 'transmet': 3, 'rejete': 3, 'group': 3, 'prevoi': 3, 'plui': 3, 'inse': 3, 'secteur': 3, 'reiter': 3, 'susceptibl': 3, 'veulent': 3, 'recoiv': 3, 'pourcentag': 3, 'procur': 3, 'stock': 3, 'clos': 3, 'demain': 3, 'photocop': 3, 'derrier': 3, 'defaill': 3, 'tenton': 3, 'momentan': 3, 'autorit': 3, 'employe': 3, 'surfac': 3, 'corrige': 3, 'repass': 3, 'certitud': 3, 'serpent': 3, 'mang': 3, 'mensualit': 3, 'puissanc': 3, 'larg': 3, 'modifie': 3, 'popul': 3, 'transf': 3, 'nerf': 3, 'redemand': 3, 'remuner': 3, 'hotel': 3, 'consent': 3, 'reflet': 3, 'affirm': 3, 'week': 3, 'end': 3, 'montpelli': 3, 'soin': 3, 'devin': 3, 'envelopp': 3, 'dou': 3, 'mepris': 3, 'interrompu': 3, 'mast': 3, 'trist': 3, 'revel': 3, 'depasse': 3, 'even': 3, 'commissariat': 3, 'respectent': 3, 'fixe': 3, 'individuel': 3, 'trentain': 3, 'astronom': 3, 'parm': 3, 'typiqu': 3, 'auteur': 3, 'fraud': 3, 'campagn': 3, 'debout': 3, 'foul': 3, 'exon': 3, 'svi': 3, 'ddt': 3, 'responsabil': 3, 'but': 3, 'couteux': 3, 'hypothequ': 3, 'discuss': 3, 'souhaitent': 3, 'ois': 3, 'racket': 3, 'prolong': 3, 'vanv': 3, 'vierg': 3, 'affranch': 3, 'macon': 3, 'visit': 3, 'provoqu': 3, 'impact': 3, 'alimentair': 3, 'eur': 3, 'existent': 3, 'lisieux': 3, 'situe': 3, 'synthes': 3, 'digital': 3, 'command': 3, 'retap': 3, 'diminu': 3, 'cmv': 3, 'secu': 3, 'maternel': 3, 'apparu': 3, 'carr': 3, 'reclame': 3, 'repet': 3, 'desagr': 3, 'occasion': 3, 'actualis': 3, 'journal': 3, 'drfip': 3, 'impatient': 3, 'restaur': 3, 'teom': 3, 'iii': 3, 'deliber': 3, 'cnav': 3, 'detaille': 3, 'pandem': 3, 'etonne': 3, 'coinc': 3, 'xxxx': 3, 'annonce': 3, 'recup': 3, 'territoir': 3, 'pauvr': 3, 'trajet': 3, 'tombe': 3, 'moral': 3, 'drol': 3, 'adher': 3, 'amabil': 3, 'concepteur': 3, 'scpi': 3, 'requis': 3, 'intuit': 3, 'prad': 3, 'lectur': 3, 'devon': 3, 'esperon': 3, 'doublon': 3, 'bercy': 3, 'poursuit': 3, 'tri': 3, 'oncle': 3, 'cdlt': 3, 'extrait': 3, 'indemnis': 3, 'garant': 3, 'mortel': 3, 'rallong': 3, 'douan': 3, 'pist': 3, 'martin': 3, 'invisibl': 3, 'ficob': 3, 'epargn': 3, 'coche': 3, 'donateur': 3, 'judici': 3, 'charm': 3, 'mariag': 3, 'plag': 3, 'tient': 3, 'expatr': 3, 'classe': 3, 'executoir': 3, 'nov': 3, 'inutilis': 3, 'roul': 3, 'intermediair': 3, 'echou': 3, 'veuv': 3, 'blanc': 3, 'strasbourg': 3, 'pieg': 3, 'pinel': 3, 'terribl': 3, 'caluir': 3, 'avou': 3, 'plat': 3, 'ouvrent': 3, 'altern': 3, 'informaticien': 3, 'realise': 3, 'cabinet': 3, 'collabor': 3, 'personnal': 3, 'maximum': 3, 'butoir': 3, 'apparaiss': 3, 'dependon': 3, 'neanmoin': 3, 'specifi': 3, 'suggest': 3, 'brut': 3, 'donnent': 3, 'plait': 3, 'amel': 3, 'convoqu': 3, 'democrat': 3, 'anglais': 3, 'aide': 3, 'gain': 3, 'respectu': 3, 'truc': 3, 'kilometr': 3, 'parvient': 3, 'apprentissag': 3, 'seuil': 3, 'interrupt': 3, 'lent': 3, 'expir': 3, 'frustrat': 3, 'men': 3, 'navigu': 3, 'edge': 3, 'retir': 3, 'colon': 3, 'atteindr': 3, 'renonc': 3, 'preced': 3, 'soumettr': 3, 'progr': 3, 'modern': 3, 'ordi': 3, 'hauteur': 3, 'identifie': 3, 'accessibil': 3, 'normand': 3, 'assain': 3, 'arrivent': 3, 'precaut': 3, 'reactiv': 3, 'mort': 3, 'reag': 3, 'bural': 3, 'absent': 3, 'reconnaissent': 3, 'boulevard': 3, 'bezi': 3, 'escal': 3, 'fip': 3, 'pgf': 3, 'iser': 3, 'quinz': 3, 'spam': 3, 'prefectur': 3, 'rouen': 3, 'villefranch': 3, 'laurag': 3, 'cessat': 3})\n"
     ]
    }
   ],
   "source": [
    "token_dgfip,X_dgfip=token_processing(dgfip_df_neg,stoplist=stoplist,stop_list_stemming=sw_dgfip.sw_list,verbose=True,nb_occurence=2)"
   ]
  },
  {
   "cell_type": "code",
   "execution_count": 48,
   "id": "f3058df2",
   "metadata": {},
   "outputs": [
    {
     "data": {
      "application/vnd.jupyter.widget-view+json": {
       "model_id": "21efd99378614f2aac7ae9268662425d",
       "version_major": 2,
       "version_minor": 0
      },
      "text/plain": [
       "Batches:   0%|          | 0/31 [00:00<?, ?it/s]"
      ]
     },
     "metadata": {},
     "output_type": "display_data"
    },
    {
     "name": "stderr",
     "output_type": "stream",
     "text": [
      "2023-06-01 09:43:59,031 - BERTopic - Transformed documents to Embeddings\n",
      "2023-06-01 09:44:04,510 - BERTopic - Reduced dimensionality\n",
      "2023-06-01 09:44:04,581 - BERTopic - Clustered reduced embeddings\n",
      "2023-06-01 09:44:05,622 - BERTopic - Reduced number of topics from 7 to 7\n"
     ]
    },
    {
     "name": "stdout",
     "output_type": "stream",
     "text": [
      "   Topic  Count\n",
      "0      0    341\n",
      "1      1    249\n",
      "2     -1    224\n",
      "3      2     68\n",
      "4      3     54\n",
      "5      4     21\n",
      "6      5     15\n"
     ]
    }
   ],
   "source": [
    "model,topics,probabilities=use_BerTopic_model(dgfip_df_neg)"
   ]
  },
  {
   "cell_type": "code",
   "execution_count": 49,
   "id": "8b86b73a",
   "metadata": {},
   "outputs": [
    {
     "data": {
      "application/vnd.plotly.v1+json": {
       "config": {
        "plotlyServerURL": "https://plot.ly"
       },
       "data": [
        {
         "marker": {
          "color": "#D55E00"
         },
         "orientation": "h",
         "type": "bar",
         "x": [
          0.025564484964068036,
          0.027641368905593416,
          0.028195256198273053,
          0.03470934920792287,
          0.03597996869564343
         ],
         "xaxis": "x",
         "y": [
          "repons  ",
          "mail  ",
          "telephon  ",
          "sit  ",
          "amend  "
         ],
         "yaxis": "y"
        },
        {
         "marker": {
          "color": "#0072B2"
         },
         "orientation": "h",
         "type": "bar",
         "x": [
          0.033205973729081226,
          0.03423227857471716,
          0.042280546592493286,
          0.043484179116645316,
          0.07269518973293758
         ],
         "xaxis": "x2",
         "y": [
          "foncier  ",
          "revenus  ",
          "habit  ",
          "fiscal  ",
          "tax  "
         ],
         "yaxis": "y2"
        },
        {
         "marker": {
          "color": "#CC79A7"
         },
         "orientation": "h",
         "type": "bar",
         "x": [
          0.06204733249236054,
          0.06289465290900771,
          0.06526279672136365,
          0.06657599586050088,
          0.07001653837138591
         ],
         "xaxis": "x3",
         "y": [
          "repons  ",
          "contact  ",
          "aucun  ",
          "mail  ",
          "telephon  "
         ],
         "yaxis": "y3"
        },
        {
         "marker": {
          "color": "#E69F00"
         },
         "orientation": "h",
         "type": "bar",
         "x": [
          0.03496475335975234,
          0.05103171096815385,
          0.055231130845723,
          0.06598953579313253,
          0.07707173081651734
         ],
         "xaxis": "x4",
         "y": [
          "compt  ",
          "sourc  ",
          "prelev  ",
          "formulair  ",
          "cas  "
         ],
         "yaxis": "y4"
        },
        {
         "marker": {
          "color": "#56B4E9"
         },
         "orientation": "h",
         "type": "bar",
         "x": [
          0.037460776883644804,
          0.03872693874383066,
          0.044864172855815176,
          0.06285513339551757,
          0.124369176877742
         ],
         "xaxis": "x5",
         "y": [
          "emploi  ",
          "imposit  ",
          "rempl  ",
          "aucun  ",
          "aid  "
         ],
         "yaxis": "y5"
        },
        {
         "marker": {
          "color": "#009E73"
         },
         "orientation": "h",
         "type": "bar",
         "x": [
          0.049129736166163444,
          0.051124215681768684,
          0.05697176272844762,
          0.07373148610765108,
          0.09311437471081906
         ],
         "xaxis": "x6",
         "y": [
          "financ  ",
          "part  ",
          "mail  ",
          "agent  ",
          "envoy  "
         ],
         "yaxis": "y6"
        }
       ],
       "layout": {
        "annotations": [
         {
          "font": {
           "size": 16
          },
          "showarrow": false,
          "text": "Topic 0",
          "x": 0.0875,
          "xanchor": "center",
          "xref": "paper",
          "y": 1,
          "yanchor": "bottom",
          "yref": "paper"
         },
         {
          "font": {
           "size": 16
          },
          "showarrow": false,
          "text": "Topic 1",
          "x": 0.36250000000000004,
          "xanchor": "center",
          "xref": "paper",
          "y": 1,
          "yanchor": "bottom",
          "yref": "paper"
         },
         {
          "font": {
           "size": 16
          },
          "showarrow": false,
          "text": "Topic 2",
          "x": 0.6375000000000001,
          "xanchor": "center",
          "xref": "paper",
          "y": 1,
          "yanchor": "bottom",
          "yref": "paper"
         },
         {
          "font": {
           "size": 16
          },
          "showarrow": false,
          "text": "Topic 3",
          "x": 0.9125,
          "xanchor": "center",
          "xref": "paper",
          "y": 1,
          "yanchor": "bottom",
          "yref": "paper"
         },
         {
          "font": {
           "size": 16
          },
          "showarrow": false,
          "text": "Topic 4",
          "x": 0.0875,
          "xanchor": "center",
          "xref": "paper",
          "y": 0.4,
          "yanchor": "bottom",
          "yref": "paper"
         },
         {
          "font": {
           "size": 16
          },
          "showarrow": false,
          "text": "Topic 5",
          "x": 0.36250000000000004,
          "xanchor": "center",
          "xref": "paper",
          "y": 0.4,
          "yanchor": "bottom",
          "yref": "paper"
         }
        ],
        "height": 500,
        "hoverlabel": {
         "bgcolor": "white",
         "font": {
          "family": "Rockwell",
          "size": 16
         }
        },
        "showlegend": false,
        "template": {
         "data": {
          "bar": [
           {
            "error_x": {
             "color": "#2a3f5f"
            },
            "error_y": {
             "color": "#2a3f5f"
            },
            "marker": {
             "line": {
              "color": "white",
              "width": 0.5
             },
             "pattern": {
              "fillmode": "overlay",
              "size": 10,
              "solidity": 0.2
             }
            },
            "type": "bar"
           }
          ],
          "barpolar": [
           {
            "marker": {
             "line": {
              "color": "white",
              "width": 0.5
             },
             "pattern": {
              "fillmode": "overlay",
              "size": 10,
              "solidity": 0.2
             }
            },
            "type": "barpolar"
           }
          ],
          "carpet": [
           {
            "aaxis": {
             "endlinecolor": "#2a3f5f",
             "gridcolor": "#C8D4E3",
             "linecolor": "#C8D4E3",
             "minorgridcolor": "#C8D4E3",
             "startlinecolor": "#2a3f5f"
            },
            "baxis": {
             "endlinecolor": "#2a3f5f",
             "gridcolor": "#C8D4E3",
             "linecolor": "#C8D4E3",
             "minorgridcolor": "#C8D4E3",
             "startlinecolor": "#2a3f5f"
            },
            "type": "carpet"
           }
          ],
          "choropleth": [
           {
            "colorbar": {
             "outlinewidth": 0,
             "ticks": ""
            },
            "type": "choropleth"
           }
          ],
          "contour": [
           {
            "colorbar": {
             "outlinewidth": 0,
             "ticks": ""
            },
            "colorscale": [
             [
              0,
              "#0d0887"
             ],
             [
              0.1111111111111111,
              "#46039f"
             ],
             [
              0.2222222222222222,
              "#7201a8"
             ],
             [
              0.3333333333333333,
              "#9c179e"
             ],
             [
              0.4444444444444444,
              "#bd3786"
             ],
             [
              0.5555555555555556,
              "#d8576b"
             ],
             [
              0.6666666666666666,
              "#ed7953"
             ],
             [
              0.7777777777777778,
              "#fb9f3a"
             ],
             [
              0.8888888888888888,
              "#fdca26"
             ],
             [
              1,
              "#f0f921"
             ]
            ],
            "type": "contour"
           }
          ],
          "contourcarpet": [
           {
            "colorbar": {
             "outlinewidth": 0,
             "ticks": ""
            },
            "type": "contourcarpet"
           }
          ],
          "heatmap": [
           {
            "colorbar": {
             "outlinewidth": 0,
             "ticks": ""
            },
            "colorscale": [
             [
              0,
              "#0d0887"
             ],
             [
              0.1111111111111111,
              "#46039f"
             ],
             [
              0.2222222222222222,
              "#7201a8"
             ],
             [
              0.3333333333333333,
              "#9c179e"
             ],
             [
              0.4444444444444444,
              "#bd3786"
             ],
             [
              0.5555555555555556,
              "#d8576b"
             ],
             [
              0.6666666666666666,
              "#ed7953"
             ],
             [
              0.7777777777777778,
              "#fb9f3a"
             ],
             [
              0.8888888888888888,
              "#fdca26"
             ],
             [
              1,
              "#f0f921"
             ]
            ],
            "type": "heatmap"
           }
          ],
          "heatmapgl": [
           {
            "colorbar": {
             "outlinewidth": 0,
             "ticks": ""
            },
            "colorscale": [
             [
              0,
              "#0d0887"
             ],
             [
              0.1111111111111111,
              "#46039f"
             ],
             [
              0.2222222222222222,
              "#7201a8"
             ],
             [
              0.3333333333333333,
              "#9c179e"
             ],
             [
              0.4444444444444444,
              "#bd3786"
             ],
             [
              0.5555555555555556,
              "#d8576b"
             ],
             [
              0.6666666666666666,
              "#ed7953"
             ],
             [
              0.7777777777777778,
              "#fb9f3a"
             ],
             [
              0.8888888888888888,
              "#fdca26"
             ],
             [
              1,
              "#f0f921"
             ]
            ],
            "type": "heatmapgl"
           }
          ],
          "histogram": [
           {
            "marker": {
             "pattern": {
              "fillmode": "overlay",
              "size": 10,
              "solidity": 0.2
             }
            },
            "type": "histogram"
           }
          ],
          "histogram2d": [
           {
            "colorbar": {
             "outlinewidth": 0,
             "ticks": ""
            },
            "colorscale": [
             [
              0,
              "#0d0887"
             ],
             [
              0.1111111111111111,
              "#46039f"
             ],
             [
              0.2222222222222222,
              "#7201a8"
             ],
             [
              0.3333333333333333,
              "#9c179e"
             ],
             [
              0.4444444444444444,
              "#bd3786"
             ],
             [
              0.5555555555555556,
              "#d8576b"
             ],
             [
              0.6666666666666666,
              "#ed7953"
             ],
             [
              0.7777777777777778,
              "#fb9f3a"
             ],
             [
              0.8888888888888888,
              "#fdca26"
             ],
             [
              1,
              "#f0f921"
             ]
            ],
            "type": "histogram2d"
           }
          ],
          "histogram2dcontour": [
           {
            "colorbar": {
             "outlinewidth": 0,
             "ticks": ""
            },
            "colorscale": [
             [
              0,
              "#0d0887"
             ],
             [
              0.1111111111111111,
              "#46039f"
             ],
             [
              0.2222222222222222,
              "#7201a8"
             ],
             [
              0.3333333333333333,
              "#9c179e"
             ],
             [
              0.4444444444444444,
              "#bd3786"
             ],
             [
              0.5555555555555556,
              "#d8576b"
             ],
             [
              0.6666666666666666,
              "#ed7953"
             ],
             [
              0.7777777777777778,
              "#fb9f3a"
             ],
             [
              0.8888888888888888,
              "#fdca26"
             ],
             [
              1,
              "#f0f921"
             ]
            ],
            "type": "histogram2dcontour"
           }
          ],
          "mesh3d": [
           {
            "colorbar": {
             "outlinewidth": 0,
             "ticks": ""
            },
            "type": "mesh3d"
           }
          ],
          "parcoords": [
           {
            "line": {
             "colorbar": {
              "outlinewidth": 0,
              "ticks": ""
             }
            },
            "type": "parcoords"
           }
          ],
          "pie": [
           {
            "automargin": true,
            "type": "pie"
           }
          ],
          "scatter": [
           {
            "fillpattern": {
             "fillmode": "overlay",
             "size": 10,
             "solidity": 0.2
            },
            "type": "scatter"
           }
          ],
          "scatter3d": [
           {
            "line": {
             "colorbar": {
              "outlinewidth": 0,
              "ticks": ""
             }
            },
            "marker": {
             "colorbar": {
              "outlinewidth": 0,
              "ticks": ""
             }
            },
            "type": "scatter3d"
           }
          ],
          "scattercarpet": [
           {
            "marker": {
             "colorbar": {
              "outlinewidth": 0,
              "ticks": ""
             }
            },
            "type": "scattercarpet"
           }
          ],
          "scattergeo": [
           {
            "marker": {
             "colorbar": {
              "outlinewidth": 0,
              "ticks": ""
             }
            },
            "type": "scattergeo"
           }
          ],
          "scattergl": [
           {
            "marker": {
             "colorbar": {
              "outlinewidth": 0,
              "ticks": ""
             }
            },
            "type": "scattergl"
           }
          ],
          "scattermapbox": [
           {
            "marker": {
             "colorbar": {
              "outlinewidth": 0,
              "ticks": ""
             }
            },
            "type": "scattermapbox"
           }
          ],
          "scatterpolar": [
           {
            "marker": {
             "colorbar": {
              "outlinewidth": 0,
              "ticks": ""
             }
            },
            "type": "scatterpolar"
           }
          ],
          "scatterpolargl": [
           {
            "marker": {
             "colorbar": {
              "outlinewidth": 0,
              "ticks": ""
             }
            },
            "type": "scatterpolargl"
           }
          ],
          "scatterternary": [
           {
            "marker": {
             "colorbar": {
              "outlinewidth": 0,
              "ticks": ""
             }
            },
            "type": "scatterternary"
           }
          ],
          "surface": [
           {
            "colorbar": {
             "outlinewidth": 0,
             "ticks": ""
            },
            "colorscale": [
             [
              0,
              "#0d0887"
             ],
             [
              0.1111111111111111,
              "#46039f"
             ],
             [
              0.2222222222222222,
              "#7201a8"
             ],
             [
              0.3333333333333333,
              "#9c179e"
             ],
             [
              0.4444444444444444,
              "#bd3786"
             ],
             [
              0.5555555555555556,
              "#d8576b"
             ],
             [
              0.6666666666666666,
              "#ed7953"
             ],
             [
              0.7777777777777778,
              "#fb9f3a"
             ],
             [
              0.8888888888888888,
              "#fdca26"
             ],
             [
              1,
              "#f0f921"
             ]
            ],
            "type": "surface"
           }
          ],
          "table": [
           {
            "cells": {
             "fill": {
              "color": "#EBF0F8"
             },
             "line": {
              "color": "white"
             }
            },
            "header": {
             "fill": {
              "color": "#C8D4E3"
             },
             "line": {
              "color": "white"
             }
            },
            "type": "table"
           }
          ]
         },
         "layout": {
          "annotationdefaults": {
           "arrowcolor": "#2a3f5f",
           "arrowhead": 0,
           "arrowwidth": 1
          },
          "autotypenumbers": "strict",
          "coloraxis": {
           "colorbar": {
            "outlinewidth": 0,
            "ticks": ""
           }
          },
          "colorscale": {
           "diverging": [
            [
             0,
             "#8e0152"
            ],
            [
             0.1,
             "#c51b7d"
            ],
            [
             0.2,
             "#de77ae"
            ],
            [
             0.3,
             "#f1b6da"
            ],
            [
             0.4,
             "#fde0ef"
            ],
            [
             0.5,
             "#f7f7f7"
            ],
            [
             0.6,
             "#e6f5d0"
            ],
            [
             0.7,
             "#b8e186"
            ],
            [
             0.8,
             "#7fbc41"
            ],
            [
             0.9,
             "#4d9221"
            ],
            [
             1,
             "#276419"
            ]
           ],
           "sequential": [
            [
             0,
             "#0d0887"
            ],
            [
             0.1111111111111111,
             "#46039f"
            ],
            [
             0.2222222222222222,
             "#7201a8"
            ],
            [
             0.3333333333333333,
             "#9c179e"
            ],
            [
             0.4444444444444444,
             "#bd3786"
            ],
            [
             0.5555555555555556,
             "#d8576b"
            ],
            [
             0.6666666666666666,
             "#ed7953"
            ],
            [
             0.7777777777777778,
             "#fb9f3a"
            ],
            [
             0.8888888888888888,
             "#fdca26"
            ],
            [
             1,
             "#f0f921"
            ]
           ],
           "sequentialminus": [
            [
             0,
             "#0d0887"
            ],
            [
             0.1111111111111111,
             "#46039f"
            ],
            [
             0.2222222222222222,
             "#7201a8"
            ],
            [
             0.3333333333333333,
             "#9c179e"
            ],
            [
             0.4444444444444444,
             "#bd3786"
            ],
            [
             0.5555555555555556,
             "#d8576b"
            ],
            [
             0.6666666666666666,
             "#ed7953"
            ],
            [
             0.7777777777777778,
             "#fb9f3a"
            ],
            [
             0.8888888888888888,
             "#fdca26"
            ],
            [
             1,
             "#f0f921"
            ]
           ]
          },
          "colorway": [
           "#636efa",
           "#EF553B",
           "#00cc96",
           "#ab63fa",
           "#FFA15A",
           "#19d3f3",
           "#FF6692",
           "#B6E880",
           "#FF97FF",
           "#FECB52"
          ],
          "font": {
           "color": "#2a3f5f"
          },
          "geo": {
           "bgcolor": "white",
           "lakecolor": "white",
           "landcolor": "white",
           "showlakes": true,
           "showland": true,
           "subunitcolor": "#C8D4E3"
          },
          "hoverlabel": {
           "align": "left"
          },
          "hovermode": "closest",
          "mapbox": {
           "style": "light"
          },
          "paper_bgcolor": "white",
          "plot_bgcolor": "white",
          "polar": {
           "angularaxis": {
            "gridcolor": "#EBF0F8",
            "linecolor": "#EBF0F8",
            "ticks": ""
           },
           "bgcolor": "white",
           "radialaxis": {
            "gridcolor": "#EBF0F8",
            "linecolor": "#EBF0F8",
            "ticks": ""
           }
          },
          "scene": {
           "xaxis": {
            "backgroundcolor": "white",
            "gridcolor": "#DFE8F3",
            "gridwidth": 2,
            "linecolor": "#EBF0F8",
            "showbackground": true,
            "ticks": "",
            "zerolinecolor": "#EBF0F8"
           },
           "yaxis": {
            "backgroundcolor": "white",
            "gridcolor": "#DFE8F3",
            "gridwidth": 2,
            "linecolor": "#EBF0F8",
            "showbackground": true,
            "ticks": "",
            "zerolinecolor": "#EBF0F8"
           },
           "zaxis": {
            "backgroundcolor": "white",
            "gridcolor": "#DFE8F3",
            "gridwidth": 2,
            "linecolor": "#EBF0F8",
            "showbackground": true,
            "ticks": "",
            "zerolinecolor": "#EBF0F8"
           }
          },
          "shapedefaults": {
           "line": {
            "color": "#2a3f5f"
           }
          },
          "ternary": {
           "aaxis": {
            "gridcolor": "#DFE8F3",
            "linecolor": "#A2B1C6",
            "ticks": ""
           },
           "baxis": {
            "gridcolor": "#DFE8F3",
            "linecolor": "#A2B1C6",
            "ticks": ""
           },
           "bgcolor": "white",
           "caxis": {
            "gridcolor": "#DFE8F3",
            "linecolor": "#A2B1C6",
            "ticks": ""
           }
          },
          "title": {
           "x": 0.05
          },
          "xaxis": {
           "automargin": true,
           "gridcolor": "#EBF0F8",
           "linecolor": "#EBF0F8",
           "ticks": "",
           "title": {
            "standoff": 15
           },
           "zerolinecolor": "#EBF0F8",
           "zerolinewidth": 2
          },
          "yaxis": {
           "automargin": true,
           "gridcolor": "#EBF0F8",
           "linecolor": "#EBF0F8",
           "ticks": "",
           "title": {
            "standoff": 15
           },
           "zerolinecolor": "#EBF0F8",
           "zerolinewidth": 2
          }
         }
        },
        "title": {
         "font": {
          "color": "Black",
          "size": 22
         },
         "text": "Topic Word Scores",
         "x": 0.5,
         "xanchor": "center",
         "yanchor": "top"
        },
        "width": 1000,
        "xaxis": {
         "anchor": "y",
         "domain": [
          0,
          0.175
         ],
         "showgrid": true
        },
        "xaxis2": {
         "anchor": "y2",
         "domain": [
          0.275,
          0.45
         ],
         "showgrid": true
        },
        "xaxis3": {
         "anchor": "y3",
         "domain": [
          0.55,
          0.7250000000000001
         ],
         "showgrid": true
        },
        "xaxis4": {
         "anchor": "y4",
         "domain": [
          0.825,
          1
         ],
         "showgrid": true
        },
        "xaxis5": {
         "anchor": "y5",
         "domain": [
          0,
          0.175
         ],
         "showgrid": true
        },
        "xaxis6": {
         "anchor": "y6",
         "domain": [
          0.275,
          0.45
         ],
         "showgrid": true
        },
        "xaxis7": {
         "anchor": "y7",
         "domain": [
          0.55,
          0.7250000000000001
         ],
         "showgrid": true
        },
        "xaxis8": {
         "anchor": "y8",
         "domain": [
          0.825,
          1
         ],
         "showgrid": true
        },
        "yaxis": {
         "anchor": "x",
         "domain": [
          0.6000000000000001,
          1
         ],
         "showgrid": true
        },
        "yaxis2": {
         "anchor": "x2",
         "domain": [
          0.6000000000000001,
          1
         ],
         "showgrid": true
        },
        "yaxis3": {
         "anchor": "x3",
         "domain": [
          0.6000000000000001,
          1
         ],
         "showgrid": true
        },
        "yaxis4": {
         "anchor": "x4",
         "domain": [
          0.6000000000000001,
          1
         ],
         "showgrid": true
        },
        "yaxis5": {
         "anchor": "x5",
         "domain": [
          0,
          0.4
         ],
         "showgrid": true
        },
        "yaxis6": {
         "anchor": "x6",
         "domain": [
          0,
          0.4
         ],
         "showgrid": true
        },
        "yaxis7": {
         "anchor": "x7",
         "domain": [
          0,
          0.4
         ],
         "showgrid": true
        },
        "yaxis8": {
         "anchor": "x8",
         "domain": [
          0,
          0.4
         ],
         "showgrid": true
        }
       }
      },
      "text/html": [
       "<div>                            <div id=\"fccb9d18-a57a-4324-8ff9-f61f1dd83385\" class=\"plotly-graph-div\" style=\"height:500px; width:1000px;\"></div>            <script type=\"text/javascript\">                require([\"plotly\"], function(Plotly) {                    window.PLOTLYENV=window.PLOTLYENV || {};                                    if (document.getElementById(\"fccb9d18-a57a-4324-8ff9-f61f1dd83385\")) {                    Plotly.newPlot(                        \"fccb9d18-a57a-4324-8ff9-f61f1dd83385\",                        [{\"marker\":{\"color\":\"#D55E00\"},\"orientation\":\"h\",\"x\":[0.025564484964068036,0.027641368905593416,0.028195256198273053,0.03470934920792287,0.03597996869564343],\"y\":[\"repons  \",\"mail  \",\"telephon  \",\"sit  \",\"amend  \"],\"type\":\"bar\",\"xaxis\":\"x\",\"yaxis\":\"y\"},{\"marker\":{\"color\":\"#0072B2\"},\"orientation\":\"h\",\"x\":[0.033205973729081226,0.03423227857471716,0.042280546592493286,0.043484179116645316,0.07269518973293758],\"y\":[\"foncier  \",\"revenus  \",\"habit  \",\"fiscal  \",\"tax  \"],\"type\":\"bar\",\"xaxis\":\"x2\",\"yaxis\":\"y2\"},{\"marker\":{\"color\":\"#CC79A7\"},\"orientation\":\"h\",\"x\":[0.06204733249236054,0.06289465290900771,0.06526279672136365,0.06657599586050088,0.07001653837138591],\"y\":[\"repons  \",\"contact  \",\"aucun  \",\"mail  \",\"telephon  \"],\"type\":\"bar\",\"xaxis\":\"x3\",\"yaxis\":\"y3\"},{\"marker\":{\"color\":\"#E69F00\"},\"orientation\":\"h\",\"x\":[0.03496475335975234,0.05103171096815385,0.055231130845723,0.06598953579313253,0.07707173081651734],\"y\":[\"compt  \",\"sourc  \",\"prelev  \",\"formulair  \",\"cas  \"],\"type\":\"bar\",\"xaxis\":\"x4\",\"yaxis\":\"y4\"},{\"marker\":{\"color\":\"#56B4E9\"},\"orientation\":\"h\",\"x\":[0.037460776883644804,0.03872693874383066,0.044864172855815176,0.06285513339551757,0.124369176877742],\"y\":[\"emploi  \",\"imposit  \",\"rempl  \",\"aucun  \",\"aid  \"],\"type\":\"bar\",\"xaxis\":\"x5\",\"yaxis\":\"y5\"},{\"marker\":{\"color\":\"#009E73\"},\"orientation\":\"h\",\"x\":[0.049129736166163444,0.051124215681768684,0.05697176272844762,0.07373148610765108,0.09311437471081906],\"y\":[\"financ  \",\"part  \",\"mail  \",\"agent  \",\"envoy  \"],\"type\":\"bar\",\"xaxis\":\"x6\",\"yaxis\":\"y6\"}],                        {\"template\":{\"data\":{\"barpolar\":[{\"marker\":{\"line\":{\"color\":\"white\",\"width\":0.5},\"pattern\":{\"fillmode\":\"overlay\",\"size\":10,\"solidity\":0.2}},\"type\":\"barpolar\"}],\"bar\":[{\"error_x\":{\"color\":\"#2a3f5f\"},\"error_y\":{\"color\":\"#2a3f5f\"},\"marker\":{\"line\":{\"color\":\"white\",\"width\":0.5},\"pattern\":{\"fillmode\":\"overlay\",\"size\":10,\"solidity\":0.2}},\"type\":\"bar\"}],\"carpet\":[{\"aaxis\":{\"endlinecolor\":\"#2a3f5f\",\"gridcolor\":\"#C8D4E3\",\"linecolor\":\"#C8D4E3\",\"minorgridcolor\":\"#C8D4E3\",\"startlinecolor\":\"#2a3f5f\"},\"baxis\":{\"endlinecolor\":\"#2a3f5f\",\"gridcolor\":\"#C8D4E3\",\"linecolor\":\"#C8D4E3\",\"minorgridcolor\":\"#C8D4E3\",\"startlinecolor\":\"#2a3f5f\"},\"type\":\"carpet\"}],\"choropleth\":[{\"colorbar\":{\"outlinewidth\":0,\"ticks\":\"\"},\"type\":\"choropleth\"}],\"contourcarpet\":[{\"colorbar\":{\"outlinewidth\":0,\"ticks\":\"\"},\"type\":\"contourcarpet\"}],\"contour\":[{\"colorbar\":{\"outlinewidth\":0,\"ticks\":\"\"},\"colorscale\":[[0.0,\"#0d0887\"],[0.1111111111111111,\"#46039f\"],[0.2222222222222222,\"#7201a8\"],[0.3333333333333333,\"#9c179e\"],[0.4444444444444444,\"#bd3786\"],[0.5555555555555556,\"#d8576b\"],[0.6666666666666666,\"#ed7953\"],[0.7777777777777778,\"#fb9f3a\"],[0.8888888888888888,\"#fdca26\"],[1.0,\"#f0f921\"]],\"type\":\"contour\"}],\"heatmapgl\":[{\"colorbar\":{\"outlinewidth\":0,\"ticks\":\"\"},\"colorscale\":[[0.0,\"#0d0887\"],[0.1111111111111111,\"#46039f\"],[0.2222222222222222,\"#7201a8\"],[0.3333333333333333,\"#9c179e\"],[0.4444444444444444,\"#bd3786\"],[0.5555555555555556,\"#d8576b\"],[0.6666666666666666,\"#ed7953\"],[0.7777777777777778,\"#fb9f3a\"],[0.8888888888888888,\"#fdca26\"],[1.0,\"#f0f921\"]],\"type\":\"heatmapgl\"}],\"heatmap\":[{\"colorbar\":{\"outlinewidth\":0,\"ticks\":\"\"},\"colorscale\":[[0.0,\"#0d0887\"],[0.1111111111111111,\"#46039f\"],[0.2222222222222222,\"#7201a8\"],[0.3333333333333333,\"#9c179e\"],[0.4444444444444444,\"#bd3786\"],[0.5555555555555556,\"#d8576b\"],[0.6666666666666666,\"#ed7953\"],[0.7777777777777778,\"#fb9f3a\"],[0.8888888888888888,\"#fdca26\"],[1.0,\"#f0f921\"]],\"type\":\"heatmap\"}],\"histogram2dcontour\":[{\"colorbar\":{\"outlinewidth\":0,\"ticks\":\"\"},\"colorscale\":[[0.0,\"#0d0887\"],[0.1111111111111111,\"#46039f\"],[0.2222222222222222,\"#7201a8\"],[0.3333333333333333,\"#9c179e\"],[0.4444444444444444,\"#bd3786\"],[0.5555555555555556,\"#d8576b\"],[0.6666666666666666,\"#ed7953\"],[0.7777777777777778,\"#fb9f3a\"],[0.8888888888888888,\"#fdca26\"],[1.0,\"#f0f921\"]],\"type\":\"histogram2dcontour\"}],\"histogram2d\":[{\"colorbar\":{\"outlinewidth\":0,\"ticks\":\"\"},\"colorscale\":[[0.0,\"#0d0887\"],[0.1111111111111111,\"#46039f\"],[0.2222222222222222,\"#7201a8\"],[0.3333333333333333,\"#9c179e\"],[0.4444444444444444,\"#bd3786\"],[0.5555555555555556,\"#d8576b\"],[0.6666666666666666,\"#ed7953\"],[0.7777777777777778,\"#fb9f3a\"],[0.8888888888888888,\"#fdca26\"],[1.0,\"#f0f921\"]],\"type\":\"histogram2d\"}],\"histogram\":[{\"marker\":{\"pattern\":{\"fillmode\":\"overlay\",\"size\":10,\"solidity\":0.2}},\"type\":\"histogram\"}],\"mesh3d\":[{\"colorbar\":{\"outlinewidth\":0,\"ticks\":\"\"},\"type\":\"mesh3d\"}],\"parcoords\":[{\"line\":{\"colorbar\":{\"outlinewidth\":0,\"ticks\":\"\"}},\"type\":\"parcoords\"}],\"pie\":[{\"automargin\":true,\"type\":\"pie\"}],\"scatter3d\":[{\"line\":{\"colorbar\":{\"outlinewidth\":0,\"ticks\":\"\"}},\"marker\":{\"colorbar\":{\"outlinewidth\":0,\"ticks\":\"\"}},\"type\":\"scatter3d\"}],\"scattercarpet\":[{\"marker\":{\"colorbar\":{\"outlinewidth\":0,\"ticks\":\"\"}},\"type\":\"scattercarpet\"}],\"scattergeo\":[{\"marker\":{\"colorbar\":{\"outlinewidth\":0,\"ticks\":\"\"}},\"type\":\"scattergeo\"}],\"scattergl\":[{\"marker\":{\"colorbar\":{\"outlinewidth\":0,\"ticks\":\"\"}},\"type\":\"scattergl\"}],\"scattermapbox\":[{\"marker\":{\"colorbar\":{\"outlinewidth\":0,\"ticks\":\"\"}},\"type\":\"scattermapbox\"}],\"scatterpolargl\":[{\"marker\":{\"colorbar\":{\"outlinewidth\":0,\"ticks\":\"\"}},\"type\":\"scatterpolargl\"}],\"scatterpolar\":[{\"marker\":{\"colorbar\":{\"outlinewidth\":0,\"ticks\":\"\"}},\"type\":\"scatterpolar\"}],\"scatter\":[{\"fillpattern\":{\"fillmode\":\"overlay\",\"size\":10,\"solidity\":0.2},\"type\":\"scatter\"}],\"scatterternary\":[{\"marker\":{\"colorbar\":{\"outlinewidth\":0,\"ticks\":\"\"}},\"type\":\"scatterternary\"}],\"surface\":[{\"colorbar\":{\"outlinewidth\":0,\"ticks\":\"\"},\"colorscale\":[[0.0,\"#0d0887\"],[0.1111111111111111,\"#46039f\"],[0.2222222222222222,\"#7201a8\"],[0.3333333333333333,\"#9c179e\"],[0.4444444444444444,\"#bd3786\"],[0.5555555555555556,\"#d8576b\"],[0.6666666666666666,\"#ed7953\"],[0.7777777777777778,\"#fb9f3a\"],[0.8888888888888888,\"#fdca26\"],[1.0,\"#f0f921\"]],\"type\":\"surface\"}],\"table\":[{\"cells\":{\"fill\":{\"color\":\"#EBF0F8\"},\"line\":{\"color\":\"white\"}},\"header\":{\"fill\":{\"color\":\"#C8D4E3\"},\"line\":{\"color\":\"white\"}},\"type\":\"table\"}]},\"layout\":{\"annotationdefaults\":{\"arrowcolor\":\"#2a3f5f\",\"arrowhead\":0,\"arrowwidth\":1},\"autotypenumbers\":\"strict\",\"coloraxis\":{\"colorbar\":{\"outlinewidth\":0,\"ticks\":\"\"}},\"colorscale\":{\"diverging\":[[0,\"#8e0152\"],[0.1,\"#c51b7d\"],[0.2,\"#de77ae\"],[0.3,\"#f1b6da\"],[0.4,\"#fde0ef\"],[0.5,\"#f7f7f7\"],[0.6,\"#e6f5d0\"],[0.7,\"#b8e186\"],[0.8,\"#7fbc41\"],[0.9,\"#4d9221\"],[1,\"#276419\"]],\"sequential\":[[0.0,\"#0d0887\"],[0.1111111111111111,\"#46039f\"],[0.2222222222222222,\"#7201a8\"],[0.3333333333333333,\"#9c179e\"],[0.4444444444444444,\"#bd3786\"],[0.5555555555555556,\"#d8576b\"],[0.6666666666666666,\"#ed7953\"],[0.7777777777777778,\"#fb9f3a\"],[0.8888888888888888,\"#fdca26\"],[1.0,\"#f0f921\"]],\"sequentialminus\":[[0.0,\"#0d0887\"],[0.1111111111111111,\"#46039f\"],[0.2222222222222222,\"#7201a8\"],[0.3333333333333333,\"#9c179e\"],[0.4444444444444444,\"#bd3786\"],[0.5555555555555556,\"#d8576b\"],[0.6666666666666666,\"#ed7953\"],[0.7777777777777778,\"#fb9f3a\"],[0.8888888888888888,\"#fdca26\"],[1.0,\"#f0f921\"]]},\"colorway\":[\"#636efa\",\"#EF553B\",\"#00cc96\",\"#ab63fa\",\"#FFA15A\",\"#19d3f3\",\"#FF6692\",\"#B6E880\",\"#FF97FF\",\"#FECB52\"],\"font\":{\"color\":\"#2a3f5f\"},\"geo\":{\"bgcolor\":\"white\",\"lakecolor\":\"white\",\"landcolor\":\"white\",\"showlakes\":true,\"showland\":true,\"subunitcolor\":\"#C8D4E3\"},\"hoverlabel\":{\"align\":\"left\"},\"hovermode\":\"closest\",\"mapbox\":{\"style\":\"light\"},\"paper_bgcolor\":\"white\",\"plot_bgcolor\":\"white\",\"polar\":{\"angularaxis\":{\"gridcolor\":\"#EBF0F8\",\"linecolor\":\"#EBF0F8\",\"ticks\":\"\"},\"bgcolor\":\"white\",\"radialaxis\":{\"gridcolor\":\"#EBF0F8\",\"linecolor\":\"#EBF0F8\",\"ticks\":\"\"}},\"scene\":{\"xaxis\":{\"backgroundcolor\":\"white\",\"gridcolor\":\"#DFE8F3\",\"gridwidth\":2,\"linecolor\":\"#EBF0F8\",\"showbackground\":true,\"ticks\":\"\",\"zerolinecolor\":\"#EBF0F8\"},\"yaxis\":{\"backgroundcolor\":\"white\",\"gridcolor\":\"#DFE8F3\",\"gridwidth\":2,\"linecolor\":\"#EBF0F8\",\"showbackground\":true,\"ticks\":\"\",\"zerolinecolor\":\"#EBF0F8\"},\"zaxis\":{\"backgroundcolor\":\"white\",\"gridcolor\":\"#DFE8F3\",\"gridwidth\":2,\"linecolor\":\"#EBF0F8\",\"showbackground\":true,\"ticks\":\"\",\"zerolinecolor\":\"#EBF0F8\"}},\"shapedefaults\":{\"line\":{\"color\":\"#2a3f5f\"}},\"ternary\":{\"aaxis\":{\"gridcolor\":\"#DFE8F3\",\"linecolor\":\"#A2B1C6\",\"ticks\":\"\"},\"baxis\":{\"gridcolor\":\"#DFE8F3\",\"linecolor\":\"#A2B1C6\",\"ticks\":\"\"},\"bgcolor\":\"white\",\"caxis\":{\"gridcolor\":\"#DFE8F3\",\"linecolor\":\"#A2B1C6\",\"ticks\":\"\"}},\"title\":{\"x\":0.05},\"xaxis\":{\"automargin\":true,\"gridcolor\":\"#EBF0F8\",\"linecolor\":\"#EBF0F8\",\"ticks\":\"\",\"title\":{\"standoff\":15},\"zerolinecolor\":\"#EBF0F8\",\"zerolinewidth\":2},\"yaxis\":{\"automargin\":true,\"gridcolor\":\"#EBF0F8\",\"linecolor\":\"#EBF0F8\",\"ticks\":\"\",\"title\":{\"standoff\":15},\"zerolinecolor\":\"#EBF0F8\",\"zerolinewidth\":2}}},\"xaxis\":{\"anchor\":\"y\",\"domain\":[0.0,0.175],\"showgrid\":true},\"yaxis\":{\"anchor\":\"x\",\"domain\":[0.6000000000000001,1.0],\"showgrid\":true},\"xaxis2\":{\"anchor\":\"y2\",\"domain\":[0.275,0.45],\"showgrid\":true},\"yaxis2\":{\"anchor\":\"x2\",\"domain\":[0.6000000000000001,1.0],\"showgrid\":true},\"xaxis3\":{\"anchor\":\"y3\",\"domain\":[0.55,0.7250000000000001],\"showgrid\":true},\"yaxis3\":{\"anchor\":\"x3\",\"domain\":[0.6000000000000001,1.0],\"showgrid\":true},\"xaxis4\":{\"anchor\":\"y4\",\"domain\":[0.825,1.0],\"showgrid\":true},\"yaxis4\":{\"anchor\":\"x4\",\"domain\":[0.6000000000000001,1.0],\"showgrid\":true},\"xaxis5\":{\"anchor\":\"y5\",\"domain\":[0.0,0.175],\"showgrid\":true},\"yaxis5\":{\"anchor\":\"x5\",\"domain\":[0.0,0.4],\"showgrid\":true},\"xaxis6\":{\"anchor\":\"y6\",\"domain\":[0.275,0.45],\"showgrid\":true},\"yaxis6\":{\"anchor\":\"x6\",\"domain\":[0.0,0.4],\"showgrid\":true},\"xaxis7\":{\"anchor\":\"y7\",\"domain\":[0.55,0.7250000000000001],\"showgrid\":true},\"yaxis7\":{\"anchor\":\"x7\",\"domain\":[0.0,0.4],\"showgrid\":true},\"xaxis8\":{\"anchor\":\"y8\",\"domain\":[0.825,1.0],\"showgrid\":true},\"yaxis8\":{\"anchor\":\"x8\",\"domain\":[0.0,0.4],\"showgrid\":true},\"annotations\":[{\"font\":{\"size\":16},\"showarrow\":false,\"text\":\"Topic 0\",\"x\":0.0875,\"xanchor\":\"center\",\"xref\":\"paper\",\"y\":1.0,\"yanchor\":\"bottom\",\"yref\":\"paper\"},{\"font\":{\"size\":16},\"showarrow\":false,\"text\":\"Topic 1\",\"x\":0.36250000000000004,\"xanchor\":\"center\",\"xref\":\"paper\",\"y\":1.0,\"yanchor\":\"bottom\",\"yref\":\"paper\"},{\"font\":{\"size\":16},\"showarrow\":false,\"text\":\"Topic 2\",\"x\":0.6375000000000001,\"xanchor\":\"center\",\"xref\":\"paper\",\"y\":1.0,\"yanchor\":\"bottom\",\"yref\":\"paper\"},{\"font\":{\"size\":16},\"showarrow\":false,\"text\":\"Topic 3\",\"x\":0.9125,\"xanchor\":\"center\",\"xref\":\"paper\",\"y\":1.0,\"yanchor\":\"bottom\",\"yref\":\"paper\"},{\"font\":{\"size\":16},\"showarrow\":false,\"text\":\"Topic 4\",\"x\":0.0875,\"xanchor\":\"center\",\"xref\":\"paper\",\"y\":0.4,\"yanchor\":\"bottom\",\"yref\":\"paper\"},{\"font\":{\"size\":16},\"showarrow\":false,\"text\":\"Topic 5\",\"x\":0.36250000000000004,\"xanchor\":\"center\",\"xref\":\"paper\",\"y\":0.4,\"yanchor\":\"bottom\",\"yref\":\"paper\"}],\"title\":{\"font\":{\"size\":22,\"color\":\"Black\"},\"text\":\"Topic Word Scores\",\"x\":0.5,\"xanchor\":\"center\",\"yanchor\":\"top\"},\"hoverlabel\":{\"font\":{\"size\":16,\"family\":\"Rockwell\"},\"bgcolor\":\"white\"},\"showlegend\":false,\"width\":1000,\"height\":500},                        {\"responsive\": true}                    ).then(function(){\n",
       "                            \n",
       "var gd = document.getElementById('fccb9d18-a57a-4324-8ff9-f61f1dd83385');\n",
       "var x = new MutationObserver(function (mutations, observer) {{\n",
       "        var display = window.getComputedStyle(gd).display;\n",
       "        if (!display || display === 'none') {{\n",
       "            console.log([gd, 'removed!']);\n",
       "            Plotly.purge(gd);\n",
       "            observer.disconnect();\n",
       "        }}\n",
       "}});\n",
       "\n",
       "// Listen for the removal of the full notebook cells\n",
       "var notebookContainer = gd.closest('#notebook-container');\n",
       "if (notebookContainer) {{\n",
       "    x.observe(notebookContainer, {childList: true});\n",
       "}}\n",
       "\n",
       "// Listen for the clearing of the current output cell\n",
       "var outputEl = gd.closest('.output');\n",
       "if (outputEl) {{\n",
       "    x.observe(outputEl, {childList: true});\n",
       "}}\n",
       "\n",
       "                        })                };                });            </script>        </div>"
      ]
     },
     "metadata": {},
     "output_type": "display_data"
    }
   ],
   "source": [
    "model.visualize_barchart()"
   ]
  },
  {
   "cell_type": "code",
   "execution_count": 50,
   "id": "e90ac335",
   "metadata": {},
   "outputs": [
    {
     "data": {
      "application/vnd.plotly.v1+json": {
       "config": {
        "plotlyServerURL": "https://plot.ly"
       },
       "data": [
        {
         "coloraxis": "coloraxis",
         "hovertemplate": "x: %{x}<br>y: %{y}<br>Similarity Score: %{z}<extra></extra>",
         "name": "0",
         "type": "heatmap",
         "x": [
          "0_amend_sit_telephon",
          "1_tax_fiscal_habit",
          "2_telephon_mail_aucun",
          "3_cas_formulair_prelev",
          "4_aid_aucun_rempl",
          "5_envoy_agent_mail"
         ],
         "xaxis": "x",
         "y": [
          "0_amend_sit_telephon",
          "1_tax_fiscal_habit",
          "2_telephon_mail_aucun",
          "3_cas_formulair_prelev",
          "4_aid_aucun_rempl",
          "5_envoy_agent_mail"
         ],
         "yaxis": "y",
         "z": [
          [
           0.9999999999999997,
           0.6732580758257143,
           0.9400957997370865,
           0.8200181679264871,
           0.7956845281522646,
           0.8329078873125655
          ],
          [
           0.6732580758257143,
           1.0000000000000004,
           0.6439597637742801,
           0.7822112913071635,
           0.704774637239624,
           0.6790977389431935
          ],
          [
           0.9400957997370865,
           0.6439597637742801,
           1.0000000000000004,
           0.7885670426355924,
           0.8106516777285842,
           0.8565808875832076
          ],
          [
           0.8200181679264871,
           0.7822112913071635,
           0.7885670426355924,
           0.9999999999999996,
           0.8284760610427371,
           0.8115125134804662
          ],
          [
           0.7956845281522646,
           0.704774637239624,
           0.8106516777285842,
           0.8284760610427371,
           0.9999999999999996,
           0.8744456190504346
          ],
          [
           0.8329078873125655,
           0.6790977389431935,
           0.8565808875832076,
           0.8115125134804662,
           0.8744456190504346,
           0.9999999999999999
          ]
         ]
        }
       ],
       "layout": {
        "coloraxis": {
         "colorbar": {
          "title": {
           "text": "Similarity Score"
          }
         },
         "colorscale": [
          [
           0,
           "rgb(247,252,240)"
          ],
          [
           0.125,
           "rgb(224,243,219)"
          ],
          [
           0.25,
           "rgb(204,235,197)"
          ],
          [
           0.375,
           "rgb(168,221,181)"
          ],
          [
           0.5,
           "rgb(123,204,196)"
          ],
          [
           0.625,
           "rgb(78,179,211)"
          ],
          [
           0.75,
           "rgb(43,140,190)"
          ],
          [
           0.875,
           "rgb(8,104,172)"
          ],
          [
           1,
           "rgb(8,64,129)"
          ]
         ]
        },
        "height": 800,
        "hoverlabel": {
         "bgcolor": "white",
         "font": {
          "family": "Rockwell",
          "size": 16
         }
        },
        "legend": {
         "title": {
          "text": "Trend"
         }
        },
        "margin": {
         "t": 60
        },
        "showlegend": true,
        "template": {
         "data": {
          "bar": [
           {
            "error_x": {
             "color": "#2a3f5f"
            },
            "error_y": {
             "color": "#2a3f5f"
            },
            "marker": {
             "line": {
              "color": "#E5ECF6",
              "width": 0.5
             },
             "pattern": {
              "fillmode": "overlay",
              "size": 10,
              "solidity": 0.2
             }
            },
            "type": "bar"
           }
          ],
          "barpolar": [
           {
            "marker": {
             "line": {
              "color": "#E5ECF6",
              "width": 0.5
             },
             "pattern": {
              "fillmode": "overlay",
              "size": 10,
              "solidity": 0.2
             }
            },
            "type": "barpolar"
           }
          ],
          "carpet": [
           {
            "aaxis": {
             "endlinecolor": "#2a3f5f",
             "gridcolor": "white",
             "linecolor": "white",
             "minorgridcolor": "white",
             "startlinecolor": "#2a3f5f"
            },
            "baxis": {
             "endlinecolor": "#2a3f5f",
             "gridcolor": "white",
             "linecolor": "white",
             "minorgridcolor": "white",
             "startlinecolor": "#2a3f5f"
            },
            "type": "carpet"
           }
          ],
          "choropleth": [
           {
            "colorbar": {
             "outlinewidth": 0,
             "ticks": ""
            },
            "type": "choropleth"
           }
          ],
          "contour": [
           {
            "colorbar": {
             "outlinewidth": 0,
             "ticks": ""
            },
            "colorscale": [
             [
              0,
              "#0d0887"
             ],
             [
              0.1111111111111111,
              "#46039f"
             ],
             [
              0.2222222222222222,
              "#7201a8"
             ],
             [
              0.3333333333333333,
              "#9c179e"
             ],
             [
              0.4444444444444444,
              "#bd3786"
             ],
             [
              0.5555555555555556,
              "#d8576b"
             ],
             [
              0.6666666666666666,
              "#ed7953"
             ],
             [
              0.7777777777777778,
              "#fb9f3a"
             ],
             [
              0.8888888888888888,
              "#fdca26"
             ],
             [
              1,
              "#f0f921"
             ]
            ],
            "type": "contour"
           }
          ],
          "contourcarpet": [
           {
            "colorbar": {
             "outlinewidth": 0,
             "ticks": ""
            },
            "type": "contourcarpet"
           }
          ],
          "heatmap": [
           {
            "colorbar": {
             "outlinewidth": 0,
             "ticks": ""
            },
            "colorscale": [
             [
              0,
              "#0d0887"
             ],
             [
              0.1111111111111111,
              "#46039f"
             ],
             [
              0.2222222222222222,
              "#7201a8"
             ],
             [
              0.3333333333333333,
              "#9c179e"
             ],
             [
              0.4444444444444444,
              "#bd3786"
             ],
             [
              0.5555555555555556,
              "#d8576b"
             ],
             [
              0.6666666666666666,
              "#ed7953"
             ],
             [
              0.7777777777777778,
              "#fb9f3a"
             ],
             [
              0.8888888888888888,
              "#fdca26"
             ],
             [
              1,
              "#f0f921"
             ]
            ],
            "type": "heatmap"
           }
          ],
          "heatmapgl": [
           {
            "colorbar": {
             "outlinewidth": 0,
             "ticks": ""
            },
            "colorscale": [
             [
              0,
              "#0d0887"
             ],
             [
              0.1111111111111111,
              "#46039f"
             ],
             [
              0.2222222222222222,
              "#7201a8"
             ],
             [
              0.3333333333333333,
              "#9c179e"
             ],
             [
              0.4444444444444444,
              "#bd3786"
             ],
             [
              0.5555555555555556,
              "#d8576b"
             ],
             [
              0.6666666666666666,
              "#ed7953"
             ],
             [
              0.7777777777777778,
              "#fb9f3a"
             ],
             [
              0.8888888888888888,
              "#fdca26"
             ],
             [
              1,
              "#f0f921"
             ]
            ],
            "type": "heatmapgl"
           }
          ],
          "histogram": [
           {
            "marker": {
             "pattern": {
              "fillmode": "overlay",
              "size": 10,
              "solidity": 0.2
             }
            },
            "type": "histogram"
           }
          ],
          "histogram2d": [
           {
            "colorbar": {
             "outlinewidth": 0,
             "ticks": ""
            },
            "colorscale": [
             [
              0,
              "#0d0887"
             ],
             [
              0.1111111111111111,
              "#46039f"
             ],
             [
              0.2222222222222222,
              "#7201a8"
             ],
             [
              0.3333333333333333,
              "#9c179e"
             ],
             [
              0.4444444444444444,
              "#bd3786"
             ],
             [
              0.5555555555555556,
              "#d8576b"
             ],
             [
              0.6666666666666666,
              "#ed7953"
             ],
             [
              0.7777777777777778,
              "#fb9f3a"
             ],
             [
              0.8888888888888888,
              "#fdca26"
             ],
             [
              1,
              "#f0f921"
             ]
            ],
            "type": "histogram2d"
           }
          ],
          "histogram2dcontour": [
           {
            "colorbar": {
             "outlinewidth": 0,
             "ticks": ""
            },
            "colorscale": [
             [
              0,
              "#0d0887"
             ],
             [
              0.1111111111111111,
              "#46039f"
             ],
             [
              0.2222222222222222,
              "#7201a8"
             ],
             [
              0.3333333333333333,
              "#9c179e"
             ],
             [
              0.4444444444444444,
              "#bd3786"
             ],
             [
              0.5555555555555556,
              "#d8576b"
             ],
             [
              0.6666666666666666,
              "#ed7953"
             ],
             [
              0.7777777777777778,
              "#fb9f3a"
             ],
             [
              0.8888888888888888,
              "#fdca26"
             ],
             [
              1,
              "#f0f921"
             ]
            ],
            "type": "histogram2dcontour"
           }
          ],
          "mesh3d": [
           {
            "colorbar": {
             "outlinewidth": 0,
             "ticks": ""
            },
            "type": "mesh3d"
           }
          ],
          "parcoords": [
           {
            "line": {
             "colorbar": {
              "outlinewidth": 0,
              "ticks": ""
             }
            },
            "type": "parcoords"
           }
          ],
          "pie": [
           {
            "automargin": true,
            "type": "pie"
           }
          ],
          "scatter": [
           {
            "fillpattern": {
             "fillmode": "overlay",
             "size": 10,
             "solidity": 0.2
            },
            "type": "scatter"
           }
          ],
          "scatter3d": [
           {
            "line": {
             "colorbar": {
              "outlinewidth": 0,
              "ticks": ""
             }
            },
            "marker": {
             "colorbar": {
              "outlinewidth": 0,
              "ticks": ""
             }
            },
            "type": "scatter3d"
           }
          ],
          "scattercarpet": [
           {
            "marker": {
             "colorbar": {
              "outlinewidth": 0,
              "ticks": ""
             }
            },
            "type": "scattercarpet"
           }
          ],
          "scattergeo": [
           {
            "marker": {
             "colorbar": {
              "outlinewidth": 0,
              "ticks": ""
             }
            },
            "type": "scattergeo"
           }
          ],
          "scattergl": [
           {
            "marker": {
             "colorbar": {
              "outlinewidth": 0,
              "ticks": ""
             }
            },
            "type": "scattergl"
           }
          ],
          "scattermapbox": [
           {
            "marker": {
             "colorbar": {
              "outlinewidth": 0,
              "ticks": ""
             }
            },
            "type": "scattermapbox"
           }
          ],
          "scatterpolar": [
           {
            "marker": {
             "colorbar": {
              "outlinewidth": 0,
              "ticks": ""
             }
            },
            "type": "scatterpolar"
           }
          ],
          "scatterpolargl": [
           {
            "marker": {
             "colorbar": {
              "outlinewidth": 0,
              "ticks": ""
             }
            },
            "type": "scatterpolargl"
           }
          ],
          "scatterternary": [
           {
            "marker": {
             "colorbar": {
              "outlinewidth": 0,
              "ticks": ""
             }
            },
            "type": "scatterternary"
           }
          ],
          "surface": [
           {
            "colorbar": {
             "outlinewidth": 0,
             "ticks": ""
            },
            "colorscale": [
             [
              0,
              "#0d0887"
             ],
             [
              0.1111111111111111,
              "#46039f"
             ],
             [
              0.2222222222222222,
              "#7201a8"
             ],
             [
              0.3333333333333333,
              "#9c179e"
             ],
             [
              0.4444444444444444,
              "#bd3786"
             ],
             [
              0.5555555555555556,
              "#d8576b"
             ],
             [
              0.6666666666666666,
              "#ed7953"
             ],
             [
              0.7777777777777778,
              "#fb9f3a"
             ],
             [
              0.8888888888888888,
              "#fdca26"
             ],
             [
              1,
              "#f0f921"
             ]
            ],
            "type": "surface"
           }
          ],
          "table": [
           {
            "cells": {
             "fill": {
              "color": "#EBF0F8"
             },
             "line": {
              "color": "white"
             }
            },
            "header": {
             "fill": {
              "color": "#C8D4E3"
             },
             "line": {
              "color": "white"
             }
            },
            "type": "table"
           }
          ]
         },
         "layout": {
          "annotationdefaults": {
           "arrowcolor": "#2a3f5f",
           "arrowhead": 0,
           "arrowwidth": 1
          },
          "autotypenumbers": "strict",
          "coloraxis": {
           "colorbar": {
            "outlinewidth": 0,
            "ticks": ""
           }
          },
          "colorscale": {
           "diverging": [
            [
             0,
             "#8e0152"
            ],
            [
             0.1,
             "#c51b7d"
            ],
            [
             0.2,
             "#de77ae"
            ],
            [
             0.3,
             "#f1b6da"
            ],
            [
             0.4,
             "#fde0ef"
            ],
            [
             0.5,
             "#f7f7f7"
            ],
            [
             0.6,
             "#e6f5d0"
            ],
            [
             0.7,
             "#b8e186"
            ],
            [
             0.8,
             "#7fbc41"
            ],
            [
             0.9,
             "#4d9221"
            ],
            [
             1,
             "#276419"
            ]
           ],
           "sequential": [
            [
             0,
             "#0d0887"
            ],
            [
             0.1111111111111111,
             "#46039f"
            ],
            [
             0.2222222222222222,
             "#7201a8"
            ],
            [
             0.3333333333333333,
             "#9c179e"
            ],
            [
             0.4444444444444444,
             "#bd3786"
            ],
            [
             0.5555555555555556,
             "#d8576b"
            ],
            [
             0.6666666666666666,
             "#ed7953"
            ],
            [
             0.7777777777777778,
             "#fb9f3a"
            ],
            [
             0.8888888888888888,
             "#fdca26"
            ],
            [
             1,
             "#f0f921"
            ]
           ],
           "sequentialminus": [
            [
             0,
             "#0d0887"
            ],
            [
             0.1111111111111111,
             "#46039f"
            ],
            [
             0.2222222222222222,
             "#7201a8"
            ],
            [
             0.3333333333333333,
             "#9c179e"
            ],
            [
             0.4444444444444444,
             "#bd3786"
            ],
            [
             0.5555555555555556,
             "#d8576b"
            ],
            [
             0.6666666666666666,
             "#ed7953"
            ],
            [
             0.7777777777777778,
             "#fb9f3a"
            ],
            [
             0.8888888888888888,
             "#fdca26"
            ],
            [
             1,
             "#f0f921"
            ]
           ]
          },
          "colorway": [
           "#636efa",
           "#EF553B",
           "#00cc96",
           "#ab63fa",
           "#FFA15A",
           "#19d3f3",
           "#FF6692",
           "#B6E880",
           "#FF97FF",
           "#FECB52"
          ],
          "font": {
           "color": "#2a3f5f"
          },
          "geo": {
           "bgcolor": "white",
           "lakecolor": "white",
           "landcolor": "#E5ECF6",
           "showlakes": true,
           "showland": true,
           "subunitcolor": "white"
          },
          "hoverlabel": {
           "align": "left"
          },
          "hovermode": "closest",
          "mapbox": {
           "style": "light"
          },
          "paper_bgcolor": "white",
          "plot_bgcolor": "#E5ECF6",
          "polar": {
           "angularaxis": {
            "gridcolor": "white",
            "linecolor": "white",
            "ticks": ""
           },
           "bgcolor": "#E5ECF6",
           "radialaxis": {
            "gridcolor": "white",
            "linecolor": "white",
            "ticks": ""
           }
          },
          "scene": {
           "xaxis": {
            "backgroundcolor": "#E5ECF6",
            "gridcolor": "white",
            "gridwidth": 2,
            "linecolor": "white",
            "showbackground": true,
            "ticks": "",
            "zerolinecolor": "white"
           },
           "yaxis": {
            "backgroundcolor": "#E5ECF6",
            "gridcolor": "white",
            "gridwidth": 2,
            "linecolor": "white",
            "showbackground": true,
            "ticks": "",
            "zerolinecolor": "white"
           },
           "zaxis": {
            "backgroundcolor": "#E5ECF6",
            "gridcolor": "white",
            "gridwidth": 2,
            "linecolor": "white",
            "showbackground": true,
            "ticks": "",
            "zerolinecolor": "white"
           }
          },
          "shapedefaults": {
           "line": {
            "color": "#2a3f5f"
           }
          },
          "ternary": {
           "aaxis": {
            "gridcolor": "white",
            "linecolor": "white",
            "ticks": ""
           },
           "baxis": {
            "gridcolor": "white",
            "linecolor": "white",
            "ticks": ""
           },
           "bgcolor": "#E5ECF6",
           "caxis": {
            "gridcolor": "white",
            "linecolor": "white",
            "ticks": ""
           }
          },
          "title": {
           "x": 0.05
          },
          "xaxis": {
           "automargin": true,
           "gridcolor": "white",
           "linecolor": "white",
           "ticks": "",
           "title": {
            "standoff": 15
           },
           "zerolinecolor": "white",
           "zerolinewidth": 2
          },
          "yaxis": {
           "automargin": true,
           "gridcolor": "white",
           "linecolor": "white",
           "ticks": "",
           "title": {
            "standoff": 15
           },
           "zerolinecolor": "white",
           "zerolinewidth": 2
          }
         }
        },
        "title": {
         "font": {
          "color": "Black",
          "size": 22
         },
         "text": "<b>Similarity Matrix</b>",
         "x": 0.55,
         "xanchor": "center",
         "y": 0.95,
         "yanchor": "top"
        },
        "width": 800,
        "xaxis": {
         "anchor": "y",
         "constrain": "domain",
         "domain": [
          0,
          1
         ],
         "scaleanchor": "y"
        },
        "yaxis": {
         "anchor": "x",
         "autorange": "reversed",
         "constrain": "domain",
         "domain": [
          0,
          1
         ]
        }
       }
      },
      "text/html": [
       "<div>                            <div id=\"3971945c-bfbf-4264-80ab-215944c78807\" class=\"plotly-graph-div\" style=\"height:800px; width:800px;\"></div>            <script type=\"text/javascript\">                require([\"plotly\"], function(Plotly) {                    window.PLOTLYENV=window.PLOTLYENV || {};                                    if (document.getElementById(\"3971945c-bfbf-4264-80ab-215944c78807\")) {                    Plotly.newPlot(                        \"3971945c-bfbf-4264-80ab-215944c78807\",                        [{\"coloraxis\":\"coloraxis\",\"name\":\"0\",\"x\":[\"0_amend_sit_telephon\",\"1_tax_fiscal_habit\",\"2_telephon_mail_aucun\",\"3_cas_formulair_prelev\",\"4_aid_aucun_rempl\",\"5_envoy_agent_mail\"],\"y\":[\"0_amend_sit_telephon\",\"1_tax_fiscal_habit\",\"2_telephon_mail_aucun\",\"3_cas_formulair_prelev\",\"4_aid_aucun_rempl\",\"5_envoy_agent_mail\"],\"z\":[[0.9999999999999997,0.6732580758257143,0.9400957997370865,0.8200181679264871,0.7956845281522646,0.8329078873125655],[0.6732580758257143,1.0000000000000004,0.6439597637742801,0.7822112913071635,0.704774637239624,0.6790977389431935],[0.9400957997370865,0.6439597637742801,1.0000000000000004,0.7885670426355924,0.8106516777285842,0.8565808875832076],[0.8200181679264871,0.7822112913071635,0.7885670426355924,0.9999999999999996,0.8284760610427371,0.8115125134804662],[0.7956845281522646,0.704774637239624,0.8106516777285842,0.8284760610427371,0.9999999999999996,0.8744456190504346],[0.8329078873125655,0.6790977389431935,0.8565808875832076,0.8115125134804662,0.8744456190504346,0.9999999999999999]],\"type\":\"heatmap\",\"xaxis\":\"x\",\"yaxis\":\"y\",\"hovertemplate\":\"x: %{x}<br>y: %{y}<br>Similarity Score: %{z}<extra></extra>\"}],                        {\"template\":{\"data\":{\"histogram2dcontour\":[{\"type\":\"histogram2dcontour\",\"colorbar\":{\"outlinewidth\":0,\"ticks\":\"\"},\"colorscale\":[[0.0,\"#0d0887\"],[0.1111111111111111,\"#46039f\"],[0.2222222222222222,\"#7201a8\"],[0.3333333333333333,\"#9c179e\"],[0.4444444444444444,\"#bd3786\"],[0.5555555555555556,\"#d8576b\"],[0.6666666666666666,\"#ed7953\"],[0.7777777777777778,\"#fb9f3a\"],[0.8888888888888888,\"#fdca26\"],[1.0,\"#f0f921\"]]}],\"choropleth\":[{\"type\":\"choropleth\",\"colorbar\":{\"outlinewidth\":0,\"ticks\":\"\"}}],\"histogram2d\":[{\"type\":\"histogram2d\",\"colorbar\":{\"outlinewidth\":0,\"ticks\":\"\"},\"colorscale\":[[0.0,\"#0d0887\"],[0.1111111111111111,\"#46039f\"],[0.2222222222222222,\"#7201a8\"],[0.3333333333333333,\"#9c179e\"],[0.4444444444444444,\"#bd3786\"],[0.5555555555555556,\"#d8576b\"],[0.6666666666666666,\"#ed7953\"],[0.7777777777777778,\"#fb9f3a\"],[0.8888888888888888,\"#fdca26\"],[1.0,\"#f0f921\"]]}],\"heatmap\":[{\"type\":\"heatmap\",\"colorbar\":{\"outlinewidth\":0,\"ticks\":\"\"},\"colorscale\":[[0.0,\"#0d0887\"],[0.1111111111111111,\"#46039f\"],[0.2222222222222222,\"#7201a8\"],[0.3333333333333333,\"#9c179e\"],[0.4444444444444444,\"#bd3786\"],[0.5555555555555556,\"#d8576b\"],[0.6666666666666666,\"#ed7953\"],[0.7777777777777778,\"#fb9f3a\"],[0.8888888888888888,\"#fdca26\"],[1.0,\"#f0f921\"]]}],\"heatmapgl\":[{\"type\":\"heatmapgl\",\"colorbar\":{\"outlinewidth\":0,\"ticks\":\"\"},\"colorscale\":[[0.0,\"#0d0887\"],[0.1111111111111111,\"#46039f\"],[0.2222222222222222,\"#7201a8\"],[0.3333333333333333,\"#9c179e\"],[0.4444444444444444,\"#bd3786\"],[0.5555555555555556,\"#d8576b\"],[0.6666666666666666,\"#ed7953\"],[0.7777777777777778,\"#fb9f3a\"],[0.8888888888888888,\"#fdca26\"],[1.0,\"#f0f921\"]]}],\"contourcarpet\":[{\"type\":\"contourcarpet\",\"colorbar\":{\"outlinewidth\":0,\"ticks\":\"\"}}],\"contour\":[{\"type\":\"contour\",\"colorbar\":{\"outlinewidth\":0,\"ticks\":\"\"},\"colorscale\":[[0.0,\"#0d0887\"],[0.1111111111111111,\"#46039f\"],[0.2222222222222222,\"#7201a8\"],[0.3333333333333333,\"#9c179e\"],[0.4444444444444444,\"#bd3786\"],[0.5555555555555556,\"#d8576b\"],[0.6666666666666666,\"#ed7953\"],[0.7777777777777778,\"#fb9f3a\"],[0.8888888888888888,\"#fdca26\"],[1.0,\"#f0f921\"]]}],\"surface\":[{\"type\":\"surface\",\"colorbar\":{\"outlinewidth\":0,\"ticks\":\"\"},\"colorscale\":[[0.0,\"#0d0887\"],[0.1111111111111111,\"#46039f\"],[0.2222222222222222,\"#7201a8\"],[0.3333333333333333,\"#9c179e\"],[0.4444444444444444,\"#bd3786\"],[0.5555555555555556,\"#d8576b\"],[0.6666666666666666,\"#ed7953\"],[0.7777777777777778,\"#fb9f3a\"],[0.8888888888888888,\"#fdca26\"],[1.0,\"#f0f921\"]]}],\"mesh3d\":[{\"type\":\"mesh3d\",\"colorbar\":{\"outlinewidth\":0,\"ticks\":\"\"}}],\"scatter\":[{\"fillpattern\":{\"fillmode\":\"overlay\",\"size\":10,\"solidity\":0.2},\"type\":\"scatter\"}],\"parcoords\":[{\"type\":\"parcoords\",\"line\":{\"colorbar\":{\"outlinewidth\":0,\"ticks\":\"\"}}}],\"scatterpolargl\":[{\"type\":\"scatterpolargl\",\"marker\":{\"colorbar\":{\"outlinewidth\":0,\"ticks\":\"\"}}}],\"bar\":[{\"error_x\":{\"color\":\"#2a3f5f\"},\"error_y\":{\"color\":\"#2a3f5f\"},\"marker\":{\"line\":{\"color\":\"#E5ECF6\",\"width\":0.5},\"pattern\":{\"fillmode\":\"overlay\",\"size\":10,\"solidity\":0.2}},\"type\":\"bar\"}],\"scattergeo\":[{\"type\":\"scattergeo\",\"marker\":{\"colorbar\":{\"outlinewidth\":0,\"ticks\":\"\"}}}],\"scatterpolar\":[{\"type\":\"scatterpolar\",\"marker\":{\"colorbar\":{\"outlinewidth\":0,\"ticks\":\"\"}}}],\"histogram\":[{\"marker\":{\"pattern\":{\"fillmode\":\"overlay\",\"size\":10,\"solidity\":0.2}},\"type\":\"histogram\"}],\"scattergl\":[{\"type\":\"scattergl\",\"marker\":{\"colorbar\":{\"outlinewidth\":0,\"ticks\":\"\"}}}],\"scatter3d\":[{\"type\":\"scatter3d\",\"line\":{\"colorbar\":{\"outlinewidth\":0,\"ticks\":\"\"}},\"marker\":{\"colorbar\":{\"outlinewidth\":0,\"ticks\":\"\"}}}],\"scattermapbox\":[{\"type\":\"scattermapbox\",\"marker\":{\"colorbar\":{\"outlinewidth\":0,\"ticks\":\"\"}}}],\"scatterternary\":[{\"type\":\"scatterternary\",\"marker\":{\"colorbar\":{\"outlinewidth\":0,\"ticks\":\"\"}}}],\"scattercarpet\":[{\"type\":\"scattercarpet\",\"marker\":{\"colorbar\":{\"outlinewidth\":0,\"ticks\":\"\"}}}],\"carpet\":[{\"aaxis\":{\"endlinecolor\":\"#2a3f5f\",\"gridcolor\":\"white\",\"linecolor\":\"white\",\"minorgridcolor\":\"white\",\"startlinecolor\":\"#2a3f5f\"},\"baxis\":{\"endlinecolor\":\"#2a3f5f\",\"gridcolor\":\"white\",\"linecolor\":\"white\",\"minorgridcolor\":\"white\",\"startlinecolor\":\"#2a3f5f\"},\"type\":\"carpet\"}],\"table\":[{\"cells\":{\"fill\":{\"color\":\"#EBF0F8\"},\"line\":{\"color\":\"white\"}},\"header\":{\"fill\":{\"color\":\"#C8D4E3\"},\"line\":{\"color\":\"white\"}},\"type\":\"table\"}],\"barpolar\":[{\"marker\":{\"line\":{\"color\":\"#E5ECF6\",\"width\":0.5},\"pattern\":{\"fillmode\":\"overlay\",\"size\":10,\"solidity\":0.2}},\"type\":\"barpolar\"}],\"pie\":[{\"automargin\":true,\"type\":\"pie\"}]},\"layout\":{\"autotypenumbers\":\"strict\",\"colorway\":[\"#636efa\",\"#EF553B\",\"#00cc96\",\"#ab63fa\",\"#FFA15A\",\"#19d3f3\",\"#FF6692\",\"#B6E880\",\"#FF97FF\",\"#FECB52\"],\"font\":{\"color\":\"#2a3f5f\"},\"hovermode\":\"closest\",\"hoverlabel\":{\"align\":\"left\"},\"paper_bgcolor\":\"white\",\"plot_bgcolor\":\"#E5ECF6\",\"polar\":{\"bgcolor\":\"#E5ECF6\",\"angularaxis\":{\"gridcolor\":\"white\",\"linecolor\":\"white\",\"ticks\":\"\"},\"radialaxis\":{\"gridcolor\":\"white\",\"linecolor\":\"white\",\"ticks\":\"\"}},\"ternary\":{\"bgcolor\":\"#E5ECF6\",\"aaxis\":{\"gridcolor\":\"white\",\"linecolor\":\"white\",\"ticks\":\"\"},\"baxis\":{\"gridcolor\":\"white\",\"linecolor\":\"white\",\"ticks\":\"\"},\"caxis\":{\"gridcolor\":\"white\",\"linecolor\":\"white\",\"ticks\":\"\"}},\"coloraxis\":{\"colorbar\":{\"outlinewidth\":0,\"ticks\":\"\"}},\"colorscale\":{\"sequential\":[[0.0,\"#0d0887\"],[0.1111111111111111,\"#46039f\"],[0.2222222222222222,\"#7201a8\"],[0.3333333333333333,\"#9c179e\"],[0.4444444444444444,\"#bd3786\"],[0.5555555555555556,\"#d8576b\"],[0.6666666666666666,\"#ed7953\"],[0.7777777777777778,\"#fb9f3a\"],[0.8888888888888888,\"#fdca26\"],[1.0,\"#f0f921\"]],\"sequentialminus\":[[0.0,\"#0d0887\"],[0.1111111111111111,\"#46039f\"],[0.2222222222222222,\"#7201a8\"],[0.3333333333333333,\"#9c179e\"],[0.4444444444444444,\"#bd3786\"],[0.5555555555555556,\"#d8576b\"],[0.6666666666666666,\"#ed7953\"],[0.7777777777777778,\"#fb9f3a\"],[0.8888888888888888,\"#fdca26\"],[1.0,\"#f0f921\"]],\"diverging\":[[0,\"#8e0152\"],[0.1,\"#c51b7d\"],[0.2,\"#de77ae\"],[0.3,\"#f1b6da\"],[0.4,\"#fde0ef\"],[0.5,\"#f7f7f7\"],[0.6,\"#e6f5d0\"],[0.7,\"#b8e186\"],[0.8,\"#7fbc41\"],[0.9,\"#4d9221\"],[1,\"#276419\"]]},\"xaxis\":{\"gridcolor\":\"white\",\"linecolor\":\"white\",\"ticks\":\"\",\"title\":{\"standoff\":15},\"zerolinecolor\":\"white\",\"automargin\":true,\"zerolinewidth\":2},\"yaxis\":{\"gridcolor\":\"white\",\"linecolor\":\"white\",\"ticks\":\"\",\"title\":{\"standoff\":15},\"zerolinecolor\":\"white\",\"automargin\":true,\"zerolinewidth\":2},\"scene\":{\"xaxis\":{\"backgroundcolor\":\"#E5ECF6\",\"gridcolor\":\"white\",\"linecolor\":\"white\",\"showbackground\":true,\"ticks\":\"\",\"zerolinecolor\":\"white\",\"gridwidth\":2},\"yaxis\":{\"backgroundcolor\":\"#E5ECF6\",\"gridcolor\":\"white\",\"linecolor\":\"white\",\"showbackground\":true,\"ticks\":\"\",\"zerolinecolor\":\"white\",\"gridwidth\":2},\"zaxis\":{\"backgroundcolor\":\"#E5ECF6\",\"gridcolor\":\"white\",\"linecolor\":\"white\",\"showbackground\":true,\"ticks\":\"\",\"zerolinecolor\":\"white\",\"gridwidth\":2}},\"shapedefaults\":{\"line\":{\"color\":\"#2a3f5f\"}},\"annotationdefaults\":{\"arrowcolor\":\"#2a3f5f\",\"arrowhead\":0,\"arrowwidth\":1},\"geo\":{\"bgcolor\":\"white\",\"landcolor\":\"#E5ECF6\",\"subunitcolor\":\"white\",\"showland\":true,\"showlakes\":true,\"lakecolor\":\"white\"},\"title\":{\"x\":0.05},\"mapbox\":{\"style\":\"light\"}}},\"xaxis\":{\"anchor\":\"y\",\"domain\":[0.0,1.0],\"scaleanchor\":\"y\",\"constrain\":\"domain\"},\"yaxis\":{\"anchor\":\"x\",\"domain\":[0.0,1.0],\"autorange\":\"reversed\",\"constrain\":\"domain\"},\"coloraxis\":{\"colorbar\":{\"title\":{\"text\":\"Similarity Score\"}},\"colorscale\":[[0.0,\"rgb(247,252,240)\"],[0.125,\"rgb(224,243,219)\"],[0.25,\"rgb(204,235,197)\"],[0.375,\"rgb(168,221,181)\"],[0.5,\"rgb(123,204,196)\"],[0.625,\"rgb(78,179,211)\"],[0.75,\"rgb(43,140,190)\"],[0.875,\"rgb(8,104,172)\"],[1.0,\"rgb(8,64,129)\"]]},\"margin\":{\"t\":60},\"title\":{\"font\":{\"size\":22,\"color\":\"Black\"},\"text\":\"<b>Similarity Matrix</b>\",\"y\":0.95,\"x\":0.55,\"xanchor\":\"center\",\"yanchor\":\"top\"},\"hoverlabel\":{\"font\":{\"size\":16,\"family\":\"Rockwell\"},\"bgcolor\":\"white\"},\"width\":800,\"height\":800,\"showlegend\":true,\"legend\":{\"title\":{\"text\":\"Trend\"}}},                        {\"responsive\": true}                    ).then(function(){\n",
       "                            \n",
       "var gd = document.getElementById('3971945c-bfbf-4264-80ab-215944c78807');\n",
       "var x = new MutationObserver(function (mutations, observer) {{\n",
       "        var display = window.getComputedStyle(gd).display;\n",
       "        if (!display || display === 'none') {{\n",
       "            console.log([gd, 'removed!']);\n",
       "            Plotly.purge(gd);\n",
       "            observer.disconnect();\n",
       "        }}\n",
       "}});\n",
       "\n",
       "// Listen for the removal of the full notebook cells\n",
       "var notebookContainer = gd.closest('#notebook-container');\n",
       "if (notebookContainer) {{\n",
       "    x.observe(notebookContainer, {childList: true});\n",
       "}}\n",
       "\n",
       "// Listen for the clearing of the current output cell\n",
       "var outputEl = gd.closest('.output');\n",
       "if (outputEl) {{\n",
       "    x.observe(outputEl, {childList: true});\n",
       "}}\n",
       "\n",
       "                        })                };                });            </script>        </div>"
      ]
     },
     "metadata": {},
     "output_type": "display_data"
    }
   ],
   "source": [
    "model.visualize_heatmap()"
   ]
  },
  {
   "cell_type": "code",
   "execution_count": 51,
   "id": "5ece58df",
   "metadata": {},
   "outputs": [
    {
     "data": {
      "application/vnd.plotly.v1+json": {
       "config": {
        "plotlyServerURL": "https://plot.ly"
       },
       "data": [
        {
         "customdata": [
          [
           0,
           "amend | sit | telephon | mail | repons",
           341
          ],
          [
           1,
           "tax | fiscal | habit | revenus | foncier",
           249
          ],
          [
           2,
           "telephon | mail | aucun | contact | repons",
           68
          ],
          [
           3,
           "cas | formulair | prelev | sourc | compt",
           54
          ],
          [
           4,
           "aid | aucun | rempl | imposit | emploi",
           21
          ],
          [
           5,
           "envoy | agent | mail | part | financ",
           15
          ]
         ],
         "hovertemplate": "<b>Topic %{customdata[0]}</b><br>%{customdata[1]}<br>Size: %{customdata[2]}",
         "legendgroup": "",
         "marker": {
          "color": "#B0BEC5",
          "line": {
           "color": "DarkSlateGrey",
           "width": 2
          },
          "size": [
           341,
           249,
           68,
           54,
           21,
           15
          ],
          "sizemode": "area",
          "sizeref": 0.213125,
          "symbol": "circle"
         },
         "mode": "markers",
         "name": "",
         "orientation": "v",
         "showlegend": false,
         "type": "scatter",
         "x": [
          -2.39064359664917,
          -1.678688645362854,
          -3.192185401916504,
          -0.8894462585449219,
          -0.3460283875465393,
          -3.576613664627075
         ],
         "xaxis": "x",
         "y": [
          9.538366317749023,
          10.06978702545166,
          9.377312660217285,
          10.656838417053223,
          10.333361625671387,
          10.008696556091309
         ],
         "yaxis": "y"
        }
       ],
       "layout": {
        "annotations": [
         {
          "showarrow": false,
          "text": "D1",
          "x": -4.1131057143211365,
          "y": 10.11303997039795,
          "yshift": 10
         },
         {
          "showarrow": false,
          "text": "D2",
          "x": -2.2036149218678474,
          "xshift": 10,
          "y": 12.255364179611206
         }
        ],
        "height": 650,
        "hoverlabel": {
         "bgcolor": "white",
         "font": {
          "family": "Rockwell",
          "size": 16
         }
        },
        "legend": {
         "itemsizing": "constant",
         "tracegroupgap": 0
        },
        "margin": {
         "t": 60
        },
        "shapes": [
         {
          "line": {
           "color": "#CFD8DC",
           "width": 2
          },
          "type": "line",
          "x0": -2.2036149218678474,
          "x1": -2.2036149218678474,
          "y0": 7.970715761184692,
          "y1": 12.255364179611206
         },
         {
          "line": {
           "color": "#9E9E9E",
           "width": 2
          },
          "type": "line",
          "x0": -4.1131057143211365,
          "x1": -0.2941241294145584,
          "y0": 10.11303997039795,
          "y1": 10.11303997039795
         }
        ],
        "sliders": [
         {
          "active": 0,
          "pad": {
           "t": 50
          },
          "steps": [
           {
            "args": [
             {
              "marker.color": [
               [
                "red",
                "#B0BEC5",
                "#B0BEC5",
                "#B0BEC5",
                "#B0BEC5",
                "#B0BEC5"
               ]
              ]
             }
            ],
            "label": "Topic 0",
            "method": "update"
           },
           {
            "args": [
             {
              "marker.color": [
               [
                "#B0BEC5",
                "red",
                "#B0BEC5",
                "#B0BEC5",
                "#B0BEC5",
                "#B0BEC5"
               ]
              ]
             }
            ],
            "label": "Topic 1",
            "method": "update"
           },
           {
            "args": [
             {
              "marker.color": [
               [
                "#B0BEC5",
                "#B0BEC5",
                "red",
                "#B0BEC5",
                "#B0BEC5",
                "#B0BEC5"
               ]
              ]
             }
            ],
            "label": "Topic 2",
            "method": "update"
           },
           {
            "args": [
             {
              "marker.color": [
               [
                "#B0BEC5",
                "#B0BEC5",
                "#B0BEC5",
                "red",
                "#B0BEC5",
                "#B0BEC5"
               ]
              ]
             }
            ],
            "label": "Topic 3",
            "method": "update"
           },
           {
            "args": [
             {
              "marker.color": [
               [
                "#B0BEC5",
                "#B0BEC5",
                "#B0BEC5",
                "#B0BEC5",
                "red",
                "#B0BEC5"
               ]
              ]
             }
            ],
            "label": "Topic 4",
            "method": "update"
           },
           {
            "args": [
             {
              "marker.color": [
               [
                "#B0BEC5",
                "#B0BEC5",
                "#B0BEC5",
                "#B0BEC5",
                "#B0BEC5",
                "red"
               ]
              ]
             }
            ],
            "label": "Topic 5",
            "method": "update"
           }
          ]
         }
        ],
        "template": {
         "data": {
          "bar": [
           {
            "error_x": {
             "color": "rgb(36,36,36)"
            },
            "error_y": {
             "color": "rgb(36,36,36)"
            },
            "marker": {
             "line": {
              "color": "white",
              "width": 0.5
             },
             "pattern": {
              "fillmode": "overlay",
              "size": 10,
              "solidity": 0.2
             }
            },
            "type": "bar"
           }
          ],
          "barpolar": [
           {
            "marker": {
             "line": {
              "color": "white",
              "width": 0.5
             },
             "pattern": {
              "fillmode": "overlay",
              "size": 10,
              "solidity": 0.2
             }
            },
            "type": "barpolar"
           }
          ],
          "carpet": [
           {
            "aaxis": {
             "endlinecolor": "rgb(36,36,36)",
             "gridcolor": "white",
             "linecolor": "white",
             "minorgridcolor": "white",
             "startlinecolor": "rgb(36,36,36)"
            },
            "baxis": {
             "endlinecolor": "rgb(36,36,36)",
             "gridcolor": "white",
             "linecolor": "white",
             "minorgridcolor": "white",
             "startlinecolor": "rgb(36,36,36)"
            },
            "type": "carpet"
           }
          ],
          "choropleth": [
           {
            "colorbar": {
             "outlinewidth": 1,
             "tickcolor": "rgb(36,36,36)",
             "ticks": "outside"
            },
            "type": "choropleth"
           }
          ],
          "contour": [
           {
            "colorbar": {
             "outlinewidth": 1,
             "tickcolor": "rgb(36,36,36)",
             "ticks": "outside"
            },
            "colorscale": [
             [
              0,
              "#440154"
             ],
             [
              0.1111111111111111,
              "#482878"
             ],
             [
              0.2222222222222222,
              "#3e4989"
             ],
             [
              0.3333333333333333,
              "#31688e"
             ],
             [
              0.4444444444444444,
              "#26828e"
             ],
             [
              0.5555555555555556,
              "#1f9e89"
             ],
             [
              0.6666666666666666,
              "#35b779"
             ],
             [
              0.7777777777777778,
              "#6ece58"
             ],
             [
              0.8888888888888888,
              "#b5de2b"
             ],
             [
              1,
              "#fde725"
             ]
            ],
            "type": "contour"
           }
          ],
          "contourcarpet": [
           {
            "colorbar": {
             "outlinewidth": 1,
             "tickcolor": "rgb(36,36,36)",
             "ticks": "outside"
            },
            "type": "contourcarpet"
           }
          ],
          "heatmap": [
           {
            "colorbar": {
             "outlinewidth": 1,
             "tickcolor": "rgb(36,36,36)",
             "ticks": "outside"
            },
            "colorscale": [
             [
              0,
              "#440154"
             ],
             [
              0.1111111111111111,
              "#482878"
             ],
             [
              0.2222222222222222,
              "#3e4989"
             ],
             [
              0.3333333333333333,
              "#31688e"
             ],
             [
              0.4444444444444444,
              "#26828e"
             ],
             [
              0.5555555555555556,
              "#1f9e89"
             ],
             [
              0.6666666666666666,
              "#35b779"
             ],
             [
              0.7777777777777778,
              "#6ece58"
             ],
             [
              0.8888888888888888,
              "#b5de2b"
             ],
             [
              1,
              "#fde725"
             ]
            ],
            "type": "heatmap"
           }
          ],
          "heatmapgl": [
           {
            "colorbar": {
             "outlinewidth": 1,
             "tickcolor": "rgb(36,36,36)",
             "ticks": "outside"
            },
            "colorscale": [
             [
              0,
              "#440154"
             ],
             [
              0.1111111111111111,
              "#482878"
             ],
             [
              0.2222222222222222,
              "#3e4989"
             ],
             [
              0.3333333333333333,
              "#31688e"
             ],
             [
              0.4444444444444444,
              "#26828e"
             ],
             [
              0.5555555555555556,
              "#1f9e89"
             ],
             [
              0.6666666666666666,
              "#35b779"
             ],
             [
              0.7777777777777778,
              "#6ece58"
             ],
             [
              0.8888888888888888,
              "#b5de2b"
             ],
             [
              1,
              "#fde725"
             ]
            ],
            "type": "heatmapgl"
           }
          ],
          "histogram": [
           {
            "marker": {
             "line": {
              "color": "white",
              "width": 0.6
             }
            },
            "type": "histogram"
           }
          ],
          "histogram2d": [
           {
            "colorbar": {
             "outlinewidth": 1,
             "tickcolor": "rgb(36,36,36)",
             "ticks": "outside"
            },
            "colorscale": [
             [
              0,
              "#440154"
             ],
             [
              0.1111111111111111,
              "#482878"
             ],
             [
              0.2222222222222222,
              "#3e4989"
             ],
             [
              0.3333333333333333,
              "#31688e"
             ],
             [
              0.4444444444444444,
              "#26828e"
             ],
             [
              0.5555555555555556,
              "#1f9e89"
             ],
             [
              0.6666666666666666,
              "#35b779"
             ],
             [
              0.7777777777777778,
              "#6ece58"
             ],
             [
              0.8888888888888888,
              "#b5de2b"
             ],
             [
              1,
              "#fde725"
             ]
            ],
            "type": "histogram2d"
           }
          ],
          "histogram2dcontour": [
           {
            "colorbar": {
             "outlinewidth": 1,
             "tickcolor": "rgb(36,36,36)",
             "ticks": "outside"
            },
            "colorscale": [
             [
              0,
              "#440154"
             ],
             [
              0.1111111111111111,
              "#482878"
             ],
             [
              0.2222222222222222,
              "#3e4989"
             ],
             [
              0.3333333333333333,
              "#31688e"
             ],
             [
              0.4444444444444444,
              "#26828e"
             ],
             [
              0.5555555555555556,
              "#1f9e89"
             ],
             [
              0.6666666666666666,
              "#35b779"
             ],
             [
              0.7777777777777778,
              "#6ece58"
             ],
             [
              0.8888888888888888,
              "#b5de2b"
             ],
             [
              1,
              "#fde725"
             ]
            ],
            "type": "histogram2dcontour"
           }
          ],
          "mesh3d": [
           {
            "colorbar": {
             "outlinewidth": 1,
             "tickcolor": "rgb(36,36,36)",
             "ticks": "outside"
            },
            "type": "mesh3d"
           }
          ],
          "parcoords": [
           {
            "line": {
             "colorbar": {
              "outlinewidth": 1,
              "tickcolor": "rgb(36,36,36)",
              "ticks": "outside"
             }
            },
            "type": "parcoords"
           }
          ],
          "pie": [
           {
            "automargin": true,
            "type": "pie"
           }
          ],
          "scatter": [
           {
            "fillpattern": {
             "fillmode": "overlay",
             "size": 10,
             "solidity": 0.2
            },
            "type": "scatter"
           }
          ],
          "scatter3d": [
           {
            "line": {
             "colorbar": {
              "outlinewidth": 1,
              "tickcolor": "rgb(36,36,36)",
              "ticks": "outside"
             }
            },
            "marker": {
             "colorbar": {
              "outlinewidth": 1,
              "tickcolor": "rgb(36,36,36)",
              "ticks": "outside"
             }
            },
            "type": "scatter3d"
           }
          ],
          "scattercarpet": [
           {
            "marker": {
             "colorbar": {
              "outlinewidth": 1,
              "tickcolor": "rgb(36,36,36)",
              "ticks": "outside"
             }
            },
            "type": "scattercarpet"
           }
          ],
          "scattergeo": [
           {
            "marker": {
             "colorbar": {
              "outlinewidth": 1,
              "tickcolor": "rgb(36,36,36)",
              "ticks": "outside"
             }
            },
            "type": "scattergeo"
           }
          ],
          "scattergl": [
           {
            "marker": {
             "colorbar": {
              "outlinewidth": 1,
              "tickcolor": "rgb(36,36,36)",
              "ticks": "outside"
             }
            },
            "type": "scattergl"
           }
          ],
          "scattermapbox": [
           {
            "marker": {
             "colorbar": {
              "outlinewidth": 1,
              "tickcolor": "rgb(36,36,36)",
              "ticks": "outside"
             }
            },
            "type": "scattermapbox"
           }
          ],
          "scatterpolar": [
           {
            "marker": {
             "colorbar": {
              "outlinewidth": 1,
              "tickcolor": "rgb(36,36,36)",
              "ticks": "outside"
             }
            },
            "type": "scatterpolar"
           }
          ],
          "scatterpolargl": [
           {
            "marker": {
             "colorbar": {
              "outlinewidth": 1,
              "tickcolor": "rgb(36,36,36)",
              "ticks": "outside"
             }
            },
            "type": "scatterpolargl"
           }
          ],
          "scatterternary": [
           {
            "marker": {
             "colorbar": {
              "outlinewidth": 1,
              "tickcolor": "rgb(36,36,36)",
              "ticks": "outside"
             }
            },
            "type": "scatterternary"
           }
          ],
          "surface": [
           {
            "colorbar": {
             "outlinewidth": 1,
             "tickcolor": "rgb(36,36,36)",
             "ticks": "outside"
            },
            "colorscale": [
             [
              0,
              "#440154"
             ],
             [
              0.1111111111111111,
              "#482878"
             ],
             [
              0.2222222222222222,
              "#3e4989"
             ],
             [
              0.3333333333333333,
              "#31688e"
             ],
             [
              0.4444444444444444,
              "#26828e"
             ],
             [
              0.5555555555555556,
              "#1f9e89"
             ],
             [
              0.6666666666666666,
              "#35b779"
             ],
             [
              0.7777777777777778,
              "#6ece58"
             ],
             [
              0.8888888888888888,
              "#b5de2b"
             ],
             [
              1,
              "#fde725"
             ]
            ],
            "type": "surface"
           }
          ],
          "table": [
           {
            "cells": {
             "fill": {
              "color": "rgb(237,237,237)"
             },
             "line": {
              "color": "white"
             }
            },
            "header": {
             "fill": {
              "color": "rgb(217,217,217)"
             },
             "line": {
              "color": "white"
             }
            },
            "type": "table"
           }
          ]
         },
         "layout": {
          "annotationdefaults": {
           "arrowhead": 0,
           "arrowwidth": 1
          },
          "autotypenumbers": "strict",
          "coloraxis": {
           "colorbar": {
            "outlinewidth": 1,
            "tickcolor": "rgb(36,36,36)",
            "ticks": "outside"
           }
          },
          "colorscale": {
           "diverging": [
            [
             0,
             "rgb(103,0,31)"
            ],
            [
             0.1,
             "rgb(178,24,43)"
            ],
            [
             0.2,
             "rgb(214,96,77)"
            ],
            [
             0.3,
             "rgb(244,165,130)"
            ],
            [
             0.4,
             "rgb(253,219,199)"
            ],
            [
             0.5,
             "rgb(247,247,247)"
            ],
            [
             0.6,
             "rgb(209,229,240)"
            ],
            [
             0.7,
             "rgb(146,197,222)"
            ],
            [
             0.8,
             "rgb(67,147,195)"
            ],
            [
             0.9,
             "rgb(33,102,172)"
            ],
            [
             1,
             "rgb(5,48,97)"
            ]
           ],
           "sequential": [
            [
             0,
             "#440154"
            ],
            [
             0.1111111111111111,
             "#482878"
            ],
            [
             0.2222222222222222,
             "#3e4989"
            ],
            [
             0.3333333333333333,
             "#31688e"
            ],
            [
             0.4444444444444444,
             "#26828e"
            ],
            [
             0.5555555555555556,
             "#1f9e89"
            ],
            [
             0.6666666666666666,
             "#35b779"
            ],
            [
             0.7777777777777778,
             "#6ece58"
            ],
            [
             0.8888888888888888,
             "#b5de2b"
            ],
            [
             1,
             "#fde725"
            ]
           ],
           "sequentialminus": [
            [
             0,
             "#440154"
            ],
            [
             0.1111111111111111,
             "#482878"
            ],
            [
             0.2222222222222222,
             "#3e4989"
            ],
            [
             0.3333333333333333,
             "#31688e"
            ],
            [
             0.4444444444444444,
             "#26828e"
            ],
            [
             0.5555555555555556,
             "#1f9e89"
            ],
            [
             0.6666666666666666,
             "#35b779"
            ],
            [
             0.7777777777777778,
             "#6ece58"
            ],
            [
             0.8888888888888888,
             "#b5de2b"
            ],
            [
             1,
             "#fde725"
            ]
           ]
          },
          "colorway": [
           "#1F77B4",
           "#FF7F0E",
           "#2CA02C",
           "#D62728",
           "#9467BD",
           "#8C564B",
           "#E377C2",
           "#7F7F7F",
           "#BCBD22",
           "#17BECF"
          ],
          "font": {
           "color": "rgb(36,36,36)"
          },
          "geo": {
           "bgcolor": "white",
           "lakecolor": "white",
           "landcolor": "white",
           "showlakes": true,
           "showland": true,
           "subunitcolor": "white"
          },
          "hoverlabel": {
           "align": "left"
          },
          "hovermode": "closest",
          "mapbox": {
           "style": "light"
          },
          "paper_bgcolor": "white",
          "plot_bgcolor": "white",
          "polar": {
           "angularaxis": {
            "gridcolor": "rgb(232,232,232)",
            "linecolor": "rgb(36,36,36)",
            "showgrid": false,
            "showline": true,
            "ticks": "outside"
           },
           "bgcolor": "white",
           "radialaxis": {
            "gridcolor": "rgb(232,232,232)",
            "linecolor": "rgb(36,36,36)",
            "showgrid": false,
            "showline": true,
            "ticks": "outside"
           }
          },
          "scene": {
           "xaxis": {
            "backgroundcolor": "white",
            "gridcolor": "rgb(232,232,232)",
            "gridwidth": 2,
            "linecolor": "rgb(36,36,36)",
            "showbackground": true,
            "showgrid": false,
            "showline": true,
            "ticks": "outside",
            "zeroline": false,
            "zerolinecolor": "rgb(36,36,36)"
           },
           "yaxis": {
            "backgroundcolor": "white",
            "gridcolor": "rgb(232,232,232)",
            "gridwidth": 2,
            "linecolor": "rgb(36,36,36)",
            "showbackground": true,
            "showgrid": false,
            "showline": true,
            "ticks": "outside",
            "zeroline": false,
            "zerolinecolor": "rgb(36,36,36)"
           },
           "zaxis": {
            "backgroundcolor": "white",
            "gridcolor": "rgb(232,232,232)",
            "gridwidth": 2,
            "linecolor": "rgb(36,36,36)",
            "showbackground": true,
            "showgrid": false,
            "showline": true,
            "ticks": "outside",
            "zeroline": false,
            "zerolinecolor": "rgb(36,36,36)"
           }
          },
          "shapedefaults": {
           "fillcolor": "black",
           "line": {
            "width": 0
           },
           "opacity": 0.3
          },
          "ternary": {
           "aaxis": {
            "gridcolor": "rgb(232,232,232)",
            "linecolor": "rgb(36,36,36)",
            "showgrid": false,
            "showline": true,
            "ticks": "outside"
           },
           "baxis": {
            "gridcolor": "rgb(232,232,232)",
            "linecolor": "rgb(36,36,36)",
            "showgrid": false,
            "showline": true,
            "ticks": "outside"
           },
           "bgcolor": "white",
           "caxis": {
            "gridcolor": "rgb(232,232,232)",
            "linecolor": "rgb(36,36,36)",
            "showgrid": false,
            "showline": true,
            "ticks": "outside"
           }
          },
          "title": {
           "x": 0.05
          },
          "xaxis": {
           "automargin": true,
           "gridcolor": "rgb(232,232,232)",
           "linecolor": "rgb(36,36,36)",
           "showgrid": false,
           "showline": true,
           "ticks": "outside",
           "title": {
            "standoff": 15
           },
           "zeroline": false,
           "zerolinecolor": "rgb(36,36,36)"
          },
          "yaxis": {
           "automargin": true,
           "gridcolor": "rgb(232,232,232)",
           "linecolor": "rgb(36,36,36)",
           "showgrid": false,
           "showline": true,
           "ticks": "outside",
           "title": {
            "standoff": 15
           },
           "zeroline": false,
           "zerolinecolor": "rgb(36,36,36)"
          }
         }
        },
        "title": {
         "font": {
          "color": "Black",
          "size": 22
         },
         "text": "<b>Intertopic Distance Map</b>",
         "x": 0.5,
         "xanchor": "center",
         "y": 0.95,
         "yanchor": "top"
        },
        "width": 650,
        "xaxis": {
         "anchor": "y",
         "domain": [
          0,
          1
         ],
         "range": [
          -4.1131057143211365,
          -0.2941241294145584
         ],
         "title": {
          "text": ""
         },
         "visible": false
        },
        "yaxis": {
         "anchor": "x",
         "domain": [
          0,
          1
         ],
         "range": [
          7.970715761184692,
          12.255364179611206
         ],
         "title": {
          "text": ""
         },
         "visible": false
        }
       }
      },
      "text/html": [
       "<div>                            <div id=\"95065e3d-3561-4452-92c8-dba5c2ed382f\" class=\"plotly-graph-div\" style=\"height:650px; width:650px;\"></div>            <script type=\"text/javascript\">                require([\"plotly\"], function(Plotly) {                    window.PLOTLYENV=window.PLOTLYENV || {};                                    if (document.getElementById(\"95065e3d-3561-4452-92c8-dba5c2ed382f\")) {                    Plotly.newPlot(                        \"95065e3d-3561-4452-92c8-dba5c2ed382f\",                        [{\"customdata\":[[0,\"amend | sit | telephon | mail | repons\",341],[1,\"tax | fiscal | habit | revenus | foncier\",249],[2,\"telephon | mail | aucun | contact | repons\",68],[3,\"cas | formulair | prelev | sourc | compt\",54],[4,\"aid | aucun | rempl | imposit | emploi\",21],[5,\"envoy | agent | mail | part | financ\",15]],\"hovertemplate\":\"<b>Topic %{customdata[0]}</b><br>%{customdata[1]}<br>Size: %{customdata[2]}\",\"legendgroup\":\"\",\"marker\":{\"color\":\"#B0BEC5\",\"size\":[341,249,68,54,21,15],\"sizemode\":\"area\",\"sizeref\":0.213125,\"symbol\":\"circle\",\"line\":{\"color\":\"DarkSlateGrey\",\"width\":2}},\"mode\":\"markers\",\"name\":\"\",\"orientation\":\"v\",\"showlegend\":false,\"x\":[-2.39064359664917,-1.678688645362854,-3.192185401916504,-0.8894462585449219,-0.3460283875465393,-3.576613664627075],\"xaxis\":\"x\",\"y\":[9.538366317749023,10.06978702545166,9.377312660217285,10.656838417053223,10.333361625671387,10.008696556091309],\"yaxis\":\"y\",\"type\":\"scatter\"}],                        {\"template\":{\"data\":{\"barpolar\":[{\"marker\":{\"line\":{\"color\":\"white\",\"width\":0.5},\"pattern\":{\"fillmode\":\"overlay\",\"size\":10,\"solidity\":0.2}},\"type\":\"barpolar\"}],\"bar\":[{\"error_x\":{\"color\":\"rgb(36,36,36)\"},\"error_y\":{\"color\":\"rgb(36,36,36)\"},\"marker\":{\"line\":{\"color\":\"white\",\"width\":0.5},\"pattern\":{\"fillmode\":\"overlay\",\"size\":10,\"solidity\":0.2}},\"type\":\"bar\"}],\"carpet\":[{\"aaxis\":{\"endlinecolor\":\"rgb(36,36,36)\",\"gridcolor\":\"white\",\"linecolor\":\"white\",\"minorgridcolor\":\"white\",\"startlinecolor\":\"rgb(36,36,36)\"},\"baxis\":{\"endlinecolor\":\"rgb(36,36,36)\",\"gridcolor\":\"white\",\"linecolor\":\"white\",\"minorgridcolor\":\"white\",\"startlinecolor\":\"rgb(36,36,36)\"},\"type\":\"carpet\"}],\"choropleth\":[{\"colorbar\":{\"outlinewidth\":1,\"tickcolor\":\"rgb(36,36,36)\",\"ticks\":\"outside\"},\"type\":\"choropleth\"}],\"contourcarpet\":[{\"colorbar\":{\"outlinewidth\":1,\"tickcolor\":\"rgb(36,36,36)\",\"ticks\":\"outside\"},\"type\":\"contourcarpet\"}],\"contour\":[{\"colorbar\":{\"outlinewidth\":1,\"tickcolor\":\"rgb(36,36,36)\",\"ticks\":\"outside\"},\"colorscale\":[[0.0,\"#440154\"],[0.1111111111111111,\"#482878\"],[0.2222222222222222,\"#3e4989\"],[0.3333333333333333,\"#31688e\"],[0.4444444444444444,\"#26828e\"],[0.5555555555555556,\"#1f9e89\"],[0.6666666666666666,\"#35b779\"],[0.7777777777777778,\"#6ece58\"],[0.8888888888888888,\"#b5de2b\"],[1.0,\"#fde725\"]],\"type\":\"contour\"}],\"heatmapgl\":[{\"colorbar\":{\"outlinewidth\":1,\"tickcolor\":\"rgb(36,36,36)\",\"ticks\":\"outside\"},\"colorscale\":[[0.0,\"#440154\"],[0.1111111111111111,\"#482878\"],[0.2222222222222222,\"#3e4989\"],[0.3333333333333333,\"#31688e\"],[0.4444444444444444,\"#26828e\"],[0.5555555555555556,\"#1f9e89\"],[0.6666666666666666,\"#35b779\"],[0.7777777777777778,\"#6ece58\"],[0.8888888888888888,\"#b5de2b\"],[1.0,\"#fde725\"]],\"type\":\"heatmapgl\"}],\"heatmap\":[{\"colorbar\":{\"outlinewidth\":1,\"tickcolor\":\"rgb(36,36,36)\",\"ticks\":\"outside\"},\"colorscale\":[[0.0,\"#440154\"],[0.1111111111111111,\"#482878\"],[0.2222222222222222,\"#3e4989\"],[0.3333333333333333,\"#31688e\"],[0.4444444444444444,\"#26828e\"],[0.5555555555555556,\"#1f9e89\"],[0.6666666666666666,\"#35b779\"],[0.7777777777777778,\"#6ece58\"],[0.8888888888888888,\"#b5de2b\"],[1.0,\"#fde725\"]],\"type\":\"heatmap\"}],\"histogram2dcontour\":[{\"colorbar\":{\"outlinewidth\":1,\"tickcolor\":\"rgb(36,36,36)\",\"ticks\":\"outside\"},\"colorscale\":[[0.0,\"#440154\"],[0.1111111111111111,\"#482878\"],[0.2222222222222222,\"#3e4989\"],[0.3333333333333333,\"#31688e\"],[0.4444444444444444,\"#26828e\"],[0.5555555555555556,\"#1f9e89\"],[0.6666666666666666,\"#35b779\"],[0.7777777777777778,\"#6ece58\"],[0.8888888888888888,\"#b5de2b\"],[1.0,\"#fde725\"]],\"type\":\"histogram2dcontour\"}],\"histogram2d\":[{\"colorbar\":{\"outlinewidth\":1,\"tickcolor\":\"rgb(36,36,36)\",\"ticks\":\"outside\"},\"colorscale\":[[0.0,\"#440154\"],[0.1111111111111111,\"#482878\"],[0.2222222222222222,\"#3e4989\"],[0.3333333333333333,\"#31688e\"],[0.4444444444444444,\"#26828e\"],[0.5555555555555556,\"#1f9e89\"],[0.6666666666666666,\"#35b779\"],[0.7777777777777778,\"#6ece58\"],[0.8888888888888888,\"#b5de2b\"],[1.0,\"#fde725\"]],\"type\":\"histogram2d\"}],\"histogram\":[{\"marker\":{\"line\":{\"color\":\"white\",\"width\":0.6}},\"type\":\"histogram\"}],\"mesh3d\":[{\"colorbar\":{\"outlinewidth\":1,\"tickcolor\":\"rgb(36,36,36)\",\"ticks\":\"outside\"},\"type\":\"mesh3d\"}],\"parcoords\":[{\"line\":{\"colorbar\":{\"outlinewidth\":1,\"tickcolor\":\"rgb(36,36,36)\",\"ticks\":\"outside\"}},\"type\":\"parcoords\"}],\"pie\":[{\"automargin\":true,\"type\":\"pie\"}],\"scatter3d\":[{\"line\":{\"colorbar\":{\"outlinewidth\":1,\"tickcolor\":\"rgb(36,36,36)\",\"ticks\":\"outside\"}},\"marker\":{\"colorbar\":{\"outlinewidth\":1,\"tickcolor\":\"rgb(36,36,36)\",\"ticks\":\"outside\"}},\"type\":\"scatter3d\"}],\"scattercarpet\":[{\"marker\":{\"colorbar\":{\"outlinewidth\":1,\"tickcolor\":\"rgb(36,36,36)\",\"ticks\":\"outside\"}},\"type\":\"scattercarpet\"}],\"scattergeo\":[{\"marker\":{\"colorbar\":{\"outlinewidth\":1,\"tickcolor\":\"rgb(36,36,36)\",\"ticks\":\"outside\"}},\"type\":\"scattergeo\"}],\"scattergl\":[{\"marker\":{\"colorbar\":{\"outlinewidth\":1,\"tickcolor\":\"rgb(36,36,36)\",\"ticks\":\"outside\"}},\"type\":\"scattergl\"}],\"scattermapbox\":[{\"marker\":{\"colorbar\":{\"outlinewidth\":1,\"tickcolor\":\"rgb(36,36,36)\",\"ticks\":\"outside\"}},\"type\":\"scattermapbox\"}],\"scatterpolargl\":[{\"marker\":{\"colorbar\":{\"outlinewidth\":1,\"tickcolor\":\"rgb(36,36,36)\",\"ticks\":\"outside\"}},\"type\":\"scatterpolargl\"}],\"scatterpolar\":[{\"marker\":{\"colorbar\":{\"outlinewidth\":1,\"tickcolor\":\"rgb(36,36,36)\",\"ticks\":\"outside\"}},\"type\":\"scatterpolar\"}],\"scatter\":[{\"fillpattern\":{\"fillmode\":\"overlay\",\"size\":10,\"solidity\":0.2},\"type\":\"scatter\"}],\"scatterternary\":[{\"marker\":{\"colorbar\":{\"outlinewidth\":1,\"tickcolor\":\"rgb(36,36,36)\",\"ticks\":\"outside\"}},\"type\":\"scatterternary\"}],\"surface\":[{\"colorbar\":{\"outlinewidth\":1,\"tickcolor\":\"rgb(36,36,36)\",\"ticks\":\"outside\"},\"colorscale\":[[0.0,\"#440154\"],[0.1111111111111111,\"#482878\"],[0.2222222222222222,\"#3e4989\"],[0.3333333333333333,\"#31688e\"],[0.4444444444444444,\"#26828e\"],[0.5555555555555556,\"#1f9e89\"],[0.6666666666666666,\"#35b779\"],[0.7777777777777778,\"#6ece58\"],[0.8888888888888888,\"#b5de2b\"],[1.0,\"#fde725\"]],\"type\":\"surface\"}],\"table\":[{\"cells\":{\"fill\":{\"color\":\"rgb(237,237,237)\"},\"line\":{\"color\":\"white\"}},\"header\":{\"fill\":{\"color\":\"rgb(217,217,217)\"},\"line\":{\"color\":\"white\"}},\"type\":\"table\"}]},\"layout\":{\"annotationdefaults\":{\"arrowhead\":0,\"arrowwidth\":1},\"autotypenumbers\":\"strict\",\"coloraxis\":{\"colorbar\":{\"outlinewidth\":1,\"tickcolor\":\"rgb(36,36,36)\",\"ticks\":\"outside\"}},\"colorscale\":{\"diverging\":[[0.0,\"rgb(103,0,31)\"],[0.1,\"rgb(178,24,43)\"],[0.2,\"rgb(214,96,77)\"],[0.3,\"rgb(244,165,130)\"],[0.4,\"rgb(253,219,199)\"],[0.5,\"rgb(247,247,247)\"],[0.6,\"rgb(209,229,240)\"],[0.7,\"rgb(146,197,222)\"],[0.8,\"rgb(67,147,195)\"],[0.9,\"rgb(33,102,172)\"],[1.0,\"rgb(5,48,97)\"]],\"sequential\":[[0.0,\"#440154\"],[0.1111111111111111,\"#482878\"],[0.2222222222222222,\"#3e4989\"],[0.3333333333333333,\"#31688e\"],[0.4444444444444444,\"#26828e\"],[0.5555555555555556,\"#1f9e89\"],[0.6666666666666666,\"#35b779\"],[0.7777777777777778,\"#6ece58\"],[0.8888888888888888,\"#b5de2b\"],[1.0,\"#fde725\"]],\"sequentialminus\":[[0.0,\"#440154\"],[0.1111111111111111,\"#482878\"],[0.2222222222222222,\"#3e4989\"],[0.3333333333333333,\"#31688e\"],[0.4444444444444444,\"#26828e\"],[0.5555555555555556,\"#1f9e89\"],[0.6666666666666666,\"#35b779\"],[0.7777777777777778,\"#6ece58\"],[0.8888888888888888,\"#b5de2b\"],[1.0,\"#fde725\"]]},\"colorway\":[\"#1F77B4\",\"#FF7F0E\",\"#2CA02C\",\"#D62728\",\"#9467BD\",\"#8C564B\",\"#E377C2\",\"#7F7F7F\",\"#BCBD22\",\"#17BECF\"],\"font\":{\"color\":\"rgb(36,36,36)\"},\"geo\":{\"bgcolor\":\"white\",\"lakecolor\":\"white\",\"landcolor\":\"white\",\"showlakes\":true,\"showland\":true,\"subunitcolor\":\"white\"},\"hoverlabel\":{\"align\":\"left\"},\"hovermode\":\"closest\",\"mapbox\":{\"style\":\"light\"},\"paper_bgcolor\":\"white\",\"plot_bgcolor\":\"white\",\"polar\":{\"angularaxis\":{\"gridcolor\":\"rgb(232,232,232)\",\"linecolor\":\"rgb(36,36,36)\",\"showgrid\":false,\"showline\":true,\"ticks\":\"outside\"},\"bgcolor\":\"white\",\"radialaxis\":{\"gridcolor\":\"rgb(232,232,232)\",\"linecolor\":\"rgb(36,36,36)\",\"showgrid\":false,\"showline\":true,\"ticks\":\"outside\"}},\"scene\":{\"xaxis\":{\"backgroundcolor\":\"white\",\"gridcolor\":\"rgb(232,232,232)\",\"gridwidth\":2,\"linecolor\":\"rgb(36,36,36)\",\"showbackground\":true,\"showgrid\":false,\"showline\":true,\"ticks\":\"outside\",\"zeroline\":false,\"zerolinecolor\":\"rgb(36,36,36)\"},\"yaxis\":{\"backgroundcolor\":\"white\",\"gridcolor\":\"rgb(232,232,232)\",\"gridwidth\":2,\"linecolor\":\"rgb(36,36,36)\",\"showbackground\":true,\"showgrid\":false,\"showline\":true,\"ticks\":\"outside\",\"zeroline\":false,\"zerolinecolor\":\"rgb(36,36,36)\"},\"zaxis\":{\"backgroundcolor\":\"white\",\"gridcolor\":\"rgb(232,232,232)\",\"gridwidth\":2,\"linecolor\":\"rgb(36,36,36)\",\"showbackground\":true,\"showgrid\":false,\"showline\":true,\"ticks\":\"outside\",\"zeroline\":false,\"zerolinecolor\":\"rgb(36,36,36)\"}},\"shapedefaults\":{\"fillcolor\":\"black\",\"line\":{\"width\":0},\"opacity\":0.3},\"ternary\":{\"aaxis\":{\"gridcolor\":\"rgb(232,232,232)\",\"linecolor\":\"rgb(36,36,36)\",\"showgrid\":false,\"showline\":true,\"ticks\":\"outside\"},\"baxis\":{\"gridcolor\":\"rgb(232,232,232)\",\"linecolor\":\"rgb(36,36,36)\",\"showgrid\":false,\"showline\":true,\"ticks\":\"outside\"},\"bgcolor\":\"white\",\"caxis\":{\"gridcolor\":\"rgb(232,232,232)\",\"linecolor\":\"rgb(36,36,36)\",\"showgrid\":false,\"showline\":true,\"ticks\":\"outside\"}},\"title\":{\"x\":0.05},\"xaxis\":{\"automargin\":true,\"gridcolor\":\"rgb(232,232,232)\",\"linecolor\":\"rgb(36,36,36)\",\"showgrid\":false,\"showline\":true,\"ticks\":\"outside\",\"title\":{\"standoff\":15},\"zeroline\":false,\"zerolinecolor\":\"rgb(36,36,36)\"},\"yaxis\":{\"automargin\":true,\"gridcolor\":\"rgb(232,232,232)\",\"linecolor\":\"rgb(36,36,36)\",\"showgrid\":false,\"showline\":true,\"ticks\":\"outside\",\"title\":{\"standoff\":15},\"zeroline\":false,\"zerolinecolor\":\"rgb(36,36,36)\"}}},\"xaxis\":{\"anchor\":\"y\",\"domain\":[0.0,1.0],\"title\":{\"text\":\"\"},\"visible\":false,\"range\":[-4.1131057143211365,-0.2941241294145584]},\"yaxis\":{\"anchor\":\"x\",\"domain\":[0.0,1.0],\"title\":{\"text\":\"\"},\"visible\":false,\"range\":[7.970715761184692,12.255364179611206]},\"legend\":{\"tracegroupgap\":0,\"itemsizing\":\"constant\"},\"margin\":{\"t\":60},\"title\":{\"font\":{\"size\":22,\"color\":\"Black\"},\"text\":\"<b>Intertopic Distance Map</b>\",\"y\":0.95,\"x\":0.5,\"xanchor\":\"center\",\"yanchor\":\"top\"},\"hoverlabel\":{\"font\":{\"size\":16,\"family\":\"Rockwell\"},\"bgcolor\":\"white\"},\"width\":650,\"height\":650,\"sliders\":[{\"active\":0,\"pad\":{\"t\":50},\"steps\":[{\"args\":[{\"marker.color\":[[\"red\",\"#B0BEC5\",\"#B0BEC5\",\"#B0BEC5\",\"#B0BEC5\",\"#B0BEC5\"]]}],\"label\":\"Topic 0\",\"method\":\"update\"},{\"args\":[{\"marker.color\":[[\"#B0BEC5\",\"red\",\"#B0BEC5\",\"#B0BEC5\",\"#B0BEC5\",\"#B0BEC5\"]]}],\"label\":\"Topic 1\",\"method\":\"update\"},{\"args\":[{\"marker.color\":[[\"#B0BEC5\",\"#B0BEC5\",\"red\",\"#B0BEC5\",\"#B0BEC5\",\"#B0BEC5\"]]}],\"label\":\"Topic 2\",\"method\":\"update\"},{\"args\":[{\"marker.color\":[[\"#B0BEC5\",\"#B0BEC5\",\"#B0BEC5\",\"red\",\"#B0BEC5\",\"#B0BEC5\"]]}],\"label\":\"Topic 3\",\"method\":\"update\"},{\"args\":[{\"marker.color\":[[\"#B0BEC5\",\"#B0BEC5\",\"#B0BEC5\",\"#B0BEC5\",\"red\",\"#B0BEC5\"]]}],\"label\":\"Topic 4\",\"method\":\"update\"},{\"args\":[{\"marker.color\":[[\"#B0BEC5\",\"#B0BEC5\",\"#B0BEC5\",\"#B0BEC5\",\"#B0BEC5\",\"red\"]]}],\"label\":\"Topic 5\",\"method\":\"update\"}]}],\"shapes\":[{\"line\":{\"color\":\"#CFD8DC\",\"width\":2},\"type\":\"line\",\"x0\":-2.2036149218678474,\"x1\":-2.2036149218678474,\"y0\":7.970715761184692,\"y1\":12.255364179611206},{\"line\":{\"color\":\"#9E9E9E\",\"width\":2},\"type\":\"line\",\"x0\":-4.1131057143211365,\"x1\":-0.2941241294145584,\"y0\":10.11303997039795,\"y1\":10.11303997039795}],\"annotations\":[{\"showarrow\":false,\"text\":\"D1\",\"x\":-4.1131057143211365,\"y\":10.11303997039795,\"yshift\":10},{\"showarrow\":false,\"text\":\"D2\",\"x\":-2.2036149218678474,\"xshift\":10,\"y\":12.255364179611206}]},                        {\"responsive\": true}                    ).then(function(){\n",
       "                            \n",
       "var gd = document.getElementById('95065e3d-3561-4452-92c8-dba5c2ed382f');\n",
       "var x = new MutationObserver(function (mutations, observer) {{\n",
       "        var display = window.getComputedStyle(gd).display;\n",
       "        if (!display || display === 'none') {{\n",
       "            console.log([gd, 'removed!']);\n",
       "            Plotly.purge(gd);\n",
       "            observer.disconnect();\n",
       "        }}\n",
       "}});\n",
       "\n",
       "// Listen for the removal of the full notebook cells\n",
       "var notebookContainer = gd.closest('#notebook-container');\n",
       "if (notebookContainer) {{\n",
       "    x.observe(notebookContainer, {childList: true});\n",
       "}}\n",
       "\n",
       "// Listen for the clearing of the current output cell\n",
       "var outputEl = gd.closest('.output');\n",
       "if (outputEl) {{\n",
       "    x.observe(outputEl, {childList: true});\n",
       "}}\n",
       "\n",
       "                        })                };                });            </script>        </div>"
      ]
     },
     "metadata": {},
     "output_type": "display_data"
    }
   ],
   "source": [
    "model.visualize_topics()"
   ]
  },
  {
   "cell_type": "code",
   "execution_count": 52,
   "id": "3d3d15a9",
   "metadata": {},
   "outputs": [
    {
     "data": {
      "text/plain": [
       "0       nous avons pas television mais tous les ans no...\n",
       "1       sans trop rentrer dans les details apres moult...\n",
       "2       suis actuellement chine veux acceder page decl...\n",
       "3       bonjourje vis etranger dois effectuer premiere...\n",
       "4       imposition non residents questions par email s...\n",
       "                              ...                        \n",
       "1275    bonjour design president conseil syndical mon ...\n",
       "1276    bonjour sie bombarde saint german laval nous e...\n",
       "1277    bonjour permets vous informer manque certain r...\n",
       "1278    jour toujours recu aucune information part tre...\n",
       "1279    bonjour ayant signal aux services des impots c...\n",
       "Name: desc, Length: 972, dtype: object"
      ]
     },
     "execution_count": 52,
     "metadata": {},
     "output_type": "execute_result"
    }
   ],
   "source": [
    "dgfip_df_neg[\"desc\"]"
   ]
  },
  {
   "cell_type": "code",
   "execution_count": 53,
   "id": "7fcd9ec2",
   "metadata": {},
   "outputs": [],
   "source": [
    "dgfip_df_neg[\"prlvt_source\"]=dgfip_df_neg[\"desc\"].apply(lambda x: \"Oui\" if \"prelevement\" and \"source\" in x else \"Non\")"
   ]
  },
  {
   "cell_type": "code",
   "execution_count": 54,
   "id": "1d19e474",
   "metadata": {},
   "outputs": [],
   "source": [
    "dgfip_df_neg[\"amende\"]=dgfip_df_neg[\"desc\"].apply(lambda x: \"Oui\" if \"amende\" in x else \"Non\")"
   ]
  },
  {
   "cell_type": "code",
   "execution_count": 55,
   "id": "43bdbe03",
   "metadata": {},
   "outputs": [
    {
     "data": {
      "text/plain": [
       "amende\n",
       "Non    845\n",
       "Oui    127\n",
       "Name: count, dtype: int64"
      ]
     },
     "execution_count": 55,
     "metadata": {},
     "output_type": "execute_result"
    }
   ],
   "source": [
    "dgfip_df_neg[\"amende\"].value_counts()"
   ]
  },
  {
   "cell_type": "code",
   "execution_count": null,
   "id": "7e9bfe54",
   "metadata": {},
   "outputs": [],
   "source": []
  },
  {
   "cell_type": "code",
   "execution_count": 56,
   "id": "86319ddc",
   "metadata": {},
   "outputs": [
    {
     "data": {
      "text/plain": [
       "7       suite une amende stationnement percue mois jui...\n",
       "10      date fais objet une saisie pour atd amendes po...\n",
       "133     resident etranger conjoint agent diplomatique ...\n",
       "134     passons sur les conditions application fps con...\n",
       "135     bonjour conduisais scooter mon fils paris verb...\n",
       "                              ...                        \n",
       "1227    suis retrouvee deux reprises devoir regler des...\n",
       "1230    cre societ sur site inpi arrive pas avoir mon ...\n",
       "1241    bonjour mars confie voiture garage citroen voi...\n",
       "1253    achete une voiture neuve garage reprend mon an...\n",
       "1274    bonjour service tresorerie amendes rouen injoi...\n",
       "Name: desc, Length: 127, dtype: object"
      ]
     },
     "execution_count": 56,
     "metadata": {},
     "output_type": "execute_result"
    }
   ],
   "source": [
    "dgfip_df_neg[\"desc\"][dgfip_df_neg[\"amende\"]==\"Oui\"]"
   ]
  },
  {
   "cell_type": "code",
   "execution_count": 57,
   "id": "40bfbcf4",
   "metadata": {},
   "outputs": [],
   "source": [
    "dgfip_df_neg[\"telephone\"]=dgfip_df_neg[\"desc\"].apply(lambda x: \"Oui\" if \"telephone\" in x else \"Non\")"
   ]
  },
  {
   "cell_type": "code",
   "execution_count": 58,
   "id": "136f1067",
   "metadata": {},
   "outputs": [
    {
     "data": {
      "text/plain": [
       "telephone\n",
       "Non    767\n",
       "Oui    205\n",
       "Name: count, dtype: int64"
      ]
     },
     "execution_count": 58,
     "metadata": {},
     "output_type": "execute_result"
    }
   ],
   "source": [
    "dgfip_df_neg[\"telephone\"].value_counts()"
   ]
  },
  {
   "cell_type": "code",
   "execution_count": 59,
   "id": "10860a06",
   "metadata": {},
   "outputs": [],
   "source": [
    "dgfip_df_neg_tel=dgfip_df_neg[dgfip_df_neg[\"telephone\"]==\"Oui\"]"
   ]
  },
  {
   "cell_type": "code",
   "execution_count": 60,
   "id": "270e904d",
   "metadata": {},
   "outputs": [
    {
     "name": "stdout",
     "output_type": "stream",
     "text": [
      "<class 'pandas.core.frame.DataFrame'>\n",
      "Index: 205 entries, 3 to 1275\n",
      "Data columns (total 8 columns):\n",
      " #   Column                    Non-Null Count  Dtype \n",
      "---  ------                    --------------  ----- \n",
      " 0   Description               205 non-null    object\n",
      " 1   Adresse                   0 non-null      object\n",
      " 2   Intitulé de la structure  205 non-null    object\n",
      " 3   desc                      205 non-null    object\n",
      " 4   desc_clean                205 non-null    object\n",
      " 5   prlvt_source              205 non-null    object\n",
      " 6   amende                    205 non-null    object\n",
      " 7   telephone                 205 non-null    object\n",
      "dtypes: object(8)\n",
      "memory usage: 14.4+ KB\n"
     ]
    }
   ],
   "source": [
    "dgfip_df_neg_tel.info()"
   ]
  },
  {
   "cell_type": "code",
   "execution_count": 61,
   "id": "03be5115",
   "metadata": {},
   "outputs": [],
   "source": [
    "from sklearn.decomposition import PCA"
   ]
  },
  {
   "cell_type": "code",
   "execution_count": 62,
   "id": "52db8cec",
   "metadata": {},
   "outputs": [
    {
     "name": "stdout",
     "output_type": "stream",
     "text": [
      "  (0, 336)\t0.22865844160938104\n",
      "  (0, 1507)\t0.35910261187699893\n",
      "  (0, 478)\t0.30831219104671764\n",
      "  (0, 1587)\t0.2764290014149682\n",
      "  (0, 234)\t0.26963246273267916\n",
      "  (0, 1742)\t0.258720978343748\n",
      "  (0, 1446)\t0.456928882482432\n",
      "  (0, 1750)\t0.5466891420281756\n",
      "  (1, 1885)\t0.15982575046858002\n",
      "  (1, 1857)\t0.18855629494737494\n",
      "  (1, 257)\t0.1500408726434747\n",
      "  (1, 400)\t0.1367557407828335\n",
      "  (1, 852)\t0.14540583348589944\n",
      "  (1, 1583)\t0.15552296040304253\n",
      "  (1, 754)\t0.09105725998994456\n",
      "  (1, 33)\t0.08901410339094652\n",
      "  (1, 627)\t0.13274068723734286\n",
      "  (1, 1140)\t0.15982575046858002\n",
      "  (1, 1238)\t0.17843916803023185\n",
      "  (1, 1574)\t0.13004620762176808\n",
      "  (1, 932)\t0.15982575046858002\n",
      "  (1, 530)\t0.12316534501203176\n",
      "  (1, 1233)\t0.09082326474763297\n",
      "  (1, 959)\t0.09480503855880365\n",
      "  (1, 962)\t0.18855629494737494\n",
      "  :\t:\n",
      "  (971, 383)\t0.11259992522038312\n",
      "  (971, 623)\t0.1305510717405784\n",
      "  (971, 577)\t0.12703640747099895\n",
      "  (971, 17)\t0.1084270771863061\n",
      "  (971, 1565)\t0.09846854939727863\n",
      "  (971, 1302)\t0.11997071955944671\n",
      "  (971, 292)\t0.12255845300941062\n",
      "  (971, 251)\t0.27398987052005286\n",
      "  (971, 775)\t0.10622613521941332\n",
      "  (971, 620)\t0.16716279702075706\n",
      "  (971, 1155)\t0.09178965296879747\n",
      "  (971, 745)\t0.08414603835612315\n",
      "  (971, 598)\t0.10060561421095827\n",
      "  (971, 1445)\t0.09951384551377408\n",
      "  (971, 1336)\t0.07832512584291978\n",
      "  (971, 411)\t0.10294650385886697\n",
      "  (971, 1723)\t0.11449014623200754\n",
      "  (971, 1648)\t0.18597595213967894\n",
      "  (971, 1543)\t0.10294650385886697\n",
      "  (971, 469)\t0.08654411255039139\n",
      "  (971, 434)\t0.08851002160825112\n",
      "  (971, 1297)\t0.08019732722676141\n",
      "  (971, 375)\t0.06967784434956371\n",
      "  (971, 340)\t0.08248962981319434\n",
      "  (971, 478)\t0.08686102987092488\n"
     ]
    }
   ],
   "source": [
    "print(X_dgfip)"
   ]
  },
  {
   "cell_type": "code",
   "execution_count": 63,
   "id": "fa2b7fb5",
   "metadata": {},
   "outputs": [
    {
     "name": "stdout",
     "output_type": "stream",
     "text": [
      "For 5 components, the coherence score_cv is: 0.3556306718436082\n",
      "For 5 components, the coherence score_umass is: -1.4653189486904281\n",
      "For 5 components, the coherence score_cnpmi is: -0.001104013426066795\n",
      "\n",
      "\n",
      "For 6 components, the coherence score_cv is: 0.3605571920252435\n",
      "For 6 components, the coherence score_umass is: -1.506567070255989\n",
      "For 6 components, the coherence score_cnpmi is: -5.688352203839968e-05\n",
      "\n",
      "\n",
      "For 7 components, the coherence score_cv is: 0.32623965045829084\n",
      "For 7 components, the coherence score_umass is: -1.4695161921399402\n",
      "For 7 components, the coherence score_cnpmi is: -0.010232646958385173\n",
      "\n",
      "\n",
      "For 8 components, the coherence score_cv is: 0.3336596405524188\n",
      "For 8 components, the coherence score_umass is: -1.5019917078841216\n",
      "For 8 components, the coherence score_cnpmi is: -0.009144609929463934\n",
      "\n",
      "\n",
      "For 9 components, the coherence score_cv is: 0.32672772122741506\n",
      "For 9 components, the coherence score_umass is: -1.5853837494241103\n",
      "For 9 components, the coherence score_cnpmi is: -0.005578912672717308\n",
      "\n",
      "\n",
      "For 10 components, the coherence score_cv is: 0.3137612315517162\n",
      "For 10 components, the coherence score_umass is: -1.623015280142185\n",
      "For 10 components, the coherence score_cnpmi is: -0.015578760933762242\n",
      "\n",
      "\n",
      "For 11 components, the coherence score_cv is: 0.30762786402356407\n",
      "For 11 components, the coherence score_umass is: -1.7746047722816862\n",
      "For 11 components, the coherence score_cnpmi is: -0.01459461889443315\n",
      "\n",
      "\n"
     ]
    }
   ],
   "source": [
    "find_best_LDA(token_dgfip)"
   ]
  },
  {
   "cell_type": "code",
   "execution_count": null,
   "id": "898b1b34",
   "metadata": {},
   "outputs": [],
   "source": []
  }
 ],
 "metadata": {
  "kernelspec": {
   "display_name": "Python 3 (ipykernel)",
   "language": "python",
   "name": "python3"
  },
  "language_info": {
   "codemirror_mode": {
    "name": "ipython",
    "version": 3
   },
   "file_extension": ".py",
   "mimetype": "text/x-python",
   "name": "python",
   "nbconvert_exporter": "python",
   "pygments_lexer": "ipython3",
   "version": "3.10.11"
  }
 },
 "nbformat": 4,
 "nbformat_minor": 5
}
